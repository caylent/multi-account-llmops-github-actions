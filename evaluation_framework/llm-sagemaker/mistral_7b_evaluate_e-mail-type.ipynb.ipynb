{
 "cells": [
  {
   "cell_type": "markdown",
   "id": "2412a160-b52b-437a-8fdb-c406cc559358",
   "metadata": {},
   "source": [
    "### Set-up: The jupyter notebook expects the following:\n",
    "    1. The test data is cleaned, uploaded into s3 for quick evaluation:\n",
    "        s3 URI: s3://sagemaker-sigparser-caylent-mlops/data/email-type/input/processed/\n",
    "    2. To test the e-mail type, the data should have the columns - Email Address, Email Address Name, Email Address Display Name and Email Type\n",
    "    3. The prompt is created in the prompts/email-type.py\n",
    "    4. The endpoint is deployed in sagemaker for inference.\n",
    "    5. Make sure to initialize all the pre-requisites in the section: Pre-requisites\n",
    "\n",
    "\n",
    "### Output:\n",
    "    1. Evaluation results, along with the prediction results are saved in the s3, based on the model used:\n",
    "        s3 URI: s3://sagemaker-sigparser-caylent-mlops/data/email-type/output/Mistral-7B/\n",
    "    2. Confusion matrix with all the relevant data is generated within the jupyter notebook."
   ]
  },
  {
   "cell_type": "markdown",
   "id": "5ee66a3e-cd80-4fcc-9c9d-2a9877893373",
   "metadata": {},
   "source": [
    "#### model: Mistral_7B\n",
    "#### endpoint_name = 'hf-llm-mistral-7b-2024-03-26-20-15-13-644'"
   ]
  },
  {
   "cell_type": "code",
   "execution_count": 2,
   "id": "dc9568d3-83da-41aa-8197-ffb39cbca499",
   "metadata": {
    "tags": []
   },
   "outputs": [],
   "source": [
    "from concurrent.futures import ThreadPoolExecutor\n",
    "from tqdm import tqdm\n",
    "import pandas as pd\n",
    "import sys\n",
    "import datetime\n",
    "sys.path.append('..')\n",
    "from utils.metrics import Evaluate\n",
    "from utils.utils import Mistral_7B_V1\n",
    "from prompts.email_type import prompt_email_type\n",
    "from utils.s3_helper import read_s3_csv_to_dataframe, upload_dataframe_to_s3, upload_data_to_s3"
   ]
  },
  {
   "cell_type": "markdown",
   "id": "a3c79fe7-6358-4764-9223-2d96d4b7493b",
   "metadata": {
    "tags": []
   },
   "source": [
    "####  Pre-requisites: Initialize"
   ]
  },
  {
   "cell_type": "code",
   "execution_count": 3,
   "id": "6b32e05f-e578-4b3f-8c96-7b67bcd274ba",
   "metadata": {
    "tags": []
   },
   "outputs": [],
   "source": [
    "# endpoint annd model data\n",
    "endpoint_name = 'hf-llm-mistral-7b-2024-03-26-20-15-13-644'\n",
    "model = \"Mistral-7B\"\n",
    "model_version = \"2.3.0\"\n",
    "model_id = \"huggingface-llm-mistral-7b\"\n",
    "\n",
    "# s3bucket used\n",
    "bucket_name = 'sagemaker-sigparser-caylent-mlops'\n",
    "\n",
    "# input data\n",
    "# s3_file_name = 'data/email-type/input/processed/cleaned_test_data.csv'\n",
    "s3_file_key = 'data/email-type/input/processed/25-03-2024_test.csv'"
   ]
  },
  {
   "cell_type": "markdown",
   "id": "348c0208-628b-4015-a77d-26885724e2b5",
   "metadata": {},
   "source": [
    "###  Load the Test  Dataset"
   ]
  },
  {
   "cell_type": "code",
   "execution_count": 4,
   "id": "3644a2f5-e4e3-4f89-bb71-24611c4d9076",
   "metadata": {
    "tags": []
   },
   "outputs": [
    {
     "data": {
      "text/plain": [
       "(2000, 4)"
      ]
     },
     "execution_count": 4,
     "metadata": {},
     "output_type": "execute_result"
    }
   ],
   "source": [
    "cleaned_holdout_df = read_s3_csv_to_dataframe(bucket_name, s3_file_key)\n",
    "\n",
    "# Use the below code to read the cleaned data locally\n",
    "# cleaned_holdout_df = pd.read_csv('../data/test-data/data-March-11/cleaned_test_data.csv')\n",
    "cleaned_holdout_df.shape"
   ]
  },
  {
   "cell_type": "markdown",
   "id": "0a3b85a2-d3f5-4faa-8c2e-853114912346",
   "metadata": {
    "tags": []
   },
   "source": [
    "#### Configure test records"
   ]
  },
  {
   "cell_type": "code",
   "execution_count": 5,
   "id": "6beb90a2-aa51-41c9-8a2e-782e5fce05b2",
   "metadata": {
    "tags": []
   },
   "outputs": [
    {
     "data": {
      "text/plain": [
       "Email Address                 !india_cbre-marketing@cbre.com\n",
       "Email Address Name                     !india_cbre-marketing\n",
       "Email Address Display Name              CBRE India Marketing\n",
       "Email Type                                        Non-Person\n",
       "Name: 0, dtype: object"
      ]
     },
     "execution_count": 5,
     "metadata": {},
     "output_type": "execute_result"
    }
   ],
   "source": [
    "# set the record_count number accordingly for quick test purpose(number should be between)\n",
    "# by default we can use the length of the dataframe itself.\n",
    "# record_count = len(cleaned_holdout_df)\n",
    "record_count = 5\n",
    "temp_test_data = \"\"\n",
    "temp_test_data = cleaned_holdout_df.head(record_count).copy()\n",
    "temp_test_data.iloc[0]"
   ]
  },
  {
   "cell_type": "code",
   "execution_count": 6,
   "id": "74ec74b5-ebaf-4d59-8457-fc25ad139e1e",
   "metadata": {
    "tags": []
   },
   "outputs": [
    {
     "data": {
      "text/plain": [
       "(5, 4)"
      ]
     },
     "execution_count": 6,
     "metadata": {},
     "output_type": "execute_result"
    }
   ],
   "source": [
    "temp_test_data.shape"
   ]
  },
  {
   "cell_type": "code",
   "execution_count": 7,
   "id": "61402e51-073e-4e5b-818c-2331c0f48196",
   "metadata": {
    "tags": []
   },
   "outputs": [
    {
     "data": {
      "text/html": [
       "<div>\n",
       "<style scoped>\n",
       "    .dataframe tbody tr th:only-of-type {\n",
       "        vertical-align: middle;\n",
       "    }\n",
       "\n",
       "    .dataframe tbody tr th {\n",
       "        vertical-align: top;\n",
       "    }\n",
       "\n",
       "    .dataframe thead th {\n",
       "        text-align: right;\n",
       "    }\n",
       "</style>\n",
       "<table border=\"1\" class=\"dataframe\">\n",
       "  <thead>\n",
       "    <tr style=\"text-align: right;\">\n",
       "      <th></th>\n",
       "      <th>Email Address</th>\n",
       "      <th>Email Address Name</th>\n",
       "      <th>Email Address Display Name</th>\n",
       "      <th>Email Type</th>\n",
       "    </tr>\n",
       "  </thead>\n",
       "  <tbody>\n",
       "    <tr>\n",
       "      <th>0</th>\n",
       "      <td>!india_cbre-marketing@cbre.com</td>\n",
       "      <td>!india_cbre-marketing</td>\n",
       "      <td>CBRE India Marketing</td>\n",
       "      <td>Non-Person</td>\n",
       "    </tr>\n",
       "    <tr>\n",
       "      <th>1</th>\n",
       "      <td>000956928@dxb.icbc</td>\n",
       "      <td>956928</td>\n",
       "      <td>柏佳宁Bai_jianing</td>\n",
       "      <td>Non-Person</td>\n",
       "    </tr>\n",
       "    <tr>\n",
       "      <th>2</th>\n",
       "      <td>01b8db1c882@syins.co.nz</td>\n",
       "      <td>01b8db1c882</td>\n",
       "      <td>☎ \"Ring Central®\"=+== (vn.notification_service...</td>\n",
       "      <td>Non-Person</td>\n",
       "    </tr>\n",
       "    <tr>\n",
       "      <th>3</th>\n",
       "      <td>03501ybr@alight.com</td>\n",
       "      <td>03501ybr</td>\n",
       "      <td>MyAccount Resource Center</td>\n",
       "      <td>Non-Person</td>\n",
       "    </tr>\n",
       "    <tr>\n",
       "      <th>4</th>\n",
       "      <td>05inmuebles@gmail.com</td>\n",
       "      <td>05inmuebles</td>\n",
       "      <td>HirCasa</td>\n",
       "      <td>Non-Person</td>\n",
       "    </tr>\n",
       "  </tbody>\n",
       "</table>\n",
       "</div>"
      ],
      "text/plain": [
       "                    Email Address     Email Address Name  \\\n",
       "0  !india_cbre-marketing@cbre.com  !india_cbre-marketing   \n",
       "1              000956928@dxb.icbc                 956928   \n",
       "2         01b8db1c882@syins.co.nz            01b8db1c882   \n",
       "3             03501ybr@alight.com               03501ybr   \n",
       "4           05inmuebles@gmail.com            05inmuebles   \n",
       "\n",
       "                          Email Address Display Name  Email Type  \n",
       "0                               CBRE India Marketing  Non-Person  \n",
       "1                                     柏佳宁Bai_jianing  Non-Person  \n",
       "2  ☎ \"Ring Central®\"=+== (vn.notification_service...  Non-Person  \n",
       "3                          MyAccount Resource Center  Non-Person  \n",
       "4                                            HirCasa  Non-Person  "
      ]
     },
     "execution_count": 7,
     "metadata": {},
     "output_type": "execute_result"
    }
   ],
   "source": [
    "temp_test_data"
   ]
  },
  {
   "cell_type": "markdown",
   "id": "7deca8a8-4f24-4818-92a6-54dead7c06c0",
   "metadata": {},
   "source": [
    "#### Get the prompt and print prompt version to confirm."
   ]
  },
  {
   "cell_type": "code",
   "execution_count": 8,
   "id": "03872266-8727-41ce-b61f-0750df6f542e",
   "metadata": {
    "tags": []
   },
   "outputs": [
    {
     "name": "stdout",
     "output_type": "stream",
     "text": [
      " prompt_version: version-6\n"
     ]
    }
   ],
   "source": [
    "system_prompt = prompt_email_type[\"system_prompt\"]\n",
    "instruction = prompt_email_type[\"instruction\"]\n",
    "prompt_version = prompt_email_type[\"prompt_version\"]\n",
    "prompt_type = prompt_email_type[\"prompt_type\"]\n",
    "print(\" prompt_version:\", prompt_version)"
   ]
  },
  {
   "cell_type": "markdown",
   "id": "9087ffda-f056-406a-b22d-442efc809804",
   "metadata": {},
   "source": [
    "#### Prepare the user ask with all the relevant data for the question"
   ]
  },
  {
   "cell_type": "code",
   "execution_count": 9,
   "id": "d548fb5c-8c7f-4e69-b168-2a66315c085e",
   "metadata": {
    "tags": []
   },
   "outputs": [],
   "source": [
    "def get_context(email_address, email_address_name, email_display_name):\n",
    "    email_address = email_address.strip()\n",
    "    email_address_name = email_address_name.strip()\n",
    "    email_display_name = email_display_name.strip()\n",
    "    context_input_str = f\"\"\"Input:\"\"\"\n",
    "    context_data = f\"\"\"{{\"email_address\":\"{email_address}\", \"email_address_name\":\"{email_address_name}\", \"email_display_name\":\"{email_display_name}\"}}\"\"\"\n",
    "    context = context_input_str.strip() + context_data.strip()\n",
    "    return context\n",
    "\n",
    "\n",
    "contexts = temp_test_data.apply(lambda x: get_context(x['Email Address'], x['Email Address Name'], x['Email Address Display Name']), axis=1)"
   ]
  },
  {
   "cell_type": "code",
   "execution_count": 10,
   "id": "73112501-6d2f-4ba1-9a82-121b84a382f7",
   "metadata": {
    "tags": []
   },
   "outputs": [
    {
     "data": {
      "text/plain": [
       "'Input:{\"email_address\":\"!india_cbre-marketing@cbre.com\", \"email_address_name\":\"!india_cbre-marketing\", \"email_display_name\":\"CBRE India Marketing\"}'"
      ]
     },
     "execution_count": 10,
     "metadata": {},
     "output_type": "execute_result"
    }
   ],
   "source": [
    "contexts[0]"
   ]
  },
  {
   "cell_type": "markdown",
   "id": "64607ea9-0918-46e6-b146-cf55500fdfe6",
   "metadata": {},
   "source": [
    "### Prepare the prompts for all the test records"
   ]
  },
  {
   "cell_type": "code",
   "execution_count": 11,
   "id": "2dd502aa-ad6f-4c25-99fd-fdd3b617e25e",
   "metadata": {
    "tags": []
   },
   "outputs": [
    {
     "data": {
      "text/html": [
       "<div>\n",
       "<style scoped>\n",
       "    .dataframe tbody tr th:only-of-type {\n",
       "        vertical-align: middle;\n",
       "    }\n",
       "\n",
       "    .dataframe tbody tr th {\n",
       "        vertical-align: top;\n",
       "    }\n",
       "\n",
       "    .dataframe thead th {\n",
       "        text-align: right;\n",
       "    }\n",
       "</style>\n",
       "<table border=\"1\" class=\"dataframe\">\n",
       "  <thead>\n",
       "    <tr style=\"text-align: right;\">\n",
       "      <th></th>\n",
       "      <th>system_prompt</th>\n",
       "      <th>instruction</th>\n",
       "      <th>context</th>\n",
       "      <th>prompt_type</th>\n",
       "    </tr>\n",
       "  </thead>\n",
       "  <tbody>\n",
       "    <tr>\n",
       "      <th>0</th>\n",
       "      <td>You are a helpful and detail-oriented assistan...</td>\n",
       "      <td>Please classify this email address for me. All...</td>\n",
       "      <td>Input:{\"email_address\":\"!india_cbre-marketing@...</td>\n",
       "      <td>email-type</td>\n",
       "    </tr>\n",
       "    <tr>\n",
       "      <th>1</th>\n",
       "      <td>You are a helpful and detail-oriented assistan...</td>\n",
       "      <td>Please classify this email address for me. All...</td>\n",
       "      <td>Input:{\"email_address\":\"000956928@dxb.icbc\", \"...</td>\n",
       "      <td>email-type</td>\n",
       "    </tr>\n",
       "    <tr>\n",
       "      <th>2</th>\n",
       "      <td>You are a helpful and detail-oriented assistan...</td>\n",
       "      <td>Please classify this email address for me. All...</td>\n",
       "      <td>Input:{\"email_address\":\"01b8db1c882@syins.co.n...</td>\n",
       "      <td>email-type</td>\n",
       "    </tr>\n",
       "    <tr>\n",
       "      <th>3</th>\n",
       "      <td>You are a helpful and detail-oriented assistan...</td>\n",
       "      <td>Please classify this email address for me. All...</td>\n",
       "      <td>Input:{\"email_address\":\"03501ybr@alight.com\", ...</td>\n",
       "      <td>email-type</td>\n",
       "    </tr>\n",
       "    <tr>\n",
       "      <th>4</th>\n",
       "      <td>You are a helpful and detail-oriented assistan...</td>\n",
       "      <td>Please classify this email address for me. All...</td>\n",
       "      <td>Input:{\"email_address\":\"05inmuebles@gmail.com\"...</td>\n",
       "      <td>email-type</td>\n",
       "    </tr>\n",
       "  </tbody>\n",
       "</table>\n",
       "</div>"
      ],
      "text/plain": [
       "                                       system_prompt  \\\n",
       "0  You are a helpful and detail-oriented assistan...   \n",
       "1  You are a helpful and detail-oriented assistan...   \n",
       "2  You are a helpful and detail-oriented assistan...   \n",
       "3  You are a helpful and detail-oriented assistan...   \n",
       "4  You are a helpful and detail-oriented assistan...   \n",
       "\n",
       "                                         instruction  \\\n",
       "0  Please classify this email address for me. All...   \n",
       "1  Please classify this email address for me. All...   \n",
       "2  Please classify this email address for me. All...   \n",
       "3  Please classify this email address for me. All...   \n",
       "4  Please classify this email address for me. All...   \n",
       "\n",
       "                                             context prompt_type  \n",
       "0  Input:{\"email_address\":\"!india_cbre-marketing@...  email-type  \n",
       "1  Input:{\"email_address\":\"000956928@dxb.icbc\", \"...  email-type  \n",
       "2  Input:{\"email_address\":\"01b8db1c882@syins.co.n...  email-type  \n",
       "3  Input:{\"email_address\":\"03501ybr@alight.com\", ...  email-type  \n",
       "4  Input:{\"email_address\":\"05inmuebles@gmail.com\"...  email-type  "
      ]
     },
     "execution_count": 11,
     "metadata": {},
     "output_type": "execute_result"
    }
   ],
   "source": [
    "prompt_df = pd.DataFrame({'system_prompt':system_prompt,\n",
    "                         'instruction':instruction,\n",
    "                          'context': contexts,\n",
    "                         'prompt_type':prompt_type\n",
    "                        })\n",
    "prompt_df.head()"
   ]
  },
  {
   "cell_type": "markdown",
   "id": "0a8c136f-9281-4c31-915a-d7070c0bb1bf",
   "metadata": {},
   "source": [
    "### Init Mistral_7B endpoint"
   ]
  },
  {
   "cell_type": "code",
   "execution_count": 12,
   "id": "4e952774-b75f-4238-aa34-e62a97b98380",
   "metadata": {
    "tags": []
   },
   "outputs": [],
   "source": [
    "# Mistral_7B\n",
    "mistral = Mistral_7B_V1(endpoint_name=endpoint_name)"
   ]
  },
  {
   "cell_type": "markdown",
   "id": "0e266a50-6752-4e36-87a5-79d199ff809e",
   "metadata": {},
   "source": [
    "#### Use pool of worker threads for for concurrent execution of tasks"
   ]
  },
  {
   "cell_type": "code",
   "execution_count": 13,
   "id": "53356eac-65f2-4521-9f1e-ae6826c101f4",
   "metadata": {
    "tags": []
   },
   "outputs": [
    {
     "name": "stderr",
     "output_type": "stream",
     "text": [
      "100%|██████████| 5/5 [00:01<00:00,  4.57it/s]"
     ]
    },
    {
     "name": "stdout",
     "output_type": "stream",
     "text": [
      "Function 'query_mistral_endpoint' took 1.10994 seconds to execute.\n",
      "Function 'check_email_type' took 0.00020 seconds to execute.\n",
      "Function 'extract_results' took 0.00021 seconds to execute.\n",
      "Function 'get_results' took 1.11048 seconds to execute.\n",
      "Function 'query_mistral_endpoint' took 1.11869 seconds to execute.\n",
      "Function 'check_email_type' took 0.00001 seconds to execute.\n",
      "Function 'extract_results' took 0.00004 seconds to execute.\n",
      "Function 'get_results' took 1.11888 seconds to execute.\n",
      "Function 'query_mistral_endpoint' took 1.11505 seconds to execute.\n",
      "Function 'check_email_type' took 0.00001 seconds to execute.\n",
      "Function 'extract_results' took 0.00001 seconds to execute.\n",
      "Function 'get_results' took 1.11516 seconds to execute.\n",
      "Function 'query_mistral_endpoint' took 1.10681 seconds to execute.\n",
      "Function 'check_email_type' took 0.00001 seconds to execute.\n",
      "Function 'extract_results' took 0.00001 seconds to execute.\n",
      "Function 'get_results' took 1.10703 seconds to execute.\n",
      "Function 'query_mistral_endpoint' took 1.11836 seconds to execute.\n",
      "Function 'check_email_type' took 0.00001 seconds to execute.\n",
      "Function 'extract_results' took 0.00001 seconds to execute.\n",
      "Function 'get_results' took 1.11847 seconds to execute.\n",
      "CPU times: user 95.7 ms, sys: 11.5 ms, total: 107 ms\n",
      "Wall time: 1.12 s\n"
     ]
    },
    {
     "name": "stderr",
     "output_type": "stream",
     "text": [
      "\n"
     ]
    }
   ],
   "source": [
    "%%time\n",
    "results = \"\"\n",
    "with ThreadPoolExecutor() as executor:\n",
    "    results = list(tqdm(executor.map(mistral.get_results, prompt_df.iterrows()), total=len(prompt_df)))"
   ]
  },
  {
   "cell_type": "markdown",
   "id": "d0c2af3e-302f-482a-8109-a9e91a330658",
   "metadata": {},
   "source": [
    "#### Results post processing"
   ]
  },
  {
   "cell_type": "code",
   "execution_count": 14,
   "id": "222330e7-93df-4e22-900a-6bfe2f667108",
   "metadata": {
    "tags": []
   },
   "outputs": [
    {
     "data": {
      "text/html": [
       "<div>\n",
       "<style scoped>\n",
       "    .dataframe tbody tr th:only-of-type {\n",
       "        vertical-align: middle;\n",
       "    }\n",
       "\n",
       "    .dataframe tbody tr th {\n",
       "        vertical-align: top;\n",
       "    }\n",
       "\n",
       "    .dataframe thead th {\n",
       "        text-align: right;\n",
       "    }\n",
       "</style>\n",
       "<table border=\"1\" class=\"dataframe\">\n",
       "  <thead>\n",
       "    <tr style=\"text-align: right;\">\n",
       "      <th></th>\n",
       "      <th>Email Address</th>\n",
       "      <th>Email Address Name</th>\n",
       "      <th>Email Address Display Name</th>\n",
       "      <th>Email Type</th>\n",
       "      <th>pred_email_type</th>\n",
       "    </tr>\n",
       "  </thead>\n",
       "  <tbody>\n",
       "    <tr>\n",
       "      <th>0</th>\n",
       "      <td>!india_cbre-marketing@cbre.com</td>\n",
       "      <td>!india_cbre-marketing</td>\n",
       "      <td>CBRE India Marketing</td>\n",
       "      <td>Non-Person</td>\n",
       "      <td>Non-Person</td>\n",
       "    </tr>\n",
       "    <tr>\n",
       "      <th>1</th>\n",
       "      <td>000956928@dxb.icbc</td>\n",
       "      <td>956928</td>\n",
       "      <td>柏佳宁Bai_jianing</td>\n",
       "      <td>Non-Person</td>\n",
       "      <td>Non-Person</td>\n",
       "    </tr>\n",
       "    <tr>\n",
       "      <th>2</th>\n",
       "      <td>01b8db1c882@syins.co.nz</td>\n",
       "      <td>01b8db1c882</td>\n",
       "      <td>☎ \"Ring Central®\"=+== (vn.notification_service...</td>\n",
       "      <td>Non-Person</td>\n",
       "      <td>Non-Person</td>\n",
       "    </tr>\n",
       "    <tr>\n",
       "      <th>3</th>\n",
       "      <td>03501ybr@alight.com</td>\n",
       "      <td>03501ybr</td>\n",
       "      <td>MyAccount Resource Center</td>\n",
       "      <td>Non-Person</td>\n",
       "      <td>Non-Person</td>\n",
       "    </tr>\n",
       "    <tr>\n",
       "      <th>4</th>\n",
       "      <td>05inmuebles@gmail.com</td>\n",
       "      <td>05inmuebles</td>\n",
       "      <td>HirCasa</td>\n",
       "      <td>Non-Person</td>\n",
       "      <td>Non-Person</td>\n",
       "    </tr>\n",
       "  </tbody>\n",
       "</table>\n",
       "</div>"
      ],
      "text/plain": [
       "                    Email Address     Email Address Name  \\\n",
       "0  !india_cbre-marketing@cbre.com  !india_cbre-marketing   \n",
       "1              000956928@dxb.icbc                 956928   \n",
       "2         01b8db1c882@syins.co.nz            01b8db1c882   \n",
       "3             03501ybr@alight.com               03501ybr   \n",
       "4           05inmuebles@gmail.com            05inmuebles   \n",
       "\n",
       "                          Email Address Display Name  Email Type  \\\n",
       "0                               CBRE India Marketing  Non-Person   \n",
       "1                                     柏佳宁Bai_jianing  Non-Person   \n",
       "2  ☎ \"Ring Central®\"=+== (vn.notification_service...  Non-Person   \n",
       "3                          MyAccount Resource Center  Non-Person   \n",
       "4                                            HirCasa  Non-Person   \n",
       "\n",
       "  pred_email_type  \n",
       "0      Non-Person  \n",
       "1      Non-Person  \n",
       "2      Non-Person  \n",
       "3      Non-Person  \n",
       "4      Non-Person  "
      ]
     },
     "execution_count": 14,
     "metadata": {},
     "output_type": "execute_result"
    }
   ],
   "source": [
    "p_email_type_values = [d['p_email_type'] for d in results]\n",
    "\n",
    "temp_test_data['pred_email_type'] = p_email_type_values\n",
    "\n",
    "temp_test_data"
   ]
  },
  {
   "cell_type": "code",
   "execution_count": 15,
   "id": "b6ae2a40-4ccb-4c43-857d-a22b88c859c6",
   "metadata": {
    "tags": []
   },
   "outputs": [
    {
     "name": "stdout",
     "output_type": "stream",
     "text": [
      "Email Address\n",
      "Email Address Name\n",
      "Email Address Display Name\n",
      "Email Type\n",
      "pred_email_type\n"
     ]
    }
   ],
   "source": [
    "for col in temp_test_data.columns:\n",
    "    print(col)"
   ]
  },
  {
   "cell_type": "markdown",
   "id": "2c99023f-6b25-4d55-98d0-a0bf25768f01",
   "metadata": {},
   "source": [
    "### Calculate Metrics"
   ]
  },
  {
   "cell_type": "markdown",
   "id": "f848f40b-2fad-42a9-a540-e41ca3f49e89",
   "metadata": {},
   "source": [
    "#### JACCARD INDEX"
   ]
  },
  {
   "cell_type": "code",
   "execution_count": 16,
   "id": "5c7f195c-33d0-4af7-8303-597c1f256574",
   "metadata": {
    "tags": []
   },
   "outputs": [
    {
     "data": {
      "text/html": [
       "<div>\n",
       "<style scoped>\n",
       "    .dataframe tbody tr th:only-of-type {\n",
       "        vertical-align: middle;\n",
       "    }\n",
       "\n",
       "    .dataframe tbody tr th {\n",
       "        vertical-align: top;\n",
       "    }\n",
       "\n",
       "    .dataframe thead th {\n",
       "        text-align: right;\n",
       "    }\n",
       "</style>\n",
       "<table border=\"1\" class=\"dataframe\">\n",
       "  <thead>\n",
       "    <tr style=\"text-align: right;\">\n",
       "      <th></th>\n",
       "      <th>Email Address</th>\n",
       "      <th>Email Address Name</th>\n",
       "      <th>Email Address Display Name</th>\n",
       "      <th>Email Type</th>\n",
       "      <th>pred_email_type</th>\n",
       "      <th>jaccard_email_type</th>\n",
       "    </tr>\n",
       "  </thead>\n",
       "  <tbody>\n",
       "    <tr>\n",
       "      <th>0</th>\n",
       "      <td>!india_cbre-marketing@cbre.com</td>\n",
       "      <td>!india_cbre-marketing</td>\n",
       "      <td>CBRE India Marketing</td>\n",
       "      <td>Non-Person</td>\n",
       "      <td>Non-Person</td>\n",
       "      <td>1.0</td>\n",
       "    </tr>\n",
       "    <tr>\n",
       "      <th>1</th>\n",
       "      <td>000956928@dxb.icbc</td>\n",
       "      <td>956928</td>\n",
       "      <td>柏佳宁Bai_jianing</td>\n",
       "      <td>Non-Person</td>\n",
       "      <td>Non-Person</td>\n",
       "      <td>1.0</td>\n",
       "    </tr>\n",
       "    <tr>\n",
       "      <th>2</th>\n",
       "      <td>01b8db1c882@syins.co.nz</td>\n",
       "      <td>01b8db1c882</td>\n",
       "      <td>☎ \"Ring Central®\"=+== (vn.notification_service...</td>\n",
       "      <td>Non-Person</td>\n",
       "      <td>Non-Person</td>\n",
       "      <td>1.0</td>\n",
       "    </tr>\n",
       "    <tr>\n",
       "      <th>3</th>\n",
       "      <td>03501ybr@alight.com</td>\n",
       "      <td>03501ybr</td>\n",
       "      <td>MyAccount Resource Center</td>\n",
       "      <td>Non-Person</td>\n",
       "      <td>Non-Person</td>\n",
       "      <td>1.0</td>\n",
       "    </tr>\n",
       "    <tr>\n",
       "      <th>4</th>\n",
       "      <td>05inmuebles@gmail.com</td>\n",
       "      <td>05inmuebles</td>\n",
       "      <td>HirCasa</td>\n",
       "      <td>Non-Person</td>\n",
       "      <td>Non-Person</td>\n",
       "      <td>1.0</td>\n",
       "    </tr>\n",
       "  </tbody>\n",
       "</table>\n",
       "</div>"
      ],
      "text/plain": [
       "                    Email Address     Email Address Name  \\\n",
       "0  !india_cbre-marketing@cbre.com  !india_cbre-marketing   \n",
       "1              000956928@dxb.icbc                 956928   \n",
       "2         01b8db1c882@syins.co.nz            01b8db1c882   \n",
       "3             03501ybr@alight.com               03501ybr   \n",
       "4           05inmuebles@gmail.com            05inmuebles   \n",
       "\n",
       "                          Email Address Display Name  Email Type  \\\n",
       "0                               CBRE India Marketing  Non-Person   \n",
       "1                                     柏佳宁Bai_jianing  Non-Person   \n",
       "2  ☎ \"Ring Central®\"=+== (vn.notification_service...  Non-Person   \n",
       "3                          MyAccount Resource Center  Non-Person   \n",
       "4                                            HirCasa  Non-Person   \n",
       "\n",
       "  pred_email_type  jaccard_email_type  \n",
       "0      Non-Person                 1.0  \n",
       "1      Non-Person                 1.0  \n",
       "2      Non-Person                 1.0  \n",
       "3      Non-Person                 1.0  \n",
       "4      Non-Person                 1.0  "
      ]
     },
     "execution_count": 16,
     "metadata": {},
     "output_type": "execute_result"
    }
   ],
   "source": [
    "jaccard_email_type = Evaluate().compute_jaccard_score(temp_test_data['pred_email_type'], temp_test_data['Email Type'].str.strip())\n",
    "\n",
    "temp_test_data['jaccard_email_type'] = jaccard_email_type\n",
    "\n",
    "temp_test_data.head() "
   ]
  },
  {
   "cell_type": "code",
   "execution_count": 17,
   "id": "1d377edc-069c-4cd4-99ef-52eb4d91e27a",
   "metadata": {
    "tags": []
   },
   "outputs": [
    {
     "data": {
      "text/plain": [
       "jaccard_email_type\n",
       "1.0    1.0\n",
       "Name: proportion, dtype: float64"
      ]
     },
     "execution_count": 17,
     "metadata": {},
     "output_type": "execute_result"
    }
   ],
   "source": [
    "temp_test_data['jaccard_email_type'].value_counts(dropna=False, normalize=True).head()"
   ]
  },
  {
   "cell_type": "markdown",
   "id": "2b69b903-8b65-4242-bc35-9722b98771de",
   "metadata": {},
   "source": [
    "#### Calculate Accuracy, precision, recall, f1-score and confusion matrix"
   ]
  },
  {
   "cell_type": "code",
   "execution_count": 18,
   "id": "09360e69-7f16-4ce4-9d21-2345b56077b5",
   "metadata": {},
   "outputs": [
    {
     "name": "stdout",
     "output_type": "stream",
     "text": [
      "Accuracy: 1.000\n",
      "Accuracy for label 1: 1.000\n"
     ]
    },
    {
     "data": {
      "image/png": "[encoded data removed]",
      "text/plain": [
       "<Figure size 640x480 with 2 Axes>"
      ]
     },
     "metadata": {},
     "output_type": "display_data"
    }
   ],
   "source": [
    "y_true = temp_test_data['Email Type']\n",
    "y_pred = temp_test_data['pred_email_type']\n",
    "evaluation_results = Evaluate().compute_evaluation_metrics(y_true, y_pred)"
   ]
  },
  {
   "cell_type": "markdown",
   "id": "9e9689b4-a7a1-4769-938a-52e81f21d159",
   "metadata": {},
   "source": [
    "#### Save the output file in s3"
   ]
  },
  {
   "cell_type": "code",
   "execution_count": 19,
   "id": "baaf0d87-b19d-47fd-88f2-d3709cfeefd3",
   "metadata": {},
   "outputs": [],
   "source": [
    "timestamp = datetime.datetime.now().strftime(\"%Y-%m-%d_%H-%M-%S\")\n",
    "object_name = f\"data/email-type/output/{model}/email_type_prediction_results_{timestamp}\"\n",
    "# Create the file name as per the task: name-parse, email-signature\n",
    "file_name = f\"email_type_prediction_results_{timestamp}.csv\"\n",
    "upload_dataframe_to_s3(bucket_name, object_name, file_name, temp_test_data)\n",
    "\n",
    "# Save the file locally to quickly check the data\n",
    "# temp_test_data.to_csv(file_name, index=True)"
   ]
  },
  {
   "cell_type": "markdown",
   "id": "1abc9104-4815-4afb-993a-91716bef8497",
   "metadata": {},
   "source": [
    "#### Save the results summary in s3"
   ]
  },
  {
   "cell_type": "code",
   "execution_count": 20,
   "id": "dc69fccf-67a5-4890-8ab0-72a3f73129ba",
   "metadata": {},
   "outputs": [
    {
     "name": "stdout",
     "output_type": "stream",
     "text": [
      "Data upload successfull s3_uri:  s3://sagemaker-sigparser-caylent-mlops/data/email-type/output/Mistral-7B/email_type_prediction_results_2024-03-27_22-23-42/results_summary.json\n"
     ]
    },
    {
     "data": {
      "text/plain": [
       "True"
      ]
     },
     "execution_count": 20,
     "metadata": {},
     "output_type": "execute_result"
    }
   ],
   "source": [
    "input_data_uri = r's3://{0}/{1}'.format(bucket_name, s3_file_key)\n",
    "output_data_uri = r's3://{0}/{1}/{2}'.format(bucket_name, object_name, file_name)\n",
    "\n",
    "results_summary = {\n",
    "    \"input_data\": input_data_uri,\n",
    "    \"model_id\": model_id,\n",
    "    \"model_version\": model_version,\n",
    "    \"prompt_version\": prompt_version,\n",
    "    \"system_prompt\":system_prompt,\n",
    "    \"instruction_sample\": instruction,\n",
    "    \"output_data\": output_data_uri,\n",
    "    \"evaluation_results\": evaluation_results\n",
    "}\n",
    "upload_data_to_s3(results_summary, bucket_name, object_name)"
   ]
  },
  {
   "cell_type": "code",
   "execution_count": 21,
   "id": "61b28dd6-2995-416f-a120-b3470c7468eb",
   "metadata": {},
   "outputs": [
    {
     "data": {
      "text/plain": [
       "{'accuracy': 1.0, 'precision': 1.0, 'recall': 1.0, 'f1_score': 1.0}"
      ]
     },
     "execution_count": 21,
     "metadata": {},
     "output_type": "execute_result"
    }
   ],
   "source": [
    "evaluation_results"
   ]
  },
  {
   "cell_type": "code",
   "execution_count": null,
   "id": "1e217459-d97f-44ab-bb30-8892d274427a",
   "metadata": {},
   "outputs": [],
   "source": []
  }
 ],
 "metadata": {
  "availableInstances": [
   {
    "_defaultOrder": 0,
    "_isFastLaunch": true,
    "category": "General purpose",
    "gpuNum": 0,
    "hideHardwareSpecs": false,
    "memoryGiB": 4,
    "name": "ml.t3.medium",
    "vcpuNum": 2
   },
   {
    "_defaultOrder": 1,
    "_isFastLaunch": false,
    "category": "General purpose",
    "gpuNum": 0,
    "hideHardwareSpecs": false,
    "memoryGiB": 8,
    "name": "ml.t3.large",
    "vcpuNum": 2
   },
   {
    "_defaultOrder": 2,
    "_isFastLaunch": false,
    "category": "General purpose",
    "gpuNum": 0,
    "hideHardwareSpecs": false,
    "memoryGiB": 16,
    "name": "ml.t3.xlarge",
    "vcpuNum": 4
   },
   {
    "_defaultOrder": 3,
    "_isFastLaunch": false,
    "category": "General purpose",
    "gpuNum": 0,
    "hideHardwareSpecs": false,
    "memoryGiB": 32,
    "name": "ml.t3.2xlarge",
    "vcpuNum": 8
   },
   {
    "_defaultOrder": 4,
    "_isFastLaunch": true,
    "category": "General purpose",
    "gpuNum": 0,
    "hideHardwareSpecs": false,
    "memoryGiB": 8,
    "name": "ml.m5.large",
    "vcpuNum": 2
   },
   {
    "_defaultOrder": 5,
    "_isFastLaunch": false,
    "category": "General purpose",
    "gpuNum": 0,
    "hideHardwareSpecs": false,
    "memoryGiB": 16,
    "name": "ml.m5.xlarge",
    "vcpuNum": 4
   },
   {
    "_defaultOrder": 6,
    "_isFastLaunch": false,
    "category": "General purpose",
    "gpuNum": 0,
    "hideHardwareSpecs": false,
    "memoryGiB": 32,
    "name": "ml.m5.2xlarge",
    "vcpuNum": 8
   },
   {
    "_defaultOrder": 7,
    "_isFastLaunch": false,
    "category": "General purpose",
    "gpuNum": 0,
    "hideHardwareSpecs": false,
    "memoryGiB": 64,
    "name": "ml.m5.4xlarge",
    "vcpuNum": 16
   },
   {
    "_defaultOrder": 8,
    "_isFastLaunch": false,
    "category": "General purpose",
    "gpuNum": 0,
    "hideHardwareSpecs": false,
    "memoryGiB": 128,
    "name": "ml.m5.8xlarge",
    "vcpuNum": 32
   },
   {
    "_defaultOrder": 9,
    "_isFastLaunch": false,
    "category": "General purpose",
    "gpuNum": 0,
    "hideHardwareSpecs": false,
    "memoryGiB": 192,
    "name": "ml.m5.12xlarge",
    "vcpuNum": 48
   },
   {
    "_defaultOrder": 10,
    "_isFastLaunch": false,
    "category": "General purpose",
    "gpuNum": 0,
    "hideHardwareSpecs": false,
    "memoryGiB": 256,
    "name": "ml.m5.16xlarge",
    "vcpuNum": 64
   },
   {
    "_defaultOrder": 11,
    "_isFastLaunch": false,
    "category": "General purpose",
    "gpuNum": 0,
    "hideHardwareSpecs": false,
    "memoryGiB": 384,
    "name": "ml.m5.24xlarge",
    "vcpuNum": 96
   },
   {
    "_defaultOrder": 12,
    "_isFastLaunch": false,
    "category": "General purpose",
    "gpuNum": 0,
    "hideHardwareSpecs": false,
    "memoryGiB": 8,
    "name": "ml.m5d.large",
    "vcpuNum": 2
   },
   {
    "_defaultOrder": 13,
    "_isFastLaunch": false,
    "category": "General purpose",
    "gpuNum": 0,
    "hideHardwareSpecs": false,
    "memoryGiB": 16,
    "name": "ml.m5d.xlarge",
    "vcpuNum": 4
   },
   {
    "_defaultOrder": 14,
    "_isFastLaunch": false,
    "category": "General purpose",
    "gpuNum": 0,
    "hideHardwareSpecs": false,
    "memoryGiB": 32,
    "name": "ml.m5d.2xlarge",
    "vcpuNum": 8
   },
   {
    "_defaultOrder": 15,
    "_isFastLaunch": false,
    "category": "General purpose",
    "gpuNum": 0,
    "hideHardwareSpecs": false,
    "memoryGiB": 64,
    "name": "ml.m5d.4xlarge",
    "vcpuNum": 16
   },
   {
    "_defaultOrder": 16,
    "_isFastLaunch": false,
    "category": "General purpose",
    "gpuNum": 0,
    "hideHardwareSpecs": false,
    "memoryGiB": 128,
    "name": "ml.m5d.8xlarge",
    "vcpuNum": 32
   },
   {
    "_defaultOrder": 17,
    "_isFastLaunch": false,
    "category": "General purpose",
    "gpuNum": 0,
    "hideHardwareSpecs": false,
    "memoryGiB": 192,
    "name": "ml.m5d.12xlarge",
    "vcpuNum": 48
   },
   {
    "_defaultOrder": 18,
    "_isFastLaunch": false,
    "category": "General purpose",
    "gpuNum": 0,
    "hideHardwareSpecs": false,
    "memoryGiB": 256,
    "name": "ml.m5d.16xlarge",
    "vcpuNum": 64
   },
   {
    "_defaultOrder": 19,
    "_isFastLaunch": false,
    "category": "General purpose",
    "gpuNum": 0,
    "hideHardwareSpecs": false,
    "memoryGiB": 384,
    "name": "ml.m5d.24xlarge",
    "vcpuNum": 96
   },
   {
    "_defaultOrder": 20,
    "_isFastLaunch": false,
    "category": "General purpose",
    "gpuNum": 0,
    "hideHardwareSpecs": true,
    "memoryGiB": 0,
    "name": "ml.geospatial.interactive",
    "supportedImageNames": [
     "sagemaker-geospatial-v1-0"
    ],
    "vcpuNum": 0
   },
   {
    "_defaultOrder": 21,
    "_isFastLaunch": true,
    "category": "Compute optimized",
    "gpuNum": 0,
    "hideHardwareSpecs": false,
    "memoryGiB": 4,
    "name": "ml.c5.large",
    "vcpuNum": 2
   },
   {
    "_defaultOrder": 22,
    "_isFastLaunch": false,
    "category": "Compute optimized",
    "gpuNum": 0,
    "hideHardwareSpecs": false,
    "memoryGiB": 8,
    "name": "ml.c5.xlarge",
    "vcpuNum": 4
   },
   {
    "_defaultOrder": 23,
    "_isFastLaunch": false,
    "category": "Compute optimized",
    "gpuNum": 0,
    "hideHardwareSpecs": false,
    "memoryGiB": 16,
    "name": "ml.c5.2xlarge",
    "vcpuNum": 8
   },
   {
    "_defaultOrder": 24,
    "_isFastLaunch": false,
    "category": "Compute optimized",
    "gpuNum": 0,
    "hideHardwareSpecs": false,
    "memoryGiB": 32,
    "name": "ml.c5.4xlarge",
    "vcpuNum": 16
   },
   {
    "_defaultOrder": 25,
    "_isFastLaunch": false,
    "category": "Compute optimized",
    "gpuNum": 0,
    "hideHardwareSpecs": false,
    "memoryGiB": 72,
    "name": "ml.c5.9xlarge",
    "vcpuNum": 36
   },
   {
    "_defaultOrder": 26,
    "_isFastLaunch": false,
    "category": "Compute optimized",
    "gpuNum": 0,
    "hideHardwareSpecs": false,
    "memoryGiB": 96,
    "name": "ml.c5.12xlarge",
    "vcpuNum": 48
   },
   {
    "_defaultOrder": 27,
    "_isFastLaunch": false,
    "category": "Compute optimized",
    "gpuNum": 0,
    "hideHardwareSpecs": false,
    "memoryGiB": 144,
    "name": "ml.c5.18xlarge",
    "vcpuNum": 72
   },
   {
    "_defaultOrder": 28,
    "_isFastLaunch": false,
    "category": "Compute optimized",
    "gpuNum": 0,
    "hideHardwareSpecs": false,
    "memoryGiB": 192,
    "name": "ml.c5.24xlarge",
    "vcpuNum": 96
   },
   {
    "_defaultOrder": 29,
    "_isFastLaunch": true,
    "category": "Accelerated computing",
    "gpuNum": 1,
    "hideHardwareSpecs": false,
    "memoryGiB": 16,
    "name": "ml.g4dn.xlarge",
    "vcpuNum": 4
   },
   {
    "_defaultOrder": 30,
    "_isFastLaunch": false,
    "category": "Accelerated computing",
    "gpuNum": 1,
    "hideHardwareSpecs": false,
    "memoryGiB": 32,
    "name": "ml.g4dn.2xlarge",
    "vcpuNum": 8
   },
   {
    "_defaultOrder": 31,
    "_isFastLaunch": false,
    "category": "Accelerated computing",
    "gpuNum": 1,
    "hideHardwareSpecs": false,
    "memoryGiB": 64,
    "name": "ml.g4dn.4xlarge",
    "vcpuNum": 16
   },
   {
    "_defaultOrder": 32,
    "_isFastLaunch": false,
    "category": "Accelerated computing",
    "gpuNum": 1,
    "hideHardwareSpecs": false,
    "memoryGiB": 128,
    "name": "ml.g4dn.8xlarge",
    "vcpuNum": 32
   },
   {
    "_defaultOrder": 33,
    "_isFastLaunch": false,
    "category": "Accelerated computing",
    "gpuNum": 4,
    "hideHardwareSpecs": false,
    "memoryGiB": 192,
    "name": "ml.g4dn.12xlarge",
    "vcpuNum": 48
   },
   {
    "_defaultOrder": 34,
    "_isFastLaunch": false,
    "category": "Accelerated computing",
    "gpuNum": 1,
    "hideHardwareSpecs": false,
    "memoryGiB": 256,
    "name": "ml.g4dn.16xlarge",
    "vcpuNum": 64
   },
   {
    "_defaultOrder": 35,
    "_isFastLaunch": false,
    "category": "Accelerated computing",
    "gpuNum": 1,
    "hideHardwareSpecs": false,
    "memoryGiB": 61,
    "name": "ml.p3.2xlarge",
    "vcpuNum": 8
   },
   {
    "_defaultOrder": 36,
    "_isFastLaunch": false,
    "category": "Accelerated computing",
    "gpuNum": 4,
    "hideHardwareSpecs": false,
    "memoryGiB": 244,
    "name": "ml.p3.8xlarge",
    "vcpuNum": 32
   },
   {
    "_defaultOrder": 37,
    "_isFastLaunch": false,
    "category": "Accelerated computing",
    "gpuNum": 8,
    "hideHardwareSpecs": false,
    "memoryGiB": 488,
    "name": "ml.p3.16xlarge",
    "vcpuNum": 64
   },
   {
    "_defaultOrder": 38,
    "_isFastLaunch": false,
    "category": "Accelerated computing",
    "gpuNum": 8,
    "hideHardwareSpecs": false,
    "memoryGiB": 768,
    "name": "ml.p3dn.24xlarge",
    "vcpuNum": 96
   },
   {
    "_defaultOrder": 39,
    "_isFastLaunch": false,
    "category": "Memory Optimized",
    "gpuNum": 0,
    "hideHardwareSpecs": false,
    "memoryGiB": 16,
    "name": "ml.r5.large",
    "vcpuNum": 2
   },
   {
    "_defaultOrder": 40,
    "_isFastLaunch": false,
    "category": "Memory Optimized",
    "gpuNum": 0,
    "hideHardwareSpecs": false,
    "memoryGiB": 32,
    "name": "ml.r5.xlarge",
    "vcpuNum": 4
   },
   {
    "_defaultOrder": 41,
    "_isFastLaunch": false,
    "category": "Memory Optimized",
    "gpuNum": 0,
    "hideHardwareSpecs": false,
    "memoryGiB": 64,
    "name": "ml.r5.2xlarge",
    "vcpuNum": 8
   },
   {
    "_defaultOrder": 42,
    "_isFastLaunch": false,
    "category": "Memory Optimized",
    "gpuNum": 0,
    "hideHardwareSpecs": false,
    "memoryGiB": 128,
    "name": "ml.r5.4xlarge",
    "vcpuNum": 16
   },
   {
    "_defaultOrder": 43,
    "_isFastLaunch": false,
    "category": "Memory Optimized",
    "gpuNum": 0,
    "hideHardwareSpecs": false,
    "memoryGiB": 256,
    "name": "ml.r5.8xlarge",
    "vcpuNum": 32
   },
   {
    "_defaultOrder": 44,
    "_isFastLaunch": false,
    "category": "Memory Optimized",
    "gpuNum": 0,
    "hideHardwareSpecs": false,
    "memoryGiB": 384,
    "name": "ml.r5.12xlarge",
    "vcpuNum": 48
   },
   {
    "_defaultOrder": 45,
    "_isFastLaunch": false,
    "category": "Memory Optimized",
    "gpuNum": 0,
    "hideHardwareSpecs": false,
    "memoryGiB": 512,
    "name": "ml.r5.16xlarge",
    "vcpuNum": 64
   },
   {
    "_defaultOrder": 46,
    "_isFastLaunch": false,
    "category": "Memory Optimized",
    "gpuNum": 0,
    "hideHardwareSpecs": false,
    "memoryGiB": 768,
    "name": "ml.r5.24xlarge",
    "vcpuNum": 96
   },
   {
    "_defaultOrder": 47,
    "_isFastLaunch": false,
    "category": "Accelerated computing",
    "gpuNum": 1,
    "hideHardwareSpecs": false,
    "memoryGiB": 16,
    "name": "ml.g5.xlarge",
    "vcpuNum": 4
   },
   {
    "_defaultOrder": 48,
    "_isFastLaunch": false,
    "category": "Accelerated computing",
    "gpuNum": 1,
    "hideHardwareSpecs": false,
    "memoryGiB": 32,
    "name": "ml.g5.2xlarge",
    "vcpuNum": 8
   },
   {
    "_defaultOrder": 49,
    "_isFastLaunch": false,
    "category": "Accelerated computing",
    "gpuNum": 1,
    "hideHardwareSpecs": false,
    "memoryGiB": 64,
    "name": "ml.g5.4xlarge",
    "vcpuNum": 16
   },
   {
    "_defaultOrder": 50,
    "_isFastLaunch": false,
    "category": "Accelerated computing",
    "gpuNum": 1,
    "hideHardwareSpecs": false,
    "memoryGiB": 128,
    "name": "ml.g5.8xlarge",
    "vcpuNum": 32
   },
   {
    "_defaultOrder": 51,
    "_isFastLaunch": false,
    "category": "Accelerated computing",
    "gpuNum": 1,
    "hideHardwareSpecs": false,
    "memoryGiB": 256,
    "name": "ml.g5.16xlarge",
    "vcpuNum": 64
   },
   {
    "_defaultOrder": 52,
    "_isFastLaunch": false,
    "category": "Accelerated computing",
    "gpuNum": 4,
    "hideHardwareSpecs": false,
    "memoryGiB": 192,
    "name": "ml.g5.12xlarge",
    "vcpuNum": 48
   },
   {
    "_defaultOrder": 53,
    "_isFastLaunch": false,
    "category": "Accelerated computing",
    "gpuNum": 4,
    "hideHardwareSpecs": false,
    "memoryGiB": 384,
    "name": "ml.g5.24xlarge",
    "vcpuNum": 96
   },
   {
    "_defaultOrder": 54,
    "_isFastLaunch": false,
    "category": "Accelerated computing",
    "gpuNum": 8,
    "hideHardwareSpecs": false,
    "memoryGiB": 768,
    "name": "ml.g5.48xlarge",
    "vcpuNum": 192
   },
   {
    "_defaultOrder": 55,
    "_isFastLaunch": false,
    "category": "Accelerated computing",
    "gpuNum": 8,
    "hideHardwareSpecs": false,
    "memoryGiB": 1152,
    "name": "ml.p4d.24xlarge",
    "vcpuNum": 96
   },
   {
    "_defaultOrder": 56,
    "_isFastLaunch": false,
    "category": "Accelerated computing",
    "gpuNum": 8,
    "hideHardwareSpecs": false,
    "memoryGiB": 1152,
    "name": "ml.p4de.24xlarge",
    "vcpuNum": 96
   },
   {
    "_defaultOrder": 57,
    "_isFastLaunch": false,
    "category": "Accelerated computing",
    "gpuNum": 0,
    "hideHardwareSpecs": false,
    "memoryGiB": 32,
    "name": "ml.trn1.2xlarge",
    "vcpuNum": 8
   },
   {
    "_defaultOrder": 58,
    "_isFastLaunch": false,
    "category": "Accelerated computing",
    "gpuNum": 0,
    "hideHardwareSpecs": false,
    "memoryGiB": 512,
    "name": "ml.trn1.32xlarge",
    "vcpuNum": 128
   },
   {
    "_defaultOrder": 59,
    "_isFastLaunch": false,
    "category": "Accelerated computing",
    "gpuNum": 0,
    "hideHardwareSpecs": false,
    "memoryGiB": 512,
    "name": "ml.trn1n.32xlarge",
    "vcpuNum": 128
   }
  ],
  "instance_type": "ml.t3.medium",
  "kernelspec": {
   "display_name": "Python 3 (Data Science 3.0)",
   "language": "python",
   "name": "python3__SAGEMAKER_INTERNAL__arn:aws:sagemaker:us-east-1:081325390199:image/sagemaker-data-science-310-v1"
  },
  "language_info": {
   "codemirror_mode": {
    "name": "ipython",
    "version": 3
   },
   "file_extension": ".py",
   "mimetype": "text/x-python",
   "name": "python",
   "nbconvert_exporter": "python",
   "pygments_lexer": "ipython3",
   "version": "3.10.6"
  }
 },
 "nbformat": 4,
 "nbformat_minor": 5
}
