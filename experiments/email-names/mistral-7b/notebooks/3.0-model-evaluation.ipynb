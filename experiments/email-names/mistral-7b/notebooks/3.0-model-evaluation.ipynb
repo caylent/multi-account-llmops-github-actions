{
 "cells": [
  {
   "cell_type": "markdown",
   "id": "2412a160-b52b-437a-8fdb-c406cc559358",
   "metadata": {},
   "source": [
    "## Email Name: Model Evaluation\n",
    "\n",
    "This notebook evaluates the test data against the `Mistral-7B` finetuned model"
   ]
  },
  {
   "cell_type": "markdown",
   "id": "5ee66a3e-cd80-4fcc-9c9d-2a9877893373",
   "metadata": {},
   "source": [
    "### Setup"
   ]
  },
  {
   "cell_type": "code",
   "execution_count": 2,
   "id": "4813d7b5-25e4-4c8f-bf8d-1e76533c9341",
   "metadata": {
    "tags": []
   },
   "outputs": [
    {
     "name": "stdout",
     "output_type": "stream",
     "text": [
      "sagemaker.config INFO - Not applying SDK defaults from location: /etc/xdg/sagemaker/config.yaml\n",
      "sagemaker.config INFO - Not applying SDK defaults from location: /root/.config/sagemaker/config.yaml\n",
      "sagemaker role arn: arn:aws:iam::818442660361:role/service-role/AmazonSageMaker-ExecutionRole-20231103T203000\n",
      "sagemaker session region: us-east-1\n",
      "sagemaker default bucket: sagemaker-sigparser-caylent-mlops\n"
     ]
    }
   ],
   "source": [
    "import sagemaker\n",
    "import boto3\n",
    "sess = sagemaker.Session()\n",
    "\n",
    "sagemaker_session_bucket='sagemaker-sigparser-caylent-mlops'\n",
    "if sagemaker_session_bucket is None and sess is not None:\n",
    "    sagemaker_session_bucket = sess.default_bucket()\n",
    "\n",
    "try:\n",
    "    role = sagemaker.get_execution_role()\n",
    "except ValueError:\n",
    "    iam = boto3.client('iam')\n",
    "    role = iam.get_role(RoleName='sagemaker_execution_role')['Role']['Arn']\n",
    "\n",
    "sess = sagemaker.Session(default_bucket=sagemaker_session_bucket)\n",
    "\n",
    "print(f\"sagemaker role arn: {role}\")\n",
    "print(f\"sagemaker session region: {sess.boto_region_name}\")\n",
    "print(f\"sagemaker default bucket: {sess.default_bucket()}\")"
   ]
  },
  {
   "cell_type": "code",
   "execution_count": 23,
   "id": "dc9568d3-83da-41aa-8197-ffb39cbca499",
   "metadata": {
    "tags": []
   },
   "outputs": [],
   "source": [
    "from concurrent.futures import ThreadPoolExecutor\n",
    "from tqdm import tqdm\n",
    "import pandas as pd\n",
    "import sys\n",
    "import datetime\n",
    "sys.path.append('..')\n",
    "from utils.metrics import Evaluate\n",
    "from utils.utils import Mistral_7B_V1\n",
    "from prompts.email_names_v2 import prompt_email_names\n",
    "from utils.s3_helper import read_s3_csv_to_dataframe, upload_dataframe_to_s3, upload_data_to_s3"
   ]
  },
  {
   "cell_type": "markdown",
   "id": "348c0208-628b-4015-a77d-26885724e2b5",
   "metadata": {},
   "source": [
    "###  Load Test Data"
   ]
  },
  {
   "cell_type": "code",
   "execution_count": 4,
   "id": "c4aed747-d172-44c4-9029-ba5073e8ad9c",
   "metadata": {
    "tags": []
   },
   "outputs": [],
   "source": [
    "s3_input_prefix = 'data/email-names/input/processed'\n",
    "data_timestamp = '2024-03-26'\n",
    "file_name = f'{data_timestamp}_test.csv'\n",
    "\n",
    "s3_data_path = f\"{s3_input_prefix}/{file_name}\""
   ]
  },
  {
   "cell_type": "markdown",
   "id": "9da9919f-ab2e-47e6-8374-ee9b3ad98666",
   "metadata": {},
   "source": [
    "10k records to evaluate performance"
   ]
  },
  {
   "cell_type": "code",
   "execution_count": 5,
   "id": "ef0bc549-f94c-43c8-8f94-14d7b5a13f22",
   "metadata": {
    "tags": []
   },
   "outputs": [],
   "source": [
    "s3_input_prefix = 'data/email-names/input/raw'\n",
    "data_timestamp = '2024-04-02'\n",
    "file_name = 'sp_llm_emailname_inf-test_apr2.csv'\n",
    "\n",
    "s3_data_path = f\"{s3_input_prefix}/{file_name}\""
   ]
  },
  {
   "cell_type": "code",
   "execution_count": 6,
   "id": "3644a2f5-e4e3-4f89-bb71-24611c4d9076",
   "metadata": {
    "tags": []
   },
   "outputs": [
    {
     "data": {
      "text/plain": [
       "(10000, 8)"
      ]
     },
     "execution_count": 6,
     "metadata": {},
     "output_type": "execute_result"
    }
   ],
   "source": [
    "test_df = read_s3_csv_to_dataframe(sess.default_bucket(), s3_data_path)\n",
    "\n",
    "test_df.shape"
   ]
  },
  {
   "cell_type": "code",
   "execution_count": 7,
   "id": "988a5853-9c99-4eb9-b932-9fd19519df6d",
   "metadata": {
    "tags": []
   },
   "outputs": [
    {
     "data": {
      "text/html": [
       "<div>\n",
       "<style scoped>\n",
       "    .dataframe tbody tr th:only-of-type {\n",
       "        vertical-align: middle;\n",
       "    }\n",
       "\n",
       "    .dataframe tbody tr th {\n",
       "        vertical-align: top;\n",
       "    }\n",
       "\n",
       "    .dataframe thead th {\n",
       "        text-align: right;\n",
       "    }\n",
       "</style>\n",
       "<table border=\"1\" class=\"dataframe\">\n",
       "  <thead>\n",
       "    <tr style=\"text-align: right;\">\n",
       "      <th></th>\n",
       "      <th>Test Group</th>\n",
       "      <th>Email Address</th>\n",
       "      <th>Display Name</th>\n",
       "      <th>First Name</th>\n",
       "      <th>Middle Name</th>\n",
       "      <th>Last Name</th>\n",
       "      <th>Name Prefix</th>\n",
       "      <th>Name Suffix</th>\n",
       "    </tr>\n",
       "  </thead>\n",
       "  <tbody>\n",
       "    <tr>\n",
       "      <th>0</th>\n",
       "      <td>INF-TEST-A</td>\n",
       "      <td>a_desai@openbook.works</td>\n",
       "      <td>Desai, Aditi</td>\n",
       "      <td>Aditi</td>\n",
       "      <td>NaN</td>\n",
       "      <td>Desai</td>\n",
       "      <td>NaN</td>\n",
       "      <td>NaN</td>\n",
       "    </tr>\n",
       "    <tr>\n",
       "      <th>1</th>\n",
       "      <td>INF-TEST-A</td>\n",
       "      <td>a_elliott@outcast-clothing.com</td>\n",
       "      <td>Elliott, Alan</td>\n",
       "      <td>Alan</td>\n",
       "      <td>NaN</td>\n",
       "      <td>Elliott</td>\n",
       "      <td>NaN</td>\n",
       "      <td>NaN</td>\n",
       "    </tr>\n",
       "    <tr>\n",
       "      <th>2</th>\n",
       "      <td>INF-TEST-A</td>\n",
       "      <td>a_foster@markconsults.com</td>\n",
       "      <td>ANTOINE FOSTER</td>\n",
       "      <td>Antoine</td>\n",
       "      <td>NaN</td>\n",
       "      <td>Foster</td>\n",
       "      <td>NaN</td>\n",
       "      <td>NaN</td>\n",
       "    </tr>\n",
       "    <tr>\n",
       "      <th>3</th>\n",
       "      <td>INF-TEST-A</td>\n",
       "      <td>a_harrington@optilogic.com</td>\n",
       "      <td>HARRINGTON Aditya</td>\n",
       "      <td>Aditya</td>\n",
       "      <td>NaN</td>\n",
       "      <td>Harrington</td>\n",
       "      <td>NaN</td>\n",
       "      <td>NaN</td>\n",
       "    </tr>\n",
       "    <tr>\n",
       "      <th>4</th>\n",
       "      <td>INF-TEST-A</td>\n",
       "      <td>a_howard@cbtcompanyinc.com</td>\n",
       "      <td>HOWARD Anne</td>\n",
       "      <td>Anne</td>\n",
       "      <td>NaN</td>\n",
       "      <td>Howard</td>\n",
       "      <td>NaN</td>\n",
       "      <td>NaN</td>\n",
       "    </tr>\n",
       "  </tbody>\n",
       "</table>\n",
       "</div>"
      ],
      "text/plain": [
       "   Test Group                   Email Address       Display Name First Name  \\\n",
       "0  INF-TEST-A          a_desai@openbook.works       Desai, Aditi      Aditi   \n",
       "1  INF-TEST-A  a_elliott@outcast-clothing.com      Elliott, Alan       Alan   \n",
       "2  INF-TEST-A       a_foster@markconsults.com     ANTOINE FOSTER    Antoine   \n",
       "3  INF-TEST-A      a_harrington@optilogic.com  HARRINGTON Aditya     Aditya   \n",
       "4  INF-TEST-A      a_howard@cbtcompanyinc.com        HOWARD Anne       Anne   \n",
       "\n",
       "  Middle Name   Last Name Name Prefix Name Suffix  \n",
       "0         NaN       Desai         NaN         NaN  \n",
       "1         NaN     Elliott         NaN         NaN  \n",
       "2         NaN      Foster         NaN         NaN  \n",
       "3         NaN  Harrington         NaN         NaN  \n",
       "4         NaN      Howard         NaN         NaN  "
      ]
     },
     "execution_count": 7,
     "metadata": {},
     "output_type": "execute_result"
    }
   ],
   "source": [
    "test_df.head()"
   ]
  },
  {
   "cell_type": "markdown",
   "id": "0a3b85a2-d3f5-4faa-8c2e-853114912346",
   "metadata": {
    "tags": []
   },
   "source": [
    "#### Configure & Preprocess Test Data"
   ]
  },
  {
   "cell_type": "code",
   "execution_count": 8,
   "id": "6beb90a2-aa51-41c9-8a2e-782e5fce05b2",
   "metadata": {
    "tags": []
   },
   "outputs": [
    {
     "data": {
      "text/plain": [
       "Test Group                   INF-TEST-A\n",
       "Email Address    a_desai@openbook.works\n",
       "Display Name               Desai, Aditi\n",
       "First Name                        Aditi\n",
       "Middle Name                         NaN\n",
       "Last Name                         Desai\n",
       "Name Prefix                         NaN\n",
       "Name Suffix                         NaN\n",
       "Name: 0, dtype: object"
      ]
     },
     "execution_count": 8,
     "metadata": {},
     "output_type": "execute_result"
    }
   ],
   "source": [
    "#record_count = len(test_df)\n",
    "record_count = 100\n",
    "temp_test_data = \"\"\n",
    "temp_test_data = test_df.head(record_count).copy()\n",
    "temp_test_data.iloc[0]"
   ]
  },
  {
   "cell_type": "code",
   "execution_count": 9,
   "id": "74ec74b5-ebaf-4d59-8457-fc25ad139e1e",
   "metadata": {
    "tags": []
   },
   "outputs": [
    {
     "data": {
      "text/plain": [
       "(100, 8)"
      ]
     },
     "execution_count": 9,
     "metadata": {},
     "output_type": "execute_result"
    }
   ],
   "source": [
    "temp_test_data.shape"
   ]
  },
  {
   "cell_type": "code",
   "execution_count": 10,
   "id": "61402e51-073e-4e5b-818c-2331c0f48196",
   "metadata": {
    "tags": []
   },
   "outputs": [
    {
     "data": {
      "text/html": [
       "<div>\n",
       "<style scoped>\n",
       "    .dataframe tbody tr th:only-of-type {\n",
       "        vertical-align: middle;\n",
       "    }\n",
       "\n",
       "    .dataframe tbody tr th {\n",
       "        vertical-align: top;\n",
       "    }\n",
       "\n",
       "    .dataframe thead th {\n",
       "        text-align: right;\n",
       "    }\n",
       "</style>\n",
       "<table border=\"1\" class=\"dataframe\">\n",
       "  <thead>\n",
       "    <tr style=\"text-align: right;\">\n",
       "      <th></th>\n",
       "      <th>Test Group</th>\n",
       "      <th>Email Address</th>\n",
       "      <th>Display Name</th>\n",
       "      <th>First Name</th>\n",
       "      <th>Middle Name</th>\n",
       "      <th>Last Name</th>\n",
       "      <th>Name Prefix</th>\n",
       "      <th>Name Suffix</th>\n",
       "    </tr>\n",
       "  </thead>\n",
       "  <tbody>\n",
       "    <tr>\n",
       "      <th>0</th>\n",
       "      <td>INF-TEST-A</td>\n",
       "      <td>a_desai@openbook.works</td>\n",
       "      <td>Desai, Aditi</td>\n",
       "      <td>Aditi</td>\n",
       "      <td>NaN</td>\n",
       "      <td>Desai</td>\n",
       "      <td>NaN</td>\n",
       "      <td>NaN</td>\n",
       "    </tr>\n",
       "    <tr>\n",
       "      <th>1</th>\n",
       "      <td>INF-TEST-A</td>\n",
       "      <td>a_elliott@outcast-clothing.com</td>\n",
       "      <td>Elliott, Alan</td>\n",
       "      <td>Alan</td>\n",
       "      <td>NaN</td>\n",
       "      <td>Elliott</td>\n",
       "      <td>NaN</td>\n",
       "      <td>NaN</td>\n",
       "    </tr>\n",
       "    <tr>\n",
       "      <th>2</th>\n",
       "      <td>INF-TEST-A</td>\n",
       "      <td>a_foster@markconsults.com</td>\n",
       "      <td>ANTOINE FOSTER</td>\n",
       "      <td>Antoine</td>\n",
       "      <td>NaN</td>\n",
       "      <td>Foster</td>\n",
       "      <td>NaN</td>\n",
       "      <td>NaN</td>\n",
       "    </tr>\n",
       "    <tr>\n",
       "      <th>3</th>\n",
       "      <td>INF-TEST-A</td>\n",
       "      <td>a_harrington@optilogic.com</td>\n",
       "      <td>HARRINGTON Aditya</td>\n",
       "      <td>Aditya</td>\n",
       "      <td>NaN</td>\n",
       "      <td>Harrington</td>\n",
       "      <td>NaN</td>\n",
       "      <td>NaN</td>\n",
       "    </tr>\n",
       "    <tr>\n",
       "      <th>4</th>\n",
       "      <td>INF-TEST-A</td>\n",
       "      <td>a_howard@cbtcompanyinc.com</td>\n",
       "      <td>HOWARD Anne</td>\n",
       "      <td>Anne</td>\n",
       "      <td>NaN</td>\n",
       "      <td>Howard</td>\n",
       "      <td>NaN</td>\n",
       "      <td>NaN</td>\n",
       "    </tr>\n",
       "  </tbody>\n",
       "</table>\n",
       "</div>"
      ],
      "text/plain": [
       "   Test Group                   Email Address       Display Name First Name  \\\n",
       "0  INF-TEST-A          a_desai@openbook.works       Desai, Aditi      Aditi   \n",
       "1  INF-TEST-A  a_elliott@outcast-clothing.com      Elliott, Alan       Alan   \n",
       "2  INF-TEST-A       a_foster@markconsults.com     ANTOINE FOSTER    Antoine   \n",
       "3  INF-TEST-A      a_harrington@optilogic.com  HARRINGTON Aditya     Aditya   \n",
       "4  INF-TEST-A      a_howard@cbtcompanyinc.com        HOWARD Anne       Anne   \n",
       "\n",
       "  Middle Name   Last Name Name Prefix Name Suffix  \n",
       "0         NaN       Desai         NaN         NaN  \n",
       "1         NaN     Elliott         NaN         NaN  \n",
       "2         NaN      Foster         NaN         NaN  \n",
       "3         NaN  Harrington         NaN         NaN  \n",
       "4         NaN      Howard         NaN         NaN  "
      ]
     },
     "execution_count": 10,
     "metadata": {},
     "output_type": "execute_result"
    }
   ],
   "source": [
    "temp_test_data.head()"
   ]
  },
  {
   "cell_type": "code",
   "execution_count": 11,
   "id": "00925009-72ae-4993-88df-f4304b29eba1",
   "metadata": {
    "tags": []
   },
   "outputs": [
    {
     "name": "stdout",
     "output_type": "stream",
     "text": [
      "NaN count per column: Test Group        0\n",
      "Email Address     0\n",
      "Display Name      0\n",
      "First Name        0\n",
      "Middle Name      89\n",
      "Last Name         0\n",
      "Name Prefix      96\n",
      "Name Suffix      95\n",
      "dtype: int64\n"
     ]
    }
   ],
   "source": [
    "# finding how many NaN values are there in each column\n",
    "nan_count_per_column = temp_test_data.isna().sum()\n",
    "\n",
    "print(f\"NaN count per column: {nan_count_per_column}\")"
   ]
  },
  {
   "cell_type": "code",
   "execution_count": 12,
   "id": "d4c70d3f-e213-4755-a320-e20ba65d9e5b",
   "metadata": {
    "tags": []
   },
   "outputs": [
    {
     "name": "stdout",
     "output_type": "stream",
     "text": [
      "NaN count per column after replacement: Test Group       0\n",
      "Email Address    0\n",
      "Display Name     0\n",
      "First Name       0\n",
      "Middle Name      0\n",
      "Last Name        0\n",
      "Name Prefix      0\n",
      "Name Suffix      0\n",
      "dtype: int64\n"
     ]
    }
   ],
   "source": [
    "temp_test_data.fillna(\"\", inplace=True)\n",
    "\n",
    "print(f\"NaN count per column after replacement: {temp_test_data.isna().sum()}\")"
   ]
  },
  {
   "cell_type": "code",
   "execution_count": 13,
   "id": "26ffc29d-a58c-4351-a7f5-daa02778cfad",
   "metadata": {
    "tags": []
   },
   "outputs": [
    {
     "data": {
      "text/html": [
       "<div>\n",
       "<style scoped>\n",
       "    .dataframe tbody tr th:only-of-type {\n",
       "        vertical-align: middle;\n",
       "    }\n",
       "\n",
       "    .dataframe tbody tr th {\n",
       "        vertical-align: top;\n",
       "    }\n",
       "\n",
       "    .dataframe thead th {\n",
       "        text-align: right;\n",
       "    }\n",
       "</style>\n",
       "<table border=\"1\" class=\"dataframe\">\n",
       "  <thead>\n",
       "    <tr style=\"text-align: right;\">\n",
       "      <th></th>\n",
       "      <th>Test Group</th>\n",
       "      <th>Email Address</th>\n",
       "      <th>Display Name</th>\n",
       "      <th>First Name</th>\n",
       "      <th>Middle Name</th>\n",
       "      <th>Last Name</th>\n",
       "      <th>Name Prefix</th>\n",
       "      <th>Name Suffix</th>\n",
       "    </tr>\n",
       "  </thead>\n",
       "  <tbody>\n",
       "    <tr>\n",
       "      <th>0</th>\n",
       "      <td>INF-TEST-A</td>\n",
       "      <td>a_desai@openbook.works</td>\n",
       "      <td>Desai, Aditi</td>\n",
       "      <td>Aditi</td>\n",
       "      <td></td>\n",
       "      <td>Desai</td>\n",
       "      <td></td>\n",
       "      <td></td>\n",
       "    </tr>\n",
       "    <tr>\n",
       "      <th>1</th>\n",
       "      <td>INF-TEST-A</td>\n",
       "      <td>a_elliott@outcast-clothing.com</td>\n",
       "      <td>Elliott, Alan</td>\n",
       "      <td>Alan</td>\n",
       "      <td></td>\n",
       "      <td>Elliott</td>\n",
       "      <td></td>\n",
       "      <td></td>\n",
       "    </tr>\n",
       "    <tr>\n",
       "      <th>2</th>\n",
       "      <td>INF-TEST-A</td>\n",
       "      <td>a_foster@markconsults.com</td>\n",
       "      <td>ANTOINE FOSTER</td>\n",
       "      <td>Antoine</td>\n",
       "      <td></td>\n",
       "      <td>Foster</td>\n",
       "      <td></td>\n",
       "      <td></td>\n",
       "    </tr>\n",
       "    <tr>\n",
       "      <th>3</th>\n",
       "      <td>INF-TEST-A</td>\n",
       "      <td>a_harrington@optilogic.com</td>\n",
       "      <td>HARRINGTON Aditya</td>\n",
       "      <td>Aditya</td>\n",
       "      <td></td>\n",
       "      <td>Harrington</td>\n",
       "      <td></td>\n",
       "      <td></td>\n",
       "    </tr>\n",
       "    <tr>\n",
       "      <th>4</th>\n",
       "      <td>INF-TEST-A</td>\n",
       "      <td>a_howard@cbtcompanyinc.com</td>\n",
       "      <td>HOWARD Anne</td>\n",
       "      <td>Anne</td>\n",
       "      <td></td>\n",
       "      <td>Howard</td>\n",
       "      <td></td>\n",
       "      <td></td>\n",
       "    </tr>\n",
       "  </tbody>\n",
       "</table>\n",
       "</div>"
      ],
      "text/plain": [
       "   Test Group                   Email Address       Display Name First Name  \\\n",
       "0  INF-TEST-A          a_desai@openbook.works       Desai, Aditi      Aditi   \n",
       "1  INF-TEST-A  a_elliott@outcast-clothing.com      Elliott, Alan       Alan   \n",
       "2  INF-TEST-A       a_foster@markconsults.com     ANTOINE FOSTER    Antoine   \n",
       "3  INF-TEST-A      a_harrington@optilogic.com  HARRINGTON Aditya     Aditya   \n",
       "4  INF-TEST-A      a_howard@cbtcompanyinc.com        HOWARD Anne       Anne   \n",
       "\n",
       "  Middle Name   Last Name Name Prefix Name Suffix  \n",
       "0                   Desai                          \n",
       "1                 Elliott                          \n",
       "2                  Foster                          \n",
       "3              Harrington                          \n",
       "4                  Howard                          "
      ]
     },
     "execution_count": 13,
     "metadata": {},
     "output_type": "execute_result"
    }
   ],
   "source": [
    "temp_test_data.head()"
   ]
  },
  {
   "cell_type": "code",
   "execution_count": 14,
   "id": "94f98753-2923-486c-86ad-9324474f6ad1",
   "metadata": {
    "tags": []
   },
   "outputs": [
    {
     "name": "stdout",
     "output_type": "stream",
     "text": [
      "Distribution (%) of empty strings in specified columns:\n",
      "First Name      0.0\n",
      "Middle Name    89.0\n",
      "Last Name       0.0\n",
      "Name Prefix    96.0\n",
      "Name Suffix    95.0\n",
      "dtype: float64\n"
     ]
    }
   ],
   "source": [
    "# cols to check for empty string distribution\n",
    "columns_to_check = ['First Name', 'Middle Name', 'Last Name', 'Name Prefix', 'Name Suffix']\n",
    "\n",
    "# calculate the distribution (%) of empty strings \"\" in specified columns\n",
    "empty_string_distribution = temp_test_data[columns_to_check].map(lambda x: x == \"\").mean() * 100\n",
    "\n",
    "print(\"Distribution (%) of empty strings in specified columns:\")\n",
    "print(empty_string_distribution)"
   ]
  },
  {
   "cell_type": "markdown",
   "id": "7deca8a8-4f24-4818-92a6-54dead7c06c0",
   "metadata": {},
   "source": [
    "#### Configure Prompt"
   ]
  },
  {
   "cell_type": "code",
   "execution_count": 15,
   "id": "03872266-8727-41ce-b61f-0750df6f542e",
   "metadata": {
    "tags": []
   },
   "outputs": [
    {
     "name": "stdout",
     "output_type": "stream",
     "text": [
      "prompt_version: version-2-Ryan\n"
     ]
    }
   ],
   "source": [
    "system_prompt = prompt_email_names[\"system_prompt\"]\n",
    "instruction = prompt_email_names[\"instruction\"]\n",
    "prompt_version = prompt_email_names[\"prompt_version\"]\n",
    "prompt_type = prompt_email_names[\"prompt_type\"]\n",
    "print(f'prompt_version: {prompt_version}')"
   ]
  },
  {
   "cell_type": "markdown",
   "id": "9087ffda-f056-406a-b22d-442efc809804",
   "metadata": {},
   "source": [
    "#### Prepare the Test Inputs"
   ]
  },
  {
   "cell_type": "code",
   "execution_count": 16,
   "id": "d548fb5c-8c7f-4e69-b168-2a66315c085e",
   "metadata": {
    "tags": []
   },
   "outputs": [],
   "source": [
    "def get_context(email_address, display_name):\n",
    "    email_address = email_address.strip()\n",
    "    display_name = display_name.strip()\n",
    "    \n",
    "    context_input_str = f\"\"\"Input:\"\"\"\n",
    "    context_data = f\"\"\"{{\"Email Address\": \"{email_address}\", \"Display Name\": \"{display_name}\"}}\"\"\"\n",
    "    context = context_input_str.strip() + context_data.strip()\n",
    "    \n",
    "    return context\n",
    "\n",
    "\n",
    "contexts = temp_test_data.apply(lambda x: get_context(x['Email Address'], x['Display Name']), axis=1)"
   ]
  },
  {
   "cell_type": "code",
   "execution_count": 17,
   "id": "73112501-6d2f-4ba1-9a82-121b84a382f7",
   "metadata": {
    "tags": []
   },
   "outputs": [
    {
     "data": {
      "text/plain": [
       "'Input:{\"Email Address\": \"a_desai@openbook.works\", \"Display Name\": \"Desai, Aditi\"}'"
      ]
     },
     "execution_count": 17,
     "metadata": {},
     "output_type": "execute_result"
    }
   ],
   "source": [
    "# sanity check\n",
    "contexts[0]"
   ]
  },
  {
   "cell_type": "markdown",
   "id": "64607ea9-0918-46e6-b146-cf55500fdfe6",
   "metadata": {},
   "source": [
    "### Prepare the Prompts for Test Data"
   ]
  },
  {
   "cell_type": "code",
   "execution_count": 18,
   "id": "2dd502aa-ad6f-4c25-99fd-fdd3b617e25e",
   "metadata": {
    "tags": []
   },
   "outputs": [
    {
     "data": {
      "text/html": [
       "<div>\n",
       "<style scoped>\n",
       "    .dataframe tbody tr th:only-of-type {\n",
       "        vertical-align: middle;\n",
       "    }\n",
       "\n",
       "    .dataframe tbody tr th {\n",
       "        vertical-align: top;\n",
       "    }\n",
       "\n",
       "    .dataframe thead th {\n",
       "        text-align: right;\n",
       "    }\n",
       "</style>\n",
       "<table border=\"1\" class=\"dataframe\">\n",
       "  <thead>\n",
       "    <tr style=\"text-align: right;\">\n",
       "      <th></th>\n",
       "      <th>system_prompt</th>\n",
       "      <th>instruction</th>\n",
       "      <th>context</th>\n",
       "      <th>prompt_type</th>\n",
       "    </tr>\n",
       "  </thead>\n",
       "  <tbody>\n",
       "    <tr>\n",
       "      <th>0</th>\n",
       "      <td>You are a highly skilled assistant specializin...</td>\n",
       "      <td>Please extract the email name components from ...</td>\n",
       "      <td>Input:{\"Email Address\": \"a_desai@openbook.work...</td>\n",
       "      <td>email-names</td>\n",
       "    </tr>\n",
       "    <tr>\n",
       "      <th>1</th>\n",
       "      <td>You are a highly skilled assistant specializin...</td>\n",
       "      <td>Please extract the email name components from ...</td>\n",
       "      <td>Input:{\"Email Address\": \"a_elliott@outcast-clo...</td>\n",
       "      <td>email-names</td>\n",
       "    </tr>\n",
       "    <tr>\n",
       "      <th>2</th>\n",
       "      <td>You are a highly skilled assistant specializin...</td>\n",
       "      <td>Please extract the email name components from ...</td>\n",
       "      <td>Input:{\"Email Address\": \"a_foster@markconsults...</td>\n",
       "      <td>email-names</td>\n",
       "    </tr>\n",
       "    <tr>\n",
       "      <th>3</th>\n",
       "      <td>You are a highly skilled assistant specializin...</td>\n",
       "      <td>Please extract the email name components from ...</td>\n",
       "      <td>Input:{\"Email Address\": \"a_harrington@optilogi...</td>\n",
       "      <td>email-names</td>\n",
       "    </tr>\n",
       "    <tr>\n",
       "      <th>4</th>\n",
       "      <td>You are a highly skilled assistant specializin...</td>\n",
       "      <td>Please extract the email name components from ...</td>\n",
       "      <td>Input:{\"Email Address\": \"a_howard@cbtcompanyin...</td>\n",
       "      <td>email-names</td>\n",
       "    </tr>\n",
       "  </tbody>\n",
       "</table>\n",
       "</div>"
      ],
      "text/plain": [
       "                                       system_prompt  \\\n",
       "0  You are a highly skilled assistant specializin...   \n",
       "1  You are a highly skilled assistant specializin...   \n",
       "2  You are a highly skilled assistant specializin...   \n",
       "3  You are a highly skilled assistant specializin...   \n",
       "4  You are a highly skilled assistant specializin...   \n",
       "\n",
       "                                         instruction  \\\n",
       "0  Please extract the email name components from ...   \n",
       "1  Please extract the email name components from ...   \n",
       "2  Please extract the email name components from ...   \n",
       "3  Please extract the email name components from ...   \n",
       "4  Please extract the email name components from ...   \n",
       "\n",
       "                                             context  prompt_type  \n",
       "0  Input:{\"Email Address\": \"a_desai@openbook.work...  email-names  \n",
       "1  Input:{\"Email Address\": \"a_elliott@outcast-clo...  email-names  \n",
       "2  Input:{\"Email Address\": \"a_foster@markconsults...  email-names  \n",
       "3  Input:{\"Email Address\": \"a_harrington@optilogi...  email-names  \n",
       "4  Input:{\"Email Address\": \"a_howard@cbtcompanyin...  email-names  "
      ]
     },
     "execution_count": 18,
     "metadata": {},
     "output_type": "execute_result"
    }
   ],
   "source": [
    "prompt_df = pd.DataFrame({'system_prompt':system_prompt,\n",
    "                         'instruction':instruction,\n",
    "                          'context': contexts,\n",
    "                         'prompt_type':prompt_type\n",
    "                        })\n",
    "prompt_df.head()"
   ]
  },
  {
   "cell_type": "code",
   "execution_count": 19,
   "id": "19e7b289-74e0-4d99-a474-1ff5758f189d",
   "metadata": {
    "tags": []
   },
   "outputs": [
    {
     "name": "stdout",
     "output_type": "stream",
     "text": [
      "You are a highly skilled assistant specializing in data extraction. Your current task is to analyze the 'Email Address' and 'Display Name' fields to extract the 'First Name', 'Middle Name', 'Last Name', 'Name Prefix', and 'Name Suffix'.\n",
      "\n",
      "Please respond strictly with this JSON format:\n",
      "{\n",
      "  \"First Name\": \"xxx\", \n",
      "  \"Middle Name\": \"xxx\", \n",
      "  \"Last Name\": \"xxx\", \n",
      "  \"Name Prefix\": \"xxx\", \n",
      "  \"Name Suffix\": \"xxx\"\n",
      "}\n",
      "\n",
      "where 'xxx' should be replaced with the corresponding name component extracted from the 'Email Address' or 'Display Name' fields. If a component is not present, leave the value as an empty string \"\".\n",
      "\n",
      "Name components are generally extracted from the 'Display Name' field, however, reviewing the 'Email Address' field can give additional information into the correct extraction of the 'First Name', 'Middle Name', and 'Last Name' fields.\n",
      "\n",
      "The 'Display Name' field can include extra terms like business names, job codes, locations, email addresses, and more. All of these extra terms should be ignored and not extracted as one of the name components.\n",
      "\n",
      "Here are three examples of how to correctly extract name components from an 'Email Address' and 'Display Name':\n",
      "\n",
      "Input:\n",
      "{\n",
      "  \"Email Address\": \"robertk@inertismedia.com\",\n",
      "  \"Display Name\": \"Robert Kalinski (External)\"\n",
      "}\n",
      "\n",
      "Output:\n",
      "\n",
      "{\n",
      "  \"First Name\": \"Robert\",\n",
      "  \"Middle Name\": \"\",\n",
      "  \"Last Name\": \"Kalinski\",\n",
      "  \"Name Prefix\": \"\",\n",
      "  \"Name Suffix\": \"\"\n",
      "}\n",
      "\n",
      "Input:\n",
      "{\n",
      "  \"Email Address\": \"sally.smith@localio.com\",\n",
      "  \"Display Name\": \"SMITH Sally M. - Localio Solutions\"\n",
      "}\n",
      "\n",
      "Output:\n",
      "\n",
      "{\n",
      "  \"First Name\": \"Sally\",\n",
      "  \"Middle Name\": \"M.\",\n",
      "  \"Last Name\": \"Smith\",\n",
      "  \"Name Prefix\": \"\",\n",
      "  \"Name Suffix\": \"\"\n",
      "}\n",
      "\n",
      "Input:\n",
      "{\n",
      "  \"Email Address\": \"hrobertson9@pttl-firm.com\",\n",
      "  \"Display Name\": \"Dr. Harriet K. Robertson PhD\"\n",
      "}\n",
      "\n",
      "Output:\n",
      "\n",
      "{\n",
      "  \"First Name\": \"Harriet\",\n",
      "  \"Middle Name\": \"K\",\n",
      "  \"Last Name\": \"Robertson\",\n",
      "  \"Name Prefix\": “Dr.\",\n",
      "  \"Name Suffix\": “PhD\"\n",
      "}\n",
      "\n",
      "\n"
     ]
    }
   ],
   "source": [
    "# sanity check system prompt\n",
    "print(prompt_df.iloc[0]['system_prompt'])"
   ]
  },
  {
   "cell_type": "code",
   "execution_count": 20,
   "id": "e1f6c423-b6b6-4e0c-89a6-b5723aab6659",
   "metadata": {
    "tags": []
   },
   "outputs": [
    {
     "name": "stdout",
     "output_type": "stream",
     "text": [
      "Please extract the email name components from the following input. All output must be in valid JSON. Don’t add explanation beyond the JSON.\n"
     ]
    }
   ],
   "source": [
    "# sanity check instruction\n",
    "print(prompt_df.iloc[0]['instruction'])"
   ]
  },
  {
   "cell_type": "markdown",
   "id": "0a8c136f-9281-4c31-915a-d7070c0bb1bf",
   "metadata": {},
   "source": [
    "### Initialize Model Endpoint"
   ]
  },
  {
   "cell_type": "code",
   "execution_count": 22,
   "id": "e3bef90e-4882-4890-b4a5-d8fd1e507671",
   "metadata": {
    "tags": []
   },
   "outputs": [],
   "source": [
    "# setup endpoint config\n",
    "endpoint_name = 'mistral-7b-email-name-finetuned'\n",
    "model = \"Mistral-7B\"\n",
    "model_version = \"2.3.0\"\n",
    "model_id = \"huggingface-llm-mistral-7b\""
   ]
  },
  {
   "cell_type": "code",
   "execution_count": 23,
   "id": "4e952774-b75f-4238-aa34-e62a97b98380",
   "metadata": {
    "tags": []
   },
   "outputs": [],
   "source": [
    "# endpoint\n",
    "mistral = Mistral_7B_V1(endpoint_name=endpoint_name)"
   ]
  },
  {
   "cell_type": "markdown",
   "id": "0e266a50-6752-4e36-87a5-79d199ff809e",
   "metadata": {},
   "source": [
    "### Invoke Model and Get Results"
   ]
  },
  {
   "cell_type": "code",
   "execution_count": 24,
   "id": "53356eac-65f2-4521-9f1e-ae6826c101f4",
   "metadata": {
    "tags": []
   },
   "outputs": [
    {
     "name": "stderr",
     "output_type": "stream",
     "text": [
      "  1%|          | 1/100 [00:04<07:42,  4.68s/it]"
     ]
    },
    {
     "name": "stdout",
     "output_type": "stream",
     "text": [
      "Function 'query_mistral_endpoint' took 4.78855 seconds to execute.\n",
      "Function 'check_email_names_2' took 0.00070 seconds to execute.\n",
      "Function 'extract_results' took 0.00074 seconds to execute.\n",
      "Function 'get_email_name_results' took 4.78968 seconds to execute.\n",
      "Function 'query_mistral_endpoint' took 4.77979 seconds to execute.\n",
      "Function 'check_email_names_2' took 0.00002 seconds to execute.\n",
      "Function 'extract_results' took 0.00004 seconds to execute.\n",
      "Function 'get_email_name_results' took 4.77996 seconds to execute.\n",
      "Function 'query_mistral_endpoint' took 4.77610 seconds to execute.\n",
      "Function 'check_email_names_2' took 0.00039 seconds to execute.\n",
      "Function 'extract_results' took 0.00044 seconds to execute.\n",
      "Function 'get_email_name_results' took 4.77682 seconds to execute.\n",
      "Function 'query_mistral_endpoint' took 4.76481 seconds to execute.\n",
      "Function 'check_email_names_2' took 0.00001 seconds to execute.\n",
      "Function 'extract_results' took 0.00002 seconds to execute.\n",
      "Function 'get_email_name_results' took 4.76497 seconds to execute.\n",
      "Function 'query_mistral_endpoint' took 4.79180 seconds to execute.\n",
      "Function 'check_email_names_2' took 0.00002 seconds to execute.\n",
      "Function 'extract_results' took 0.00003 seconds to execute.\n",
      "Function 'get_email_name_results' took 4.79201 seconds to execute.\n",
      "Function 'query_mistral_endpoint' took 4.78842 seconds to execute.\n",
      "Function 'check_email_names_2' took 0.00002 seconds to execute.\n",
      "Function 'extract_results' took 0.00004 seconds to execute.\n",
      "Function 'get_email_name_results' took 4.78858 seconds to execute.\n"
     ]
    },
    {
     "name": "stderr",
     "output_type": "stream",
     "text": [
      "  7%|▋         | 7/100 [00:09<01:49,  1.18s/it]"
     ]
    },
    {
     "name": "stdout",
     "output_type": "stream",
     "text": [
      "Function 'query_mistral_endpoint' took 4.63115 seconds to execute.\n",
      "Function 'check_email_names_2' took 0.00009 seconds to execute.\n",
      "Function 'extract_results' took 0.00013 seconds to execute.\n",
      "Function 'get_email_name_results' took 4.63357 seconds to execute.\n",
      "Function 'query_mistral_endpoint' took 4.64105 seconds to execute.\n",
      "Function 'check_email_names_2' took 0.00002 seconds to execute.\n",
      "Function 'extract_results' took 0.00003 seconds to execute.\n",
      "Function 'get_email_name_results' took 4.64122 seconds to execute.\n",
      "Function 'query_mistral_endpoint' took 4.63775 seconds to execute.\n",
      "Function 'check_email_names_2' took 0.00002 seconds to execute.\n",
      "Function 'extract_results' took 0.00003 seconds to execute.\n",
      "Function 'get_email_name_results' took 4.63790 seconds to execute.\n",
      "Function 'query_mistral_endpoint' took 4.64565 seconds to execute.\n",
      "Function 'check_email_names_2' took 0.00002 seconds to execute.\n",
      "Function 'extract_results' took 0.00003 seconds to execute.\n",
      "Function 'get_email_name_results' took 4.64576 seconds to execute.\n",
      "Function 'query_mistral_endpoint' took 4.63710 seconds to execute.\n",
      "Function 'check_email_names_2' took 0.00001 seconds to execute.\n",
      "Function 'extract_results' took 0.00003 seconds to execute.\n",
      "Function 'get_email_name_results' took 4.63723 seconds to execute.\n",
      "Function 'query_mistral_endpoint' took 4.65369 seconds to execute.\n",
      "Function 'check_email_names_2' took 0.00002 seconds to execute.\n",
      "Function 'extract_results' took 0.00003 seconds to execute.\n",
      "Function 'get_email_name_results' took 4.65384 seconds to execute.\n"
     ]
    },
    {
     "name": "stderr",
     "output_type": "stream",
     "text": [
      " 13%|█▎        | 13/100 [00:13<01:22,  1.05it/s]"
     ]
    },
    {
     "name": "stdout",
     "output_type": "stream",
     "text": [
      "Function 'query_mistral_endpoint' took 4.63230 seconds to execute.\n",
      "Function 'check_email_names_2' took 0.00003 seconds to execute.\n",
      "Function 'extract_results' took 0.00005 seconds to execute.\n",
      "Function 'get_email_name_results' took 4.63283 seconds to execute.\n",
      "Function 'query_mistral_endpoint' took 4.62391 seconds to execute.\n",
      "Function 'check_email_names_2' took 0.00002 seconds to execute.\n",
      "Function 'extract_results' took 0.00003 seconds to execute.\n",
      "Function 'get_email_name_results' took 4.62406 seconds to execute.\n",
      "Function 'query_mistral_endpoint' took 4.63405 seconds to execute.\n",
      "Function 'check_email_names_2' took 0.00002 seconds to execute.\n",
      "Function 'extract_results' took 0.00003 seconds to execute.\n",
      "Function 'get_email_name_results' took 4.63417 seconds to execute.\n",
      "Function 'query_mistral_endpoint' took 4.63578 seconds to execute.\n",
      "Function 'check_email_names_2' took 0.00002 seconds to execute.\n",
      "Function 'extract_results' took 0.00003 seconds to execute.\n",
      "Function 'get_email_name_results' took 4.63591 seconds to execute.\n",
      "Function 'query_mistral_endpoint' took 4.64695 seconds to execute.\n",
      "Function 'check_email_names_2' took 0.00001 seconds to execute.\n",
      "Function 'extract_results' took 0.00002 seconds to execute.\n",
      "Function 'get_email_name_results' took 4.64708 seconds to execute.\n",
      "Function 'query_mistral_endpoint' took 4.64073 seconds to execute.\n",
      "Function 'check_email_names_2' took 0.00005 seconds to execute.\n",
      "Function 'extract_results' took 0.00007 seconds to execute.\n",
      "Function 'get_email_name_results' took 4.64163 seconds to execute.\n"
     ]
    },
    {
     "name": "stderr",
     "output_type": "stream",
     "text": [
      " 19%|█▉        | 19/100 [00:18<01:10,  1.15it/s]"
     ]
    },
    {
     "name": "stdout",
     "output_type": "stream",
     "text": [
      "Function 'query_mistral_endpoint' took 4.62957 seconds to execute.\n",
      "Function 'check_email_names_2' took 0.00002 seconds to execute.\n",
      "Function 'extract_results' took 0.00007 seconds to execute.\n",
      "Function 'get_email_name_results' took 4.62981 seconds to execute.\n",
      "Function 'query_mistral_endpoint' took 4.64215 seconds to execute.\n",
      "Function 'check_email_names_2' took 0.00002 seconds to execute.\n",
      "Function 'extract_results' took 0.00003 seconds to execute.\n",
      "Function 'get_email_name_results' took 4.64230 seconds to execute.\n",
      "Function 'query_mistral_endpoint' took 4.63675 seconds to execute.\n",
      "Function 'check_email_names_2' took 0.00002 seconds to execute.\n",
      "Function 'extract_results' took 0.00003 seconds to execute.\n",
      "Function 'get_email_name_results' took 4.63691 seconds to execute.\n",
      "Function 'query_mistral_endpoint' took 4.63717 seconds to execute.\n",
      "Function 'check_email_names_2' took 0.00002 seconds to execute.\n",
      "Function 'extract_results' took 0.00003 seconds to execute.\n",
      "Function 'get_email_name_results' took 4.63731 seconds to execute.\n",
      "Function 'query_mistral_endpoint' took 4.64385 seconds to execute.\n",
      "Function 'check_email_names_2' took 0.00001 seconds to execute.\n",
      "Function 'extract_results' took 0.00003 seconds to execute.\n",
      "Function 'get_email_name_results' took 4.64404 seconds to execute.\n",
      "Function 'query_mistral_endpoint' took 4.63255 seconds to execute.\n",
      "Function 'check_email_names_2' took 0.00001 seconds to execute.\n",
      "Function 'extract_results' took 0.00002 seconds to execute.\n",
      "Function 'get_email_name_results' took 4.63297 seconds to execute.\n"
     ]
    },
    {
     "name": "stderr",
     "output_type": "stream",
     "text": [
      " 25%|██▌       | 25/100 [00:23<01:02,  1.20it/s]"
     ]
    },
    {
     "name": "stdout",
     "output_type": "stream",
     "text": [
      "Function 'query_mistral_endpoint' took 4.63005 seconds to execute.\n",
      "Function 'check_email_names_2' took 0.00003 seconds to execute.\n",
      "Function 'extract_results' took 0.00004 seconds to execute.\n",
      "Function 'get_email_name_results' took 4.63028 seconds to execute.\n",
      "Function 'query_mistral_endpoint' took 4.63310 seconds to execute.\n",
      "Function 'check_email_names_2' took 0.00002 seconds to execute.\n",
      "Function 'extract_results' took 0.00003 seconds to execute.\n",
      "Function 'get_email_name_results' took 4.63329 seconds to execute.\n",
      "Function 'query_mistral_endpoint' took 4.62777 seconds to execute.\n",
      "Function 'check_email_names_2' took 0.00001 seconds to execute.\n",
      "Function 'extract_results' took 0.00003 seconds to execute.\n",
      "Function 'get_email_name_results' took 4.62789 seconds to execute.\n",
      "Function 'query_mistral_endpoint' took 4.63817 seconds to execute.\n",
      "Function 'check_email_names_2' took 0.00002 seconds to execute.\n",
      "Function 'extract_results' took 0.00004 seconds to execute.\n",
      "Function 'get_email_name_results' took 4.63834 seconds to execute.\n",
      "Function 'query_mistral_endpoint' took 4.63657 seconds to execute.\n",
      "Function 'check_email_names_2' took 0.00002 seconds to execute.\n",
      "Function 'extract_results' took 0.00004 seconds to execute.\n",
      "Function 'get_email_name_results' took 4.63671 seconds to execute.\n",
      "Function 'query_mistral_endpoint' took 4.64556 seconds to execute.\n",
      "Function 'check_email_names_2' took 0.00050 seconds to execute.\n",
      "Function 'extract_results' took 0.00111 seconds to execute.\n",
      "Function 'get_email_name_results' took 4.64878 seconds to execute.\n"
     ]
    },
    {
     "name": "stderr",
     "output_type": "stream",
     "text": [
      " 31%|███       | 31/100 [00:27<00:56,  1.23it/s]"
     ]
    },
    {
     "name": "stdout",
     "output_type": "stream",
     "text": [
      "Function 'query_mistral_endpoint' took 4.65926 seconds to execute.\n",
      "Function 'check_email_names_2' took 0.00002 seconds to execute.\n",
      "Function 'extract_results' took 0.00004 seconds to execute.\n",
      "Function 'get_email_name_results' took 4.65949 seconds to execute.\n",
      "Function 'query_mistral_endpoint' took 4.65763 seconds to execute.\n",
      "Function 'check_email_names_2' took 0.00002 seconds to execute.\n",
      "Function 'extract_results' took 0.00003 seconds to execute.\n",
      "Function 'get_email_name_results' took 4.65777 seconds to execute.\n",
      "Function 'query_mistral_endpoint' took 4.64763 seconds to execute.\n",
      "Function 'check_email_names_2' took 0.00002 seconds to execute.\n",
      "Function 'extract_results' took 0.00003 seconds to execute.\n",
      "Function 'get_email_name_results' took 4.64777 seconds to execute.\n",
      "Function 'query_mistral_endpoint' took 4.65181 seconds to execute.\n",
      "Function 'check_email_names_2' took 0.00001 seconds to execute.\n",
      "Function 'extract_results' took 0.00003 seconds to execute.\n",
      "Function 'get_email_name_results' took 4.65205 seconds to execute.\n",
      "Function 'query_mistral_endpoint' took 4.66226 seconds to execute.\n",
      "Function 'check_email_names_2' took 0.00024 seconds to execute.\n",
      "Function 'extract_results' took 0.00037 seconds to execute.\n",
      "Function 'get_email_name_results' took 4.66274 seconds to execute.\n",
      "Function 'query_mistral_endpoint' took 4.64895 seconds to execute.\n",
      "Function 'check_email_names_2' took 0.00002 seconds to execute.\n",
      "Function 'extract_results' took 0.00008 seconds to execute.\n",
      "Function 'get_email_name_results' took 4.64916 seconds to execute.\n"
     ]
    },
    {
     "name": "stderr",
     "output_type": "stream",
     "text": [
      " 37%|███▋      | 37/100 [00:32<00:50,  1.25it/s]"
     ]
    },
    {
     "name": "stdout",
     "output_type": "stream",
     "text": [
      "Function 'query_mistral_endpoint' took 4.63469 seconds to execute.\n",
      "Function 'check_email_names_2' took 0.00003 seconds to execute.\n",
      "Function 'extract_results' took 0.00005 seconds to execute.\n",
      "Function 'get_email_name_results' took 4.63501 seconds to execute.\n",
      "Function 'query_mistral_endpoint' took 4.62401 seconds to execute.\n",
      "Function 'check_email_names_2' took 0.00002 seconds to execute.\n",
      "Function 'extract_results' took 0.00003 seconds to execute.\n",
      "Function 'get_email_name_results' took 4.62415 seconds to execute.\n",
      "Function 'query_mistral_endpoint' took 4.64351 seconds to execute.\n",
      "Function 'check_email_names_2' took 0.00002 seconds to execute.\n",
      "Function 'extract_results' took 0.00003 seconds to execute.\n",
      "Function 'get_email_name_results' took 4.64367 seconds to execute.\n",
      "Function 'query_mistral_endpoint' took 4.64268 seconds to execute.\n",
      "Function 'check_email_names_2' took 0.00002 seconds to execute.\n",
      "Function 'extract_results' took 0.00008 seconds to execute.\n",
      "Function 'get_email_name_results' took 4.64287 seconds to execute.\n",
      "Function 'query_mistral_endpoint' took 4.64686 seconds to execute.\n",
      "Function 'check_email_names_2' took 0.00002 seconds to execute.\n",
      "Function 'extract_results' took 0.00003 seconds to execute.\n",
      "Function 'get_email_name_results' took 4.64711 seconds to execute.\n",
      "Function 'query_mistral_endpoint' took 4.65101 seconds to execute.\n",
      "Function 'check_email_names_2' took 0.00002 seconds to execute.\n",
      "Function 'extract_results' took 0.00003 seconds to execute.\n",
      "Function 'get_email_name_results' took 4.65114 seconds to execute.\n"
     ]
    },
    {
     "name": "stderr",
     "output_type": "stream",
     "text": [
      " 43%|████▎     | 43/100 [00:37<00:45,  1.26it/s]"
     ]
    },
    {
     "name": "stdout",
     "output_type": "stream",
     "text": [
      "Function 'query_mistral_endpoint' took 4.60879 seconds to execute.\n",
      "Function 'check_email_names_2' took 0.00002 seconds to execute.\n",
      "Function 'extract_results' took 0.00004 seconds to execute.\n",
      "Function 'get_email_name_results' took 4.60923 seconds to execute.\n",
      "Function 'query_mistral_endpoint' took 4.63206 seconds to execute.\n",
      "Function 'check_email_names_2' took 0.00001 seconds to execute.\n",
      "Function 'extract_results' took 0.00003 seconds to execute.\n",
      "Function 'get_email_name_results' took 4.63220 seconds to execute.\n",
      "Function 'query_mistral_endpoint' took 4.61853 seconds to execute.\n",
      "Function 'check_email_names_2' took 0.00002 seconds to execute.\n",
      "Function 'extract_results' took 0.00003 seconds to execute.\n",
      "Function 'get_email_name_results' took 4.61866 seconds to execute.\n",
      "Function 'query_mistral_endpoint' took 4.63167 seconds to execute.\n",
      "Function 'check_email_names_2' took 0.00002 seconds to execute.\n",
      "Function 'extract_results' took 0.00008 seconds to execute.\n",
      "Function 'get_email_name_results' took 4.63187 seconds to execute.\n",
      "Function 'query_mistral_endpoint' took 4.63685 seconds to execute.\n",
      "Function 'check_email_names_2' took 0.00012 seconds to execute.\n",
      "Function 'extract_results' took 0.00015 seconds to execute.\n",
      "Function 'get_email_name_results' took 4.63712 seconds to execute.\n",
      "Function 'query_mistral_endpoint' took 4.64932 seconds to execute.\n",
      "Function 'check_email_names_2' took 0.00002 seconds to execute.\n",
      "Function 'extract_results' took 0.00003 seconds to execute.\n",
      "Function 'get_email_name_results' took 4.64951 seconds to execute.\n"
     ]
    },
    {
     "name": "stderr",
     "output_type": "stream",
     "text": [
      " 49%|████▉     | 49/100 [00:41<00:40,  1.27it/s]"
     ]
    },
    {
     "name": "stdout",
     "output_type": "stream",
     "text": [
      "Function 'query_mistral_endpoint' took 4.60886 seconds to execute.\n",
      "Function 'check_email_names_2' took 0.00002 seconds to execute.\n",
      "Function 'extract_results' took 0.00003 seconds to execute.\n",
      "Function 'get_email_name_results' took 4.60919 seconds to execute.\n",
      "Function 'query_mistral_endpoint' took 4.62997 seconds to execute.\n",
      "Function 'check_email_names_2' took 0.00001 seconds to execute.\n",
      "Function 'extract_results' took 0.00003 seconds to execute.\n",
      "Function 'get_email_name_results' took 4.63010 seconds to execute.\n",
      "Function 'query_mistral_endpoint' took 4.61467 seconds to execute.\n",
      "Function 'check_email_names_2' took 0.00001 seconds to execute.\n",
      "Function 'extract_results' took 0.00003 seconds to execute.\n",
      "Function 'get_email_name_results' took 4.61482 seconds to execute.\n",
      "Function 'query_mistral_endpoint' took 4.61927 seconds to execute.\n",
      "Function 'check_email_names_2' took 0.00001 seconds to execute.\n",
      "Function 'extract_results' took 0.00002 seconds to execute.\n",
      "Function 'get_email_name_results' took 4.61941 seconds to execute.\n",
      "Function 'query_mistral_endpoint' took 4.62792 seconds to execute.\n",
      "Function 'check_email_names_2' took 0.00002 seconds to execute.\n",
      "Function 'extract_results' took 0.00003 seconds to execute.\n",
      "Function 'get_email_name_results' took 4.62831 seconds to execute.\n",
      "Function 'query_mistral_endpoint' took 4.63980 seconds to execute.\n",
      "Function 'check_email_names_2' took 0.00001 seconds to execute.\n",
      "Function 'extract_results' took 0.00003 seconds to execute.\n",
      "Function 'get_email_name_results' took 4.64001 seconds to execute.\n"
     ]
    },
    {
     "name": "stderr",
     "output_type": "stream",
     "text": [
      " 55%|█████▌    | 55/100 [00:46<00:35,  1.28it/s]"
     ]
    },
    {
     "name": "stdout",
     "output_type": "stream",
     "text": [
      "Function 'query_mistral_endpoint' took 4.63372 seconds to execute.\n",
      "Function 'check_email_names_2' took 0.00002 seconds to execute.\n",
      "Function 'extract_results' took 0.00005 seconds to execute.\n",
      "Function 'get_email_name_results' took 4.63440 seconds to execute.\n",
      "Function 'query_mistral_endpoint' took 4.63049 seconds to execute.\n",
      "Function 'check_email_names_2' took 0.00002 seconds to execute.\n",
      "Function 'extract_results' took 0.00003 seconds to execute.\n",
      "Function 'get_email_name_results' took 4.63062 seconds to execute.\n",
      "Function 'query_mistral_endpoint' took 4.63029 seconds to execute.\n",
      "Function 'check_email_names_2' took 0.00001 seconds to execute.\n",
      "Function 'extract_results' took 0.00002 seconds to execute.\n",
      "Function 'get_email_name_results' took 4.63041 seconds to execute.\n",
      "Function 'query_mistral_endpoint' took 4.64077 seconds to execute.\n",
      "Function 'check_email_names_2' took 0.00001 seconds to execute.\n",
      "Function 'extract_results' took 0.00003 seconds to execute.\n",
      "Function 'get_email_name_results' took 4.64090 seconds to execute.\n",
      "Function 'query_mistral_endpoint' took 4.64672 seconds to execute.\n",
      "Function 'check_email_names_2' took 0.00002 seconds to execute.\n",
      "Function 'extract_results' took 0.00003 seconds to execute.\n",
      "Function 'get_email_name_results' took 4.64687 seconds to execute.\n",
      "Function 'query_mistral_endpoint' took 4.64605 seconds to execute.\n",
      "Function 'check_email_names_2' took 0.00002 seconds to execute.\n",
      "Function 'extract_results' took 0.00003 seconds to execute.\n",
      "Function 'get_email_name_results' took 4.64617 seconds to execute.\n"
     ]
    },
    {
     "name": "stderr",
     "output_type": "stream",
     "text": [
      " 61%|██████    | 61/100 [00:51<00:30,  1.28it/s]"
     ]
    },
    {
     "name": "stdout",
     "output_type": "stream",
     "text": [
      "Function 'query_mistral_endpoint' took 4.64172 seconds to execute.\n",
      "Function 'check_email_names_2' took 0.00003 seconds to execute.\n",
      "Function 'extract_results' took 0.00004 seconds to execute.\n",
      "Function 'get_email_name_results' took 4.64208 seconds to execute.\n",
      "Function 'query_mistral_endpoint' took 4.63568 seconds to execute.\n",
      "Function 'check_email_names_2' took 0.00003 seconds to execute.\n",
      "Function 'extract_results' took 0.00005 seconds to execute.\n",
      "Function 'get_email_name_results' took 4.63587 seconds to execute.\n",
      "Function 'query_mistral_endpoint' took 4.64579 seconds to execute.\n",
      "Function 'check_email_names_2' took 0.00002 seconds to execute.\n",
      "Function 'extract_results' took 0.00004 seconds to execute.\n",
      "Function 'get_email_name_results' took 4.64595 seconds to execute.\n",
      "Function 'query_mistral_endpoint' took 4.65055 seconds to execute.\n",
      "Function 'check_email_names_2' took 0.00002 seconds to execute.\n",
      "Function 'extract_results' took 0.00005 seconds to execute.\n",
      "Function 'get_email_name_results' took 4.65072 seconds to execute.\n",
      "Function 'query_mistral_endpoint' took 4.65366 seconds to execute.\n",
      "Function 'check_email_names_2' took 0.00008 seconds to execute.\n",
      "Function 'extract_results' took 0.00012 seconds to execute.\n",
      "Function 'get_email_name_results' took 4.65394 seconds to execute.\n",
      "Function 'query_mistral_endpoint' took 4.64947 seconds to execute.\n",
      "Function 'check_email_names_2' took 0.00002 seconds to execute.\n",
      "Function 'extract_results' took 0.00003 seconds to execute.\n",
      "Function 'get_email_name_results' took 4.64962 seconds to execute.\n"
     ]
    },
    {
     "name": "stderr",
     "output_type": "stream",
     "text": [
      " 67%|██████▋   | 67/100 [00:55<00:25,  1.29it/s]"
     ]
    },
    {
     "name": "stdout",
     "output_type": "stream",
     "text": [
      "Function 'query_mistral_endpoint' took 4.63942 seconds to execute.\n",
      "Function 'check_email_names_2' took 0.00003 seconds to execute.\n",
      "Function 'extract_results' took 0.00005 seconds to execute.\n",
      "Function 'get_email_name_results' took 4.63964 seconds to execute.\n",
      "Function 'query_mistral_endpoint' took 4.64917 seconds to execute.\n",
      "Function 'check_email_names_2' took 0.00001 seconds to execute.\n",
      "Function 'extract_results' took 0.00002 seconds to execute.\n",
      "Function 'get_email_name_results' took 4.64932 seconds to execute.\n",
      "Function 'query_mistral_endpoint' took 4.66466 seconds to execute.\n",
      "Function 'check_email_names_2' took 0.00002 seconds to execute.\n",
      "Function 'extract_results' took 0.00004 seconds to execute.\n",
      "Function 'get_email_name_results' took 4.66484 seconds to execute.\n",
      "Function 'query_mistral_endpoint' took 4.66285 seconds to execute.\n",
      "Function 'check_email_names_2' took 0.00002 seconds to execute.\n",
      "Function 'extract_results' took 0.00003 seconds to execute.\n",
      "Function 'get_email_name_results' took 4.66303 seconds to execute.\n",
      "Function 'query_mistral_endpoint' took 4.66246 seconds to execute.\n",
      "Function 'check_email_names_2' took 0.00002 seconds to execute.\n",
      "Function 'extract_results' took 0.00003 seconds to execute.\n",
      "Function 'get_email_name_results' took 4.66266 seconds to execute.\n",
      "Function 'query_mistral_endpoint' took 4.66713 seconds to execute.\n",
      "Function 'check_email_names_2' took 0.00002 seconds to execute.\n",
      "Function 'extract_results' took 0.00003 seconds to execute.\n",
      "Function 'get_email_name_results' took 4.66738 seconds to execute.\n"
     ]
    },
    {
     "name": "stderr",
     "output_type": "stream",
     "text": [
      " 73%|███████▎  | 73/100 [01:00<00:20,  1.29it/s]"
     ]
    },
    {
     "name": "stdout",
     "output_type": "stream",
     "text": [
      "Function 'query_mistral_endpoint' took 4.66019 seconds to execute.\n",
      "Function 'check_email_names_2' took 0.00003 seconds to execute.\n",
      "Function 'extract_results' took 0.00021 seconds to execute.\n",
      "Function 'get_email_name_results' took 4.66059 seconds to execute.\n",
      "Function 'query_mistral_endpoint' took 4.65390 seconds to execute.\n",
      "Function 'check_email_names_2' took 0.00002 seconds to execute.\n",
      "Function 'extract_results' took 0.00003 seconds to execute.\n",
      "Function 'get_email_name_results' took 4.65403 seconds to execute.\n",
      "Function 'query_mistral_endpoint' took 4.66498 seconds to execute.\n",
      "Function 'check_email_names_2' took 0.00001 seconds to execute.\n",
      "Function 'extract_results' took 0.00003 seconds to execute.\n",
      "Function 'get_email_name_results' took 4.66510 seconds to execute.\n",
      "Function 'query_mistral_endpoint' took 4.64825 seconds to execute.\n",
      "Function 'check_email_names_2' took 0.00001 seconds to execute.\n",
      "Function 'extract_results' took 0.00003 seconds to execute.\n",
      "Function 'get_email_name_results' took 4.64838 seconds to execute.\n",
      "Function 'query_mistral_endpoint' took 4.66306 seconds to execute.\n",
      "Function 'check_email_names_2' took 0.00001 seconds to execute.\n",
      "Function 'extract_results' took 0.00002 seconds to execute.\n",
      "Function 'get_email_name_results' took 4.66321 seconds to execute.\n",
      "Function 'query_mistral_endpoint' took 4.65056 seconds to execute.\n",
      "Function 'check_email_names_2' took 0.00002 seconds to execute.\n",
      "Function 'extract_results' took 0.00003 seconds to execute.\n",
      "Function 'get_email_name_results' took 4.65069 seconds to execute.\n"
     ]
    },
    {
     "name": "stderr",
     "output_type": "stream",
     "text": [
      " 79%|███████▉  | 79/100 [01:05<00:16,  1.29it/s]"
     ]
    },
    {
     "name": "stdout",
     "output_type": "stream",
     "text": [
      "Function 'query_mistral_endpoint' took 4.62894 seconds to execute.Function 'query_mistral_endpoint' took 4.64108 seconds to execute.\n",
      "Function 'check_email_names_2' took 0.00002 seconds to execute.\n",
      "Function 'extract_results' took 0.00003 seconds to execute.\n",
      "Function 'get_email_name_results' took 4.64123 seconds to execute.\n",
      "Function 'query_mistral_endpoint' took 4.63940 seconds to execute.\n",
      "Function 'check_email_names_2' took 0.00002 seconds to execute.\n",
      "Function 'extract_results' took 0.00004 seconds to execute.\n",
      "Function 'get_email_name_results' took 4.63960 seconds to execute.\n",
      "\n",
      "Function 'check_email_names_2' took 0.00002 seconds to execute.\n",
      "Function 'extract_results' took 0.00003 seconds to execute.\n",
      "Function 'get_email_name_results' took 4.63243 seconds to execute.\n",
      "Function 'query_mistral_endpoint' took 4.63537 seconds to execute.\n",
      "Function 'check_email_names_2' took 0.00001 seconds to execute.\n",
      "Function 'extract_results' took 0.00002 seconds to execute.\n",
      "Function 'get_email_name_results' took 4.63550 seconds to execute.\n",
      "Function 'query_mistral_endpoint' took 4.64246 seconds to execute.\n",
      "Function 'check_email_names_2' took 0.00001 seconds to execute.\n",
      "Function 'extract_results' took 0.00002 seconds to execute.\n",
      "Function 'get_email_name_results' took 4.64257 seconds to execute.\n",
      "Function 'query_mistral_endpoint' took 4.64120 seconds to execute.\n",
      "Function 'check_email_names_2' took 0.00001 seconds to execute.\n",
      "Function 'extract_results' took 0.00003 seconds to execute.\n",
      "Function 'get_email_name_results' took 4.64134 seconds to execute.\n"
     ]
    },
    {
     "name": "stderr",
     "output_type": "stream",
     "text": [
      " 85%|████████▌ | 85/100 [01:09<00:11,  1.29it/s]"
     ]
    },
    {
     "name": "stdout",
     "output_type": "stream",
     "text": [
      "Function 'query_mistral_endpoint' took 4.62958 seconds to execute.\n",
      "Function 'check_email_names_2' took 0.00003 seconds to execute.\n",
      "Function 'extract_results' took 0.00006 seconds to execute.\n",
      "Function 'get_email_name_results' took 4.62980 seconds to execute.\n",
      "Function 'query_mistral_endpoint' took 4.63722 seconds to execute.\n",
      "Function 'check_email_names_2' took 0.00001 seconds to execute.\n",
      "Function 'extract_results' took 0.00003 seconds to execute.\n",
      "Function 'get_email_name_results' took 4.63736 seconds to execute.\n",
      "Function 'query_mistral_endpoint' took 4.63405 seconds to execute.\n",
      "Function 'check_email_names_2' took 0.00001 seconds to execute.\n",
      "Function 'extract_results' took 0.00003 seconds to execute.\n",
      "Function 'get_email_name_results' took 4.63416 seconds to execute.\n",
      "Function 'query_mistral_endpoint' took 4.64227 seconds to execute.\n",
      "Function 'check_email_names_2' took 0.00001 seconds to execute.\n",
      "Function 'extract_results' took 0.00003 seconds to execute.\n",
      "Function 'get_email_name_results' took 4.64254 seconds to execute.\n",
      "Function 'query_mistral_endpoint' took 4.64118 seconds to execute.\n",
      "Function 'check_email_names_2' took 0.00001 seconds to execute.\n",
      "Function 'extract_results' took 0.00003 seconds to execute.\n",
      "Function 'get_email_name_results' took 4.64134 seconds to execute.\n",
      "Function 'query_mistral_endpoint' took 4.64608 seconds to execute.\n",
      "Function 'check_email_names_2' took 0.00002 seconds to execute.\n",
      "Function 'extract_results' took 0.00005 seconds to execute.\n",
      "Function 'get_email_name_results' took 4.64622 seconds to execute.\n"
     ]
    },
    {
     "name": "stderr",
     "output_type": "stream",
     "text": [
      " 91%|█████████ | 91/100 [01:14<00:06,  1.29it/s]"
     ]
    },
    {
     "name": "stdout",
     "output_type": "stream",
     "text": [
      "Function 'query_mistral_endpoint' took 4.63281 seconds to execute.\n",
      "Function 'check_email_names_2' took 0.00003 seconds to execute.\n",
      "Function 'extract_results' took 0.00006 seconds to execute.\n",
      "Function 'get_email_name_results' took 4.63327 seconds to execute.\n",
      "Function 'query_mistral_endpoint' took 4.62722 seconds to execute.\n",
      "Function 'check_email_names_2' took 0.00002 seconds to execute.\n",
      "Function 'extract_results' took 0.00003 seconds to execute.\n",
      "Function 'get_email_name_results' took 4.62734 seconds to execute.\n",
      "Function 'query_mistral_endpoint' took 4.64111 seconds to execute.\n",
      "Function 'check_email_names_2' took 0.00002 seconds to execute.\n",
      "Function 'extract_results' took 0.00003 seconds to execute.\n",
      "Function 'get_email_name_results' took 4.64124 seconds to execute.\n",
      "Function 'query_mistral_endpoint' took 4.63444 seconds to execute.\n",
      "Function 'check_email_names_2' took 0.00001 seconds to execute.\n",
      "Function 'extract_results' took 0.00003 seconds to execute.\n",
      "Function 'get_email_name_results' took 4.63456 seconds to execute.\n",
      "Function 'query_mistral_endpoint' took 4.63611 seconds to execute.\n",
      "Function 'check_email_names_2' took 0.00001 seconds to execute.\n",
      "Function 'extract_results' took 0.00002 seconds to execute.\n",
      "Function 'get_email_name_results' took 4.63622 seconds to execute.\n",
      "Function 'query_mistral_endpoint' took 4.64619 seconds to execute.\n",
      "Function 'check_email_names_2' took 0.00001 seconds to execute.\n",
      "Function 'extract_results' took 0.00002 seconds to execute.\n",
      "Function 'get_email_name_results' took 4.64631 seconds to execute.\n"
     ]
    },
    {
     "name": "stderr",
     "output_type": "stream",
     "text": [
      "100%|██████████| 100/100 [01:18<00:00,  1.27it/s]"
     ]
    },
    {
     "name": "stdout",
     "output_type": "stream",
     "text": [
      "Function 'query_mistral_endpoint' took 4.24783 seconds to execute.\n",
      "Function 'check_email_names_2' took 0.00002 seconds to execute.\n",
      "Function 'extract_results' took 0.00004 seconds to execute.\n",
      "Function 'get_email_name_results' took 4.24844 seconds to execute.\n",
      "Function 'query_mistral_endpoint' took 4.25327 seconds to execute.\n",
      "Function 'check_email_names_2' took 0.00001 seconds to execute.\n",
      "Function 'extract_results' took 0.00002 seconds to execute.\n",
      "Function 'get_email_name_results' took 4.25343 seconds to execute.\n",
      "Function 'query_mistral_endpoint' took 4.24970 seconds to execute.\n",
      "Function 'check_email_names_2' took 0.00001 seconds to execute.\n",
      "Function 'extract_results' took 0.00002 seconds to execute.\n",
      "Function 'get_email_name_results' took 4.24980 seconds to execute.\n",
      "Function 'query_mistral_endpoint' took 4.25246 seconds to execute.\n",
      "Function 'check_email_names_2' took 0.00002 seconds to execute.\n",
      "Function 'extract_results' took 0.00003 seconds to execute.\n",
      "Function 'get_email_name_results' took 4.25258 seconds to execute.\n",
      "CPU times: user 431 ms, sys: 63.2 ms, total: 494 ms\n",
      "Wall time: 1min 18s\n"
     ]
    },
    {
     "name": "stderr",
     "output_type": "stream",
     "text": [
      "\n"
     ]
    }
   ],
   "source": [
    "%%time\n",
    "results = \"\"\n",
    "with ThreadPoolExecutor() as executor:\n",
    "    results = list(tqdm(executor.map(mistral.get_email_name_results, prompt_df.iterrows()), total=len(prompt_df)))"
   ]
  },
  {
   "cell_type": "code",
   "execution_count": 25,
   "id": "a763e954-e329-4fd9-a22b-49c1cda5d0ec",
   "metadata": {
    "tags": []
   },
   "outputs": [
    {
     "data": {
      "text/plain": [
       "{'First Name': 'Aditi',\n",
       " 'Middle Name': '',\n",
       " 'Last Name': 'Desai',\n",
       " 'Name Prefix': '',\n",
       " 'Name Suffix': '',\n",
       " 'Remarks': None}"
      ]
     },
     "execution_count": 25,
     "metadata": {},
     "output_type": "execute_result"
    }
   ],
   "source": [
    "results[0]"
   ]
  },
  {
   "cell_type": "code",
   "execution_count": 26,
   "id": "30bc0bf6-3462-4134-9454-28be33eb0c7e",
   "metadata": {
    "tags": []
   },
   "outputs": [
    {
     "data": {
      "text/plain": [
       "100"
      ]
     },
     "execution_count": 26,
     "metadata": {},
     "output_type": "execute_result"
    }
   ],
   "source": [
    "len(results)"
   ]
  },
  {
   "cell_type": "markdown",
   "id": "d0c2af3e-302f-482a-8109-a9e91a330658",
   "metadata": {},
   "source": [
    "### Results Processing"
   ]
  },
  {
   "cell_type": "code",
   "execution_count": 27,
   "id": "222330e7-93df-4e22-900a-6bfe2f667108",
   "metadata": {
    "tags": []
   },
   "outputs": [],
   "source": [
    "# extracting each attribute into separate lists\n",
    "p_fname = [names['First Name'] for names in results]\n",
    "p_midname = [names['Middle Name'] for names in results]\n",
    "p_lname = [names['Last Name'] for names in results]\n",
    "p_nprefix = [names['Name Prefix'] for names in results]\n",
    "p_nsuffix = [names['Name Suffix'] for names in results]\n",
    "remarks = [names['Remarks'] for names in results]\n",
    "\n",
    "# assign new columns to the dataframe\n",
    "temp_test_data['p_fname'] = p_fname\n",
    "temp_test_data['p_midname'] = p_midname\n",
    "temp_test_data['p_lname'] = p_lname\n",
    "temp_test_data['p_nprefix'] = p_nprefix\n",
    "temp_test_data['p_nsuffix'] = p_nsuffix\n",
    "temp_test_data['remarks'] = remarks"
   ]
  },
  {
   "cell_type": "code",
   "execution_count": 28,
   "id": "b6ae2a40-4ccb-4c43-857d-a22b88c859c6",
   "metadata": {
    "tags": []
   },
   "outputs": [
    {
     "data": {
      "text/html": [
       "<div>\n",
       "<style scoped>\n",
       "    .dataframe tbody tr th:only-of-type {\n",
       "        vertical-align: middle;\n",
       "    }\n",
       "\n",
       "    .dataframe tbody tr th {\n",
       "        vertical-align: top;\n",
       "    }\n",
       "\n",
       "    .dataframe thead th {\n",
       "        text-align: right;\n",
       "    }\n",
       "</style>\n",
       "<table border=\"1\" class=\"dataframe\">\n",
       "  <thead>\n",
       "    <tr style=\"text-align: right;\">\n",
       "      <th></th>\n",
       "      <th>Test Group</th>\n",
       "      <th>Email Address</th>\n",
       "      <th>Display Name</th>\n",
       "      <th>First Name</th>\n",
       "      <th>Middle Name</th>\n",
       "      <th>Last Name</th>\n",
       "      <th>Name Prefix</th>\n",
       "      <th>Name Suffix</th>\n",
       "      <th>p_fname</th>\n",
       "      <th>p_midname</th>\n",
       "      <th>p_lname</th>\n",
       "      <th>p_nprefix</th>\n",
       "      <th>p_nsuffix</th>\n",
       "      <th>remarks</th>\n",
       "    </tr>\n",
       "  </thead>\n",
       "  <tbody>\n",
       "    <tr>\n",
       "      <th>0</th>\n",
       "      <td>INF-TEST-A</td>\n",
       "      <td>a_desai@openbook.works</td>\n",
       "      <td>Desai, Aditi</td>\n",
       "      <td>Aditi</td>\n",
       "      <td></td>\n",
       "      <td>Desai</td>\n",
       "      <td></td>\n",
       "      <td></td>\n",
       "      <td>Aditi</td>\n",
       "      <td></td>\n",
       "      <td>Desai</td>\n",
       "      <td></td>\n",
       "      <td></td>\n",
       "      <td>None</td>\n",
       "    </tr>\n",
       "    <tr>\n",
       "      <th>1</th>\n",
       "      <td>INF-TEST-A</td>\n",
       "      <td>a_elliott@outcast-clothing.com</td>\n",
       "      <td>Elliott, Alan</td>\n",
       "      <td>Alan</td>\n",
       "      <td></td>\n",
       "      <td>Elliott</td>\n",
       "      <td></td>\n",
       "      <td></td>\n",
       "      <td>Alan</td>\n",
       "      <td></td>\n",
       "      <td>Elliott</td>\n",
       "      <td></td>\n",
       "      <td></td>\n",
       "      <td>None</td>\n",
       "    </tr>\n",
       "    <tr>\n",
       "      <th>2</th>\n",
       "      <td>INF-TEST-A</td>\n",
       "      <td>a_foster@markconsults.com</td>\n",
       "      <td>ANTOINE FOSTER</td>\n",
       "      <td>Antoine</td>\n",
       "      <td></td>\n",
       "      <td>Foster</td>\n",
       "      <td></td>\n",
       "      <td></td>\n",
       "      <td>Antoine</td>\n",
       "      <td></td>\n",
       "      <td>Foster</td>\n",
       "      <td></td>\n",
       "      <td></td>\n",
       "      <td>None</td>\n",
       "    </tr>\n",
       "    <tr>\n",
       "      <th>3</th>\n",
       "      <td>INF-TEST-A</td>\n",
       "      <td>a_harrington@optilogic.com</td>\n",
       "      <td>HARRINGTON Aditya</td>\n",
       "      <td>Aditya</td>\n",
       "      <td></td>\n",
       "      <td>Harrington</td>\n",
       "      <td></td>\n",
       "      <td></td>\n",
       "      <td>Aditya</td>\n",
       "      <td></td>\n",
       "      <td>Harrington</td>\n",
       "      <td></td>\n",
       "      <td></td>\n",
       "      <td>None</td>\n",
       "    </tr>\n",
       "    <tr>\n",
       "      <th>4</th>\n",
       "      <td>INF-TEST-A</td>\n",
       "      <td>a_howard@cbtcompanyinc.com</td>\n",
       "      <td>HOWARD Anne</td>\n",
       "      <td>Anne</td>\n",
       "      <td></td>\n",
       "      <td>Howard</td>\n",
       "      <td></td>\n",
       "      <td></td>\n",
       "      <td>Anne</td>\n",
       "      <td></td>\n",
       "      <td>Howard</td>\n",
       "      <td></td>\n",
       "      <td></td>\n",
       "      <td>None</td>\n",
       "    </tr>\n",
       "  </tbody>\n",
       "</table>\n",
       "</div>"
      ],
      "text/plain": [
       "   Test Group                   Email Address       Display Name First Name  \\\n",
       "0  INF-TEST-A          a_desai@openbook.works       Desai, Aditi      Aditi   \n",
       "1  INF-TEST-A  a_elliott@outcast-clothing.com      Elliott, Alan       Alan   \n",
       "2  INF-TEST-A       a_foster@markconsults.com     ANTOINE FOSTER    Antoine   \n",
       "3  INF-TEST-A      a_harrington@optilogic.com  HARRINGTON Aditya     Aditya   \n",
       "4  INF-TEST-A      a_howard@cbtcompanyinc.com        HOWARD Anne       Anne   \n",
       "\n",
       "  Middle Name   Last Name Name Prefix Name Suffix  p_fname p_midname  \\\n",
       "0                   Desai                            Aditi             \n",
       "1                 Elliott                             Alan             \n",
       "2                  Foster                          Antoine             \n",
       "3              Harrington                           Aditya             \n",
       "4                  Howard                             Anne             \n",
       "\n",
       "      p_lname p_nprefix p_nsuffix remarks  \n",
       "0       Desai                        None  \n",
       "1     Elliott                        None  \n",
       "2      Foster                        None  \n",
       "3  Harrington                        None  \n",
       "4      Howard                        None  "
      ]
     },
     "execution_count": 28,
     "metadata": {},
     "output_type": "execute_result"
    }
   ],
   "source": [
    "temp_test_data.head()"
   ]
  },
  {
   "cell_type": "markdown",
   "id": "2c99023f-6b25-4d55-98d0-a0bf25768f01",
   "metadata": {},
   "source": [
    "### Calculate Metrics"
   ]
  },
  {
   "cell_type": "markdown",
   "id": "f848f40b-2fad-42a9-a540-e41ca3f49e89",
   "metadata": {},
   "source": [
    "#### Jaccard Index"
   ]
  },
  {
   "cell_type": "code",
   "execution_count": 29,
   "id": "5c7f195c-33d0-4af7-8303-597c1f256574",
   "metadata": {
    "tags": []
   },
   "outputs": [
    {
     "data": {
      "text/html": [
       "<div>\n",
       "<style scoped>\n",
       "    .dataframe tbody tr th:only-of-type {\n",
       "        vertical-align: middle;\n",
       "    }\n",
       "\n",
       "    .dataframe tbody tr th {\n",
       "        vertical-align: top;\n",
       "    }\n",
       "\n",
       "    .dataframe thead th {\n",
       "        text-align: right;\n",
       "    }\n",
       "</style>\n",
       "<table border=\"1\" class=\"dataframe\">\n",
       "  <thead>\n",
       "    <tr style=\"text-align: right;\">\n",
       "      <th></th>\n",
       "      <th>Test Group</th>\n",
       "      <th>Email Address</th>\n",
       "      <th>Display Name</th>\n",
       "      <th>First Name</th>\n",
       "      <th>Middle Name</th>\n",
       "      <th>Last Name</th>\n",
       "      <th>Name Prefix</th>\n",
       "      <th>Name Suffix</th>\n",
       "      <th>p_fname</th>\n",
       "      <th>p_midname</th>\n",
       "      <th>p_lname</th>\n",
       "      <th>p_nprefix</th>\n",
       "      <th>p_nsuffix</th>\n",
       "      <th>remarks</th>\n",
       "      <th>jaccard_fname</th>\n",
       "      <th>jaccard_midname</th>\n",
       "      <th>jaccard_lname</th>\n",
       "      <th>jaccard_nprefix</th>\n",
       "      <th>jaccard_nsuffix</th>\n",
       "    </tr>\n",
       "  </thead>\n",
       "  <tbody>\n",
       "    <tr>\n",
       "      <th>0</th>\n",
       "      <td>INF-TEST-A</td>\n",
       "      <td>a_desai@openbook.works</td>\n",
       "      <td>Desai, Aditi</td>\n",
       "      <td>Aditi</td>\n",
       "      <td></td>\n",
       "      <td>Desai</td>\n",
       "      <td></td>\n",
       "      <td></td>\n",
       "      <td>Aditi</td>\n",
       "      <td></td>\n",
       "      <td>Desai</td>\n",
       "      <td></td>\n",
       "      <td></td>\n",
       "      <td>None</td>\n",
       "      <td>1.0</td>\n",
       "      <td>1</td>\n",
       "      <td>1.0</td>\n",
       "      <td>1</td>\n",
       "      <td>1</td>\n",
       "    </tr>\n",
       "    <tr>\n",
       "      <th>1</th>\n",
       "      <td>INF-TEST-A</td>\n",
       "      <td>a_elliott@outcast-clothing.com</td>\n",
       "      <td>Elliott, Alan</td>\n",
       "      <td>Alan</td>\n",
       "      <td></td>\n",
       "      <td>Elliott</td>\n",
       "      <td></td>\n",
       "      <td></td>\n",
       "      <td>Alan</td>\n",
       "      <td></td>\n",
       "      <td>Elliott</td>\n",
       "      <td></td>\n",
       "      <td></td>\n",
       "      <td>None</td>\n",
       "      <td>1.0</td>\n",
       "      <td>1</td>\n",
       "      <td>1.0</td>\n",
       "      <td>1</td>\n",
       "      <td>1</td>\n",
       "    </tr>\n",
       "    <tr>\n",
       "      <th>2</th>\n",
       "      <td>INF-TEST-A</td>\n",
       "      <td>a_foster@markconsults.com</td>\n",
       "      <td>ANTOINE FOSTER</td>\n",
       "      <td>Antoine</td>\n",
       "      <td></td>\n",
       "      <td>Foster</td>\n",
       "      <td></td>\n",
       "      <td></td>\n",
       "      <td>Antoine</td>\n",
       "      <td></td>\n",
       "      <td>Foster</td>\n",
       "      <td></td>\n",
       "      <td></td>\n",
       "      <td>None</td>\n",
       "      <td>1.0</td>\n",
       "      <td>1</td>\n",
       "      <td>1.0</td>\n",
       "      <td>1</td>\n",
       "      <td>1</td>\n",
       "    </tr>\n",
       "    <tr>\n",
       "      <th>3</th>\n",
       "      <td>INF-TEST-A</td>\n",
       "      <td>a_harrington@optilogic.com</td>\n",
       "      <td>HARRINGTON Aditya</td>\n",
       "      <td>Aditya</td>\n",
       "      <td></td>\n",
       "      <td>Harrington</td>\n",
       "      <td></td>\n",
       "      <td></td>\n",
       "      <td>Aditya</td>\n",
       "      <td></td>\n",
       "      <td>Harrington</td>\n",
       "      <td></td>\n",
       "      <td></td>\n",
       "      <td>None</td>\n",
       "      <td>1.0</td>\n",
       "      <td>1</td>\n",
       "      <td>1.0</td>\n",
       "      <td>1</td>\n",
       "      <td>1</td>\n",
       "    </tr>\n",
       "    <tr>\n",
       "      <th>4</th>\n",
       "      <td>INF-TEST-A</td>\n",
       "      <td>a_howard@cbtcompanyinc.com</td>\n",
       "      <td>HOWARD Anne</td>\n",
       "      <td>Anne</td>\n",
       "      <td></td>\n",
       "      <td>Howard</td>\n",
       "      <td></td>\n",
       "      <td></td>\n",
       "      <td>Anne</td>\n",
       "      <td></td>\n",
       "      <td>Howard</td>\n",
       "      <td></td>\n",
       "      <td></td>\n",
       "      <td>None</td>\n",
       "      <td>1.0</td>\n",
       "      <td>1</td>\n",
       "      <td>1.0</td>\n",
       "      <td>1</td>\n",
       "      <td>1</td>\n",
       "    </tr>\n",
       "  </tbody>\n",
       "</table>\n",
       "</div>"
      ],
      "text/plain": [
       "   Test Group                   Email Address       Display Name First Name  \\\n",
       "0  INF-TEST-A          a_desai@openbook.works       Desai, Aditi      Aditi   \n",
       "1  INF-TEST-A  a_elliott@outcast-clothing.com      Elliott, Alan       Alan   \n",
       "2  INF-TEST-A       a_foster@markconsults.com     ANTOINE FOSTER    Antoine   \n",
       "3  INF-TEST-A      a_harrington@optilogic.com  HARRINGTON Aditya     Aditya   \n",
       "4  INF-TEST-A      a_howard@cbtcompanyinc.com        HOWARD Anne       Anne   \n",
       "\n",
       "  Middle Name   Last Name Name Prefix Name Suffix  p_fname p_midname  \\\n",
       "0                   Desai                            Aditi             \n",
       "1                 Elliott                             Alan             \n",
       "2                  Foster                          Antoine             \n",
       "3              Harrington                           Aditya             \n",
       "4                  Howard                             Anne             \n",
       "\n",
       "      p_lname p_nprefix p_nsuffix remarks  jaccard_fname  jaccard_midname  \\\n",
       "0       Desai                        None            1.0                1   \n",
       "1     Elliott                        None            1.0                1   \n",
       "2      Foster                        None            1.0                1   \n",
       "3  Harrington                        None            1.0                1   \n",
       "4      Howard                        None            1.0                1   \n",
       "\n",
       "   jaccard_lname  jaccard_nprefix  jaccard_nsuffix  \n",
       "0            1.0                1                1  \n",
       "1            1.0                1                1  \n",
       "2            1.0                1                1  \n",
       "3            1.0                1                1  \n",
       "4            1.0                1                1  "
      ]
     },
     "execution_count": 29,
     "metadata": {},
     "output_type": "execute_result"
    }
   ],
   "source": [
    "jaccard_fname = Evaluate().compute_jaccard_score(temp_test_data['p_fname'].str.lower().str.strip(), temp_test_data['First Name'].str.lower().str.strip())\n",
    "temp_test_data['jaccard_fname'] = jaccard_fname\n",
    "\n",
    "jaccard_midname = Evaluate().compute_jaccard_score(temp_test_data['p_midname'].str.lower().str.strip(), temp_test_data['Middle Name'].str.lower().str.strip())\n",
    "temp_test_data['jaccard_midname'] = jaccard_midname\n",
    "\n",
    "jaccard_lname = Evaluate().compute_jaccard_score(temp_test_data['p_lname'].str.lower().str.strip(), temp_test_data['Last Name'].str.lower().str.strip())\n",
    "temp_test_data['jaccard_lname'] = jaccard_lname\n",
    "\n",
    "jaccard_nprefix = Evaluate().compute_jaccard_score(temp_test_data['p_nprefix'].str.lower().str.strip(), temp_test_data['Name Prefix'].str.lower().str.strip())\n",
    "temp_test_data['jaccard_nprefix'] = jaccard_nprefix\n",
    "\n",
    "jaccard_nsuffix = Evaluate().compute_jaccard_score(temp_test_data['p_nsuffix'].str.lower().str.strip(), temp_test_data['Name Suffix'].str.lower().str.strip())\n",
    "temp_test_data['jaccard_nsuffix'] = jaccard_nsuffix\n",
    "\n",
    "temp_test_data.head()"
   ]
  },
  {
   "cell_type": "markdown",
   "id": "77559eeb-4065-42ee-8404-1076b02bf376",
   "metadata": {},
   "source": [
    "#### Pie Plot"
   ]
  },
  {
   "cell_type": "code",
   "execution_count": 30,
   "id": "bb6706fe-7643-4091-906f-12e9f805c40e",
   "metadata": {
    "tags": []
   },
   "outputs": [],
   "source": [
    "import matplotlib.pyplot as plt\n",
    "\n",
    "def plot_jaccard_similarity_pie_chart(jaccard_value_counts, entity_type):\n",
    "    \"\"\"\n",
    "    Plots a pie chart for Jaccard similarity scores.\n",
    "    \"\"\"\n",
    "    # plotting the value counts as a pie chart\n",
    "    fig, ax = plt.subplots()\n",
    "    jaccard_value_counts.plot(kind='pie', autopct='%1.1f%%', startangle=140, ax=ax, labels=None)\n",
    "    plt.title(f'Proportion of Jaccard Similarity Scores for {entity_type}')\n",
    "    plt.ylabel('')\n",
    "    \n",
    "    # adding legend\n",
    "    labels = [f'{label}: {val:1.3f}' for label, val in jaccard_value_counts.items()]\n",
    "    ax.legend(labels, title=\"Jaccard Similarity Scores\", loc=\"center left\", bbox_to_anchor=(1, 0.5))\n",
    "    \n",
    "    plt.show()"
   ]
  },
  {
   "cell_type": "code",
   "execution_count": 31,
   "id": "1d377edc-069c-4cd4-99ef-52eb4d91e27a",
   "metadata": {
    "tags": []
   },
   "outputs": [
    {
     "data": {
      "text/plain": [
       "jaccard_fname\n",
       "1.0    0.95\n",
       "0.0    0.05\n",
       "Name: proportion, dtype: float64"
      ]
     },
     "execution_count": 31,
     "metadata": {},
     "output_type": "execute_result"
    }
   ],
   "source": [
    "jaccard_fname_value_counts = temp_test_data['jaccard_fname'].value_counts(dropna=False, normalize=True).head()\n",
    "jaccard_fname_value_counts"
   ]
  },
  {
   "cell_type": "code",
   "execution_count": 32,
   "id": "5939df12-0614-4276-8e1f-35d6d7ba95d7",
   "metadata": {
    "tags": []
   },
   "outputs": [
    {
     "data": {
      "image/png": "[encoded data removed]",
      "text/plain": [
       "<Figure size 640x480 with 1 Axes>"
      ]
     },
     "metadata": {},
     "output_type": "display_data"
    }
   ],
   "source": [
    "# plotting the value counts as a pie chart\n",
    "\n",
    "plot_jaccard_similarity_pie_chart(jaccard_fname_value_counts, \"First Name\")"
   ]
  },
  {
   "cell_type": "code",
   "execution_count": 33,
   "id": "9839e7eb-3a88-4bf5-8b44-126ec75bc4ff",
   "metadata": {
    "tags": []
   },
   "outputs": [
    {
     "data": {
      "text/plain": [
       "jaccard_midname\n",
       "1    0.99\n",
       "0    0.01\n",
       "Name: proportion, dtype: float64"
      ]
     },
     "execution_count": 33,
     "metadata": {},
     "output_type": "execute_result"
    }
   ],
   "source": [
    "jaccard_midname_value_counts = temp_test_data['jaccard_midname'].value_counts(dropna=False, normalize=True).head()\n",
    "jaccard_midname_value_counts"
   ]
  },
  {
   "cell_type": "code",
   "execution_count": 34,
   "id": "936abb60-0c16-42c2-89db-73474e917526",
   "metadata": {
    "tags": []
   },
   "outputs": [
    {
     "data": {
      "text/plain": [
       "jaccard_midname\n",
       "1    0.909091\n",
       "0    0.090909\n",
       "Name: proportion, dtype: float64"
      ]
     },
     "execution_count": 34,
     "metadata": {},
     "output_type": "execute_result"
    }
   ],
   "source": [
    "# filter the dataframe to include only rows where 'Middle Name' is not an empty string\n",
    "\n",
    "filtered_midname_df = temp_test_data[temp_test_data['Middle Name'] != \"\"]\n",
    "filtered_jaccard_midname_value_counts = filtered_midname_df['jaccard_midname'].value_counts(dropna=False, normalize=True).head()\n",
    "filtered_jaccard_midname_value_counts"
   ]
  },
  {
   "cell_type": "code",
   "execution_count": 35,
   "id": "c26faa6c-2727-4e03-a79d-d64e5d82cdd5",
   "metadata": {
    "tags": []
   },
   "outputs": [
    {
     "data": {
      "text/plain": [
       "jaccard_lname\n",
       "1.0    1.0\n",
       "Name: proportion, dtype: float64"
      ]
     },
     "execution_count": 35,
     "metadata": {},
     "output_type": "execute_result"
    }
   ],
   "source": [
    "jaccard_lname_value_counts = temp_test_data['jaccard_lname'].value_counts(dropna=False, normalize=True).head()\n",
    "jaccard_lname_value_counts"
   ]
  },
  {
   "cell_type": "code",
   "execution_count": 36,
   "id": "af4ec14a-6231-4dae-b634-956f444a0ae4",
   "metadata": {
    "tags": []
   },
   "outputs": [
    {
     "data": {
      "text/plain": [
       "jaccard_lname\n",
       "1.0    1.0\n",
       "Name: proportion, dtype: float64"
      ]
     },
     "execution_count": 36,
     "metadata": {},
     "output_type": "execute_result"
    }
   ],
   "source": [
    "# filter the dataframe to include only rows where 'Last Name' is not an empty string\n",
    "\n",
    "filtered_lname_df = temp_test_data[temp_test_data['Last Name'] != \"\"]\n",
    "filtered_jaccard_lname_value_counts = filtered_lname_df['jaccard_lname'].value_counts(dropna=False, normalize=True).head()\n",
    "filtered_jaccard_lname_value_counts"
   ]
  },
  {
   "cell_type": "code",
   "execution_count": 37,
   "id": "22a40fb6-5802-48b1-8ca4-15c71cf2e976",
   "metadata": {
    "tags": []
   },
   "outputs": [
    {
     "data": {
      "image/png": "[encoded data removed]",
      "text/plain": [
       "<Figure size 640x480 with 1 Axes>"
      ]
     },
     "metadata": {},
     "output_type": "display_data"
    }
   ],
   "source": [
    "# plotting the value counts as a pie chart\n",
    "\n",
    "plot_jaccard_similarity_pie_chart(jaccard_lname_value_counts, \"Last Name\")"
   ]
  },
  {
   "cell_type": "code",
   "execution_count": 38,
   "id": "64833580-e31b-4afd-96fa-421569024e4d",
   "metadata": {
    "tags": []
   },
   "outputs": [
    {
     "data": {
      "text/plain": [
       "jaccard_nprefix\n",
       "1    1.0\n",
       "Name: proportion, dtype: float64"
      ]
     },
     "execution_count": 38,
     "metadata": {},
     "output_type": "execute_result"
    }
   ],
   "source": [
    "jaccard_nprefix_value_counts = temp_test_data['jaccard_nprefix'].value_counts(dropna=False, normalize=True).head()\n",
    "jaccard_nprefix_value_counts"
   ]
  },
  {
   "cell_type": "code",
   "execution_count": 39,
   "id": "e1296345-e27d-493e-84b7-95a1ba9c7f4f",
   "metadata": {
    "tags": []
   },
   "outputs": [
    {
     "data": {
      "text/plain": [
       "jaccard_nprefix\n",
       "1    1.0\n",
       "Name: proportion, dtype: float64"
      ]
     },
     "execution_count": 39,
     "metadata": {},
     "output_type": "execute_result"
    }
   ],
   "source": [
    "# filter the dataframe to include only rows where 'Name Prefix' is not an empty string\n",
    "\n",
    "filtered_nprefix_df = temp_test_data[temp_test_data['Name Prefix'] != \"\"]\n",
    "filtered_jaccard_nprefix_value_counts = filtered_nprefix_df['jaccard_nprefix'].value_counts(dropna=False, normalize=True).head()\n",
    "filtered_jaccard_nprefix_value_counts"
   ]
  },
  {
   "cell_type": "code",
   "execution_count": 40,
   "id": "72652639-b427-43d9-adf3-2248dc804d8c",
   "metadata": {
    "tags": []
   },
   "outputs": [
    {
     "data": {
      "text/plain": [
       "jaccard_nsuffix\n",
       "1    0.99\n",
       "0    0.01\n",
       "Name: proportion, dtype: float64"
      ]
     },
     "execution_count": 40,
     "metadata": {},
     "output_type": "execute_result"
    }
   ],
   "source": [
    "jaccard_nsuffix_value_counts = temp_test_data['jaccard_nsuffix'].value_counts(dropna=False, normalize=True).head()\n",
    "jaccard_nsuffix_value_counts"
   ]
  },
  {
   "cell_type": "code",
   "execution_count": 41,
   "id": "70535bf2-938e-464a-b222-c683e7033632",
   "metadata": {
    "tags": []
   },
   "outputs": [
    {
     "data": {
      "text/plain": [
       "jaccard_nsuffix\n",
       "1    0.8\n",
       "0    0.2\n",
       "Name: proportion, dtype: float64"
      ]
     },
     "execution_count": 41,
     "metadata": {},
     "output_type": "execute_result"
    }
   ],
   "source": [
    "# filter the dataframe to include only rows where 'Name Suffix' is not an empty string\n",
    "\n",
    "filtered_nsuffix_df = temp_test_data[temp_test_data['Name Suffix'] != \"\"]\n",
    "filtered_jaccard_nsuffix_value_counts = filtered_nsuffix_df['jaccard_nsuffix'].value_counts(dropna=False, normalize=True).head()\n",
    "filtered_jaccard_nsuffix_value_counts"
   ]
  },
  {
   "cell_type": "code",
   "execution_count": 42,
   "id": "b4e7fd06-9ca6-4fc2-b804-9c1b13173381",
   "metadata": {
    "tags": []
   },
   "outputs": [],
   "source": [
    "jaccard_index = {'jaccard_fname': jaccard_fname_value_counts.to_dict(),\n",
    "                 'jaccard_midname': jaccard_midname_value_counts.to_dict(),\n",
    "                 'jaccard_lname': jaccard_lname_value_counts.to_dict(),\n",
    "                 'jaccard_nprefix': jaccard_nprefix_value_counts.to_dict(),\n",
    "                 'jaccard_nsuffix': jaccard_nsuffix_value_counts.to_dict()\n",
    "                }"
   ]
  },
  {
   "cell_type": "code",
   "execution_count": 43,
   "id": "b68b5472-21b2-45e2-b56b-297753ca6f11",
   "metadata": {
    "tags": []
   },
   "outputs": [
    {
     "name": "stdout",
     "output_type": "stream",
     "text": [
      "{   'jaccard_fname': {0.0: 0.05, 1.0: 0.95},\n",
      "    'jaccard_lname': {1.0: 1.0},\n",
      "    'jaccard_midname': {0: 0.01, 1: 0.99},\n",
      "    'jaccard_nprefix': {1: 1.0},\n",
      "    'jaccard_nsuffix': {0: 0.01, 1: 0.99}}\n"
     ]
    }
   ],
   "source": [
    "# Round off values to 3 decimal places\n",
    "for key in jaccard_index:\n",
    "    jaccard_index[key] = {k: round(v, 3) for k, v in jaccard_index[key].items()}\n",
    "\n",
    "# pretty print\n",
    "import pprint\n",
    "pp = pprint.PrettyPrinter(indent=4)\n",
    "pp.pprint(jaccard_index)"
   ]
  },
  {
   "cell_type": "markdown",
   "id": "93a4cc35-40fb-4d78-bfe4-3a16dcbb1384",
   "metadata": {},
   "source": [
    "### Excluding Test Group `INF-TEST-B` per chat message"
   ]
  },
  {
   "cell_type": "code",
   "execution_count": 44,
   "id": "f9a6f1a2-8b48-4855-8e68-ff58b2ebd766",
   "metadata": {
    "tags": []
   },
   "outputs": [
    {
     "name": "stdout",
     "output_type": "stream",
     "text": [
      "jaccard_fname\n",
      "1.0    0.95\n",
      "0.0    0.05\n",
      "Name: proportion, dtype: float64\n",
      "jaccard_midname\n",
      "1    0.909091\n",
      "0    0.090909\n",
      "Name: proportion, dtype: float64\n",
      "jaccard_lname\n",
      "1.0    1.0\n",
      "Name: proportion, dtype: float64\n",
      "jaccard_nprefix\n",
      "1    1.0\n",
      "Name: proportion, dtype: float64\n",
      "jaccard_nsuffix\n",
      "1    0.8\n",
      "0    0.2\n",
      "Name: proportion, dtype: float64\n"
     ]
    }
   ],
   "source": [
    "filtered_df = temp_test_data[temp_test_data['Test Group'] != 'INF-TEST-B']\n",
    "\n",
    "jaccard_fname_value_counts = filtered_df['jaccard_fname'].value_counts(dropna=False, normalize=True).head()\n",
    "print(jaccard_fname_value_counts)\n",
    "\n",
    "filtered_midname_df = filtered_df[filtered_df['Middle Name'] != \"\"]\n",
    "jaccard_midname_value_counts = filtered_midname_df['jaccard_midname'].value_counts(dropna=False, normalize=True).head()\n",
    "print(jaccard_midname_value_counts)\n",
    "\n",
    "filtered_lname_df = filtered_df[filtered_df['Last Name'] != \"\"]\n",
    "jaccard_lname_value_counts = filtered_lname_df['jaccard_lname'].value_counts(dropna=False, normalize=True).head()\n",
    "print(jaccard_lname_value_counts)\n",
    "\n",
    "filtered_nprefix_df = filtered_df[filtered_df['Name Prefix'] != \"\"]\n",
    "jaccard_nprefix_value_counts = filtered_nprefix_df['jaccard_nprefix'].value_counts(dropna=False, normalize=True).head()\n",
    "print(jaccard_nprefix_value_counts)\n",
    "\n",
    "filtered_nsuffix_df = filtered_df[filtered_df['Name Suffix'] != \"\"]\n",
    "jaccard_nsuffix_value_counts = filtered_nsuffix_df['jaccard_nsuffix'].value_counts(dropna=False, normalize=True).head()\n",
    "print(jaccard_nsuffix_value_counts)"
   ]
  },
  {
   "cell_type": "markdown",
   "id": "9e9689b4-a7a1-4769-938a-52e81f21d159",
   "metadata": {},
   "source": [
    "### Save Results to S3"
   ]
  },
  {
   "cell_type": "code",
   "execution_count": 46,
   "id": "baaf0d87-b19d-47fd-88f2-d3709cfeefd3",
   "metadata": {
    "tags": []
   },
   "outputs": [],
   "source": [
    "timestamp = datetime.datetime.now().strftime(\"%Y-%m-%d_%H-%M-%S\")\n",
    "s3_output_prefix = 'data/email-names/output'\n",
    "\n",
    "object_name = f\"{s3_output_prefix}/{model}/email_names_prediction_results_{timestamp}\"\n",
    "\n",
    "# create the file name as per the task: name-parse, email-signature\n",
    "file_name = f\"email_names_prediction_results_{timestamp}.csv\"\n",
    "upload_dataframe_to_s3(sess.default_bucket(), object_name, file_name, temp_test_data)"
   ]
  },
  {
   "cell_type": "code",
   "execution_count": 47,
   "id": "dc69fccf-67a5-4890-8ab0-72a3f73129ba",
   "metadata": {
    "tags": []
   },
   "outputs": [
    {
     "name": "stdout",
     "output_type": "stream",
     "text": [
      "Data upload successfull s3_uri:  s3://sagemaker-sigparser-caylent-mlops/data/email-names/output/Mistral-7B/email_names_prediction_results_2024-04-19_19-23-48/results_summary.json\n"
     ]
    },
    {
     "data": {
      "text/plain": [
       "True"
      ]
     },
     "execution_count": 47,
     "metadata": {},
     "output_type": "execute_result"
    }
   ],
   "source": [
    "# save the results summary in s3\n",
    "\n",
    "input_data_uri = r's3://{0}/{1}'.format(sess.default_bucket(), s3_data_path)\n",
    "output_data_uri = r's3://{0}/{1}/{2}'.format(sess.default_bucket(), object_name, file_name)\n",
    "\n",
    "results_summary = {\n",
    "    \"input_data\": input_data_uri,\n",
    "    \"model_id\": model_id,\n",
    "    \"model_version\": model_version,\n",
    "    \"prompt_version\": prompt_version,\n",
    "    \"system_prompt\":system_prompt,\n",
    "    \"instruction\": instruction,\n",
    "    \"output_data\": output_data_uri,\n",
    "    \"jaccard_index\": jaccard_index\n",
    "}\n",
    "\n",
    "upload_data_to_s3(results_summary, sess.default_bucket(), object_name)"
   ]
  },
  {
   "cell_type": "markdown",
   "id": "76a7fda0-f93a-4271-957b-e48a91279934",
   "metadata": {},
   "source": [
    "### Error Analysis"
   ]
  },
  {
   "cell_type": "code",
   "execution_count": 48,
   "id": "210d1a79-dcc6-456b-a658-aa488f069836",
   "metadata": {
    "tags": []
   },
   "outputs": [],
   "source": [
    "# set option to display all rows\n",
    "pd.set_option('display.max_rows', None)\n",
    "\n",
    "# set option to display full column content\n",
    "pd.set_option('display.max_colwidth', None)"
   ]
  },
  {
   "cell_type": "markdown",
   "id": "a7040073-71af-41eb-96d5-4e08d53b20a7",
   "metadata": {
    "tags": []
   },
   "source": [
    "#### First Name Analysis"
   ]
  },
  {
   "cell_type": "code",
   "execution_count": 49,
   "id": "b5791aff-d58a-4b20-a354-831ea735d922",
   "metadata": {
    "tags": []
   },
   "outputs": [
    {
     "data": {
      "text/html": [
       "<div>\n",
       "<style scoped>\n",
       "    .dataframe tbody tr th:only-of-type {\n",
       "        vertical-align: middle;\n",
       "    }\n",
       "\n",
       "    .dataframe tbody tr th {\n",
       "        vertical-align: top;\n",
       "    }\n",
       "\n",
       "    .dataframe thead th {\n",
       "        text-align: right;\n",
       "    }\n",
       "</style>\n",
       "<table border=\"1\" class=\"dataframe\">\n",
       "  <thead>\n",
       "    <tr style=\"text-align: right;\">\n",
       "      <th></th>\n",
       "      <th>Email Address</th>\n",
       "      <th>Display Name</th>\n",
       "      <th>First Name</th>\n",
       "      <th>p_fname</th>\n",
       "      <th>remarks</th>\n",
       "      <th>jaccard_fname</th>\n",
       "    </tr>\n",
       "  </thead>\n",
       "  <tbody>\n",
       "    <tr>\n",
       "      <th>13</th>\n",
       "      <td>a_richardson@marksmendaily.com</td>\n",
       "      <td>Anton Richardson</td>\n",
       "      <td>Anton</td>\n",
       "      <td>Antonio</td>\n",
       "      <td>None</td>\n",
       "      <td>0.0</td>\n",
       "    </tr>\n",
       "    <tr>\n",
       "      <th>16</th>\n",
       "      <td>a_sandberg@marstranslation.live</td>\n",
       "      <td>'a_sandberg@marstranslation.live'</td>\n",
       "      <td>Anya</td>\n",
       "      <td>A</td>\n",
       "      <td>None</td>\n",
       "      <td>0.0</td>\n",
       "    </tr>\n",
       "    <tr>\n",
       "      <th>29</th>\n",
       "      <td>a.jensen@worldhydrogenleaders.com</td>\n",
       "      <td>'a.jensen@worldhydrogenleaders.com'</td>\n",
       "      <td>Andrea</td>\n",
       "      <td>A.</td>\n",
       "      <td>None</td>\n",
       "      <td>0.0</td>\n",
       "    </tr>\n",
       "    <tr>\n",
       "      <th>51</th>\n",
       "      <td>abuck@assetstrategies.com</td>\n",
       "      <td>'abuck@assetstrategies.com'</td>\n",
       "      <td>Arthur</td>\n",
       "      <td>Abuck</td>\n",
       "      <td>None</td>\n",
       "      <td>0.0</td>\n",
       "    </tr>\n",
       "    <tr>\n",
       "      <th>97</th>\n",
       "      <td>aferguson@agiloft.com</td>\n",
       "      <td>'aferguson@agiloft.com'</td>\n",
       "      <td>Anne</td>\n",
       "      <td>Amber</td>\n",
       "      <td>None</td>\n",
       "      <td>0.0</td>\n",
       "    </tr>\n",
       "  </tbody>\n",
       "</table>\n",
       "</div>"
      ],
      "text/plain": [
       "                        Email Address                         Display Name  \\\n",
       "13     a_richardson@marksmendaily.com                     Anton Richardson   \n",
       "16    a_sandberg@marstranslation.live    'a_sandberg@marstranslation.live'   \n",
       "29  a.jensen@worldhydrogenleaders.com  'a.jensen@worldhydrogenleaders.com'   \n",
       "51          abuck@assetstrategies.com          'abuck@assetstrategies.com'   \n",
       "97              aferguson@agiloft.com              'aferguson@agiloft.com'   \n",
       "\n",
       "   First Name  p_fname remarks  jaccard_fname  \n",
       "13      Anton  Antonio    None            0.0  \n",
       "16       Anya        A    None            0.0  \n",
       "29     Andrea       A.    None            0.0  \n",
       "51     Arthur    Abuck    None            0.0  \n",
       "97       Anne    Amber    None            0.0  "
      ]
     },
     "execution_count": 49,
     "metadata": {},
     "output_type": "execute_result"
    }
   ],
   "source": [
    "# conditions for error records\n",
    "cond1 = (temp_test_data['jaccard_fname']==0)\n",
    "cond2 = (temp_test_data['First Name']==\"\")\n",
    "\n",
    "# filter and view error records\n",
    "fname_cols = ['Email Address', 'Display Name','First Name','p_fname','remarks','jaccard_fname']\n",
    "temp_test_data.loc[cond1 & ~cond2, fname_cols]"
   ]
  },
  {
   "cell_type": "markdown",
   "id": "3728160a-8a6b-46d6-b186-ef7d625c610a",
   "metadata": {
    "tags": []
   },
   "source": [
    "##### Findings: First Name Analysis\n",
    "\n",
    "**Mistral-7B Pretrained | Prompt version 2.0 (Ryan)**\n",
    "The errors are related to the following scenarios:\n",
    "- Model Response Error\n",
    "  - Problem: the model is not able to extract `Last Name` in few samples.  Index [58, 774, 1183, etc.]\n",
    "  - Potential Solution: although not guaranteed, we can look to engineer prompt to force the Model to generate a standard JSON response even though it means that some field values are empty. Note: this is already baked into the current prompt version.\n",
    "- Insufficient Information\n",
    "  - both `Email Address` and `Display Name` do not have first names. Index [83, 755, 898, etc.]\n",
    "- Last Name as First Name\n",
    "  - Model picks lastname in the `Display Name` as first name. Index [201, 248, 249, etc.]\n",
    "  \n",
    "**Mistral-7B Finetuned | Prompt version 2.0 (Ryan)**\n",
    "The errors are related to the following scenarios:\n",
    "- Insufficient Information\n",
    "  - both `Email Address` and `Display Name` do not have first names. Index [83, 598, 898, 917, etc.]"
   ]
  },
  {
   "cell_type": "code",
   "execution_count": 50,
   "id": "736adb4d-f1be-4f6d-87ff-4cbf0faa060f",
   "metadata": {
    "tags": []
   },
   "outputs": [
    {
     "data": {
      "text/html": [
       "<div>\n",
       "<style scoped>\n",
       "    .dataframe tbody tr th:only-of-type {\n",
       "        vertical-align: middle;\n",
       "    }\n",
       "\n",
       "    .dataframe tbody tr th {\n",
       "        vertical-align: top;\n",
       "    }\n",
       "\n",
       "    .dataframe thead th {\n",
       "        text-align: right;\n",
       "    }\n",
       "</style>\n",
       "<table border=\"1\" class=\"dataframe\">\n",
       "  <thead>\n",
       "    <tr style=\"text-align: right;\">\n",
       "      <th></th>\n",
       "      <th>Email Address</th>\n",
       "      <th>Display Name</th>\n",
       "      <th>First Name</th>\n",
       "      <th>p_fname</th>\n",
       "      <th>remarks</th>\n",
       "      <th>jaccard_fname</th>\n",
       "    </tr>\n",
       "  </thead>\n",
       "  <tbody>\n",
       "  </tbody>\n",
       "</table>\n",
       "</div>"
      ],
      "text/plain": [
       "Empty DataFrame\n",
       "Columns: [Email Address, Display Name, First Name, p_fname, remarks, jaccard_fname]\n",
       "Index: []"
      ]
     },
     "execution_count": 50,
     "metadata": {},
     "output_type": "execute_result"
    }
   ],
   "source": [
    "# conditions for error records - partial match\n",
    "cond1 = (temp_test_data['jaccard_fname']==0.5)\n",
    "cond2 = (temp_test_data['First Name']==\"\")\n",
    "\n",
    "# filter and view error records - partial match\n",
    "fname_cols = ['Email Address', 'Display Name','First Name','p_fname','remarks','jaccard_fname']\n",
    "temp_test_data.loc[cond1 & ~cond2, fname_cols]"
   ]
  },
  {
   "cell_type": "markdown",
   "id": "21294635-e6f5-4943-b6fc-4ea54172e388",
   "metadata": {},
   "source": [
    "#### Last Name Analysis"
   ]
  },
  {
   "cell_type": "code",
   "execution_count": 51,
   "id": "e20ee490-ff04-40ee-8a0e-460722ceeaf0",
   "metadata": {
    "tags": []
   },
   "outputs": [
    {
     "data": {
      "text/html": [
       "<div>\n",
       "<style scoped>\n",
       "    .dataframe tbody tr th:only-of-type {\n",
       "        vertical-align: middle;\n",
       "    }\n",
       "\n",
       "    .dataframe tbody tr th {\n",
       "        vertical-align: top;\n",
       "    }\n",
       "\n",
       "    .dataframe thead th {\n",
       "        text-align: right;\n",
       "    }\n",
       "</style>\n",
       "<table border=\"1\" class=\"dataframe\">\n",
       "  <thead>\n",
       "    <tr style=\"text-align: right;\">\n",
       "      <th></th>\n",
       "      <th>Email Address</th>\n",
       "      <th>Display Name</th>\n",
       "      <th>Last Name</th>\n",
       "      <th>p_lname</th>\n",
       "      <th>remarks</th>\n",
       "      <th>jaccard_lname</th>\n",
       "    </tr>\n",
       "  </thead>\n",
       "  <tbody>\n",
       "  </tbody>\n",
       "</table>\n",
       "</div>"
      ],
      "text/plain": [
       "Empty DataFrame\n",
       "Columns: [Email Address, Display Name, Last Name, p_lname, remarks, jaccard_lname]\n",
       "Index: []"
      ]
     },
     "execution_count": 51,
     "metadata": {},
     "output_type": "execute_result"
    }
   ],
   "source": [
    "# conditions for error records\n",
    "cond1 = (temp_test_data['jaccard_lname']==0)\n",
    "cond2 = (temp_test_data['Last Name']==\"\")\n",
    "\n",
    "# filter and view error records\n",
    "lname_cols = ['Email Address', 'Display Name','Last Name','p_lname','remarks','jaccard_lname']\n",
    "temp_test_data.loc[cond1 & ~cond2, lname_cols]"
   ]
  },
  {
   "cell_type": "markdown",
   "id": "9c3e4d7e-4ebc-41e8-8b5a-81cacd0d05d6",
   "metadata": {},
   "source": [
    "##### Findings: Last Name Analysis\n",
    "\n",
    "**Mistral-7B Pretrained | Prompt version 2.0 (Ryan)**\n",
    "The errors are related to the following scenarios:\n",
    "- Model Response Error\n",
    "  - Problem: the model is not able to extract `Last Name` in few samples.  Index [58, 774, 1183, etc.]\n",
    "  - Potential Solution: although not guaranteed, we can look to engineer prompt to force the Model to generate a standard JSON response even though it means that some field values are empty. Note: this is already baked into the current prompt version.\n",
    "- Insufficient Information\n",
    "  - both `Email Address` and `Display Name` do not have last names. Index [75, 710, 1842, 1896, 1921, etc.]\n",
    "- Incorrect Model Parsing\n",
    "  - Model responds with a completely different lastname. Index [1758, 1838, 1885, 1928, etc.]"
   ]
  },
  {
   "cell_type": "code",
   "execution_count": 53,
   "id": "d7927996-c330-4f81-af8e-815e72cc4e26",
   "metadata": {
    "tags": []
   },
   "outputs": [
    {
     "data": {
      "text/html": [
       "<div>\n",
       "<style scoped>\n",
       "    .dataframe tbody tr th:only-of-type {\n",
       "        vertical-align: middle;\n",
       "    }\n",
       "\n",
       "    .dataframe tbody tr th {\n",
       "        vertical-align: top;\n",
       "    }\n",
       "\n",
       "    .dataframe thead th {\n",
       "        text-align: right;\n",
       "    }\n",
       "</style>\n",
       "<table border=\"1\" class=\"dataframe\">\n",
       "  <thead>\n",
       "    <tr style=\"text-align: right;\">\n",
       "      <th></th>\n",
       "      <th>Email Address</th>\n",
       "      <th>Display Name</th>\n",
       "      <th>Last Name</th>\n",
       "      <th>p_lname</th>\n",
       "      <th>remarks</th>\n",
       "      <th>jaccard_lname</th>\n",
       "    </tr>\n",
       "  </thead>\n",
       "  <tbody>\n",
       "  </tbody>\n",
       "</table>\n",
       "</div>"
      ],
      "text/plain": [
       "Empty DataFrame\n",
       "Columns: [Email Address, Display Name, Last Name, p_lname, remarks, jaccard_lname]\n",
       "Index: []"
      ]
     },
     "execution_count": 53,
     "metadata": {},
     "output_type": "execute_result"
    }
   ],
   "source": [
    "# conditions for error records - partial match\n",
    "cond1 = (temp_test_data['jaccard_lname']==0.5)\n",
    "cond2 = (temp_test_data['Last Name']==\"\")\n",
    "\n",
    "# filter and view error records - partial match\n",
    "lname_cols = ['Email Address', 'Display Name','Last Name','p_lname','remarks','jaccard_lname']\n",
    "temp_test_data.loc[cond1 & ~cond2, lname_cols]"
   ]
  },
  {
   "cell_type": "markdown",
   "id": "5a3a6baa-4635-41df-8782-b4533403dfd9",
   "metadata": {},
   "source": [
    "#### Middle Name Analysis"
   ]
  },
  {
   "cell_type": "code",
   "execution_count": 54,
   "id": "bedaeb75-9a8a-4432-a79b-5c049463228d",
   "metadata": {
    "tags": []
   },
   "outputs": [
    {
     "data": {
      "text/html": [
       "<div>\n",
       "<style scoped>\n",
       "    .dataframe tbody tr th:only-of-type {\n",
       "        vertical-align: middle;\n",
       "    }\n",
       "\n",
       "    .dataframe tbody tr th {\n",
       "        vertical-align: top;\n",
       "    }\n",
       "\n",
       "    .dataframe thead th {\n",
       "        text-align: right;\n",
       "    }\n",
       "</style>\n",
       "<table border=\"1\" class=\"dataframe\">\n",
       "  <thead>\n",
       "    <tr style=\"text-align: right;\">\n",
       "      <th></th>\n",
       "      <th>Email Address</th>\n",
       "      <th>Display Name</th>\n",
       "      <th>Middle Name</th>\n",
       "      <th>p_midname</th>\n",
       "      <th>remarks</th>\n",
       "      <th>jaccard_midname</th>\n",
       "    </tr>\n",
       "  </thead>\n",
       "  <tbody>\n",
       "    <tr>\n",
       "      <th>43</th>\n",
       "      <td>aaron.deluca@freshfields.com</td>\n",
       "      <td>DELUCA Dr. Aaron M. Phd [LAX-002]</td>\n",
       "      <td>M.</td>\n",
       "      <td>M</td>\n",
       "      <td>None</td>\n",
       "      <td>0</td>\n",
       "    </tr>\n",
       "  </tbody>\n",
       "</table>\n",
       "</div>"
      ],
      "text/plain": [
       "                   Email Address                       Display Name  \\\n",
       "43  aaron.deluca@freshfields.com  DELUCA Dr. Aaron M. Phd [LAX-002]   \n",
       "\n",
       "   Middle Name p_midname remarks  jaccard_midname  \n",
       "43          M.         M    None                0  "
      ]
     },
     "execution_count": 54,
     "metadata": {},
     "output_type": "execute_result"
    }
   ],
   "source": [
    "# conditions for error records\n",
    "cond1 = (temp_test_data['jaccard_midname']==0)\n",
    "cond2 = (temp_test_data['Middle Name']==\"\")\n",
    "\n",
    "# filter and view error records\n",
    "midname_cols = ['Email Address', 'Display Name','Middle Name','p_midname','remarks','jaccard_midname']\n",
    "temp_test_data.loc[cond1 & ~cond2, midname_cols]"
   ]
  },
  {
   "cell_type": "markdown",
   "id": "87c10954-2ab8-479f-ab6c-f5dd0462f217",
   "metadata": {},
   "source": [
    "##### Findings: Middle Name Analysis\n",
    "\n",
    "The errors are related to the following scenarios:\n",
    "- Period (.) in Middle Names\n",
    "  - Model is able to extract middle names without any periods (.). Index [1342, 1502]\n",
    "- Incorrect Model Parsing\n",
    "  - Model is not able to extract middle names and responds with an empty string. Index [1371, 1807, 1898]"
   ]
  },
  {
   "cell_type": "markdown",
   "id": "1b15824a-55af-4d04-81e1-1311c12e1462",
   "metadata": {},
   "source": [
    "#### Name Prefix Analysis"
   ]
  },
  {
   "cell_type": "code",
   "execution_count": 55,
   "id": "7f548d83-a06e-4630-8ae8-5c4c153ae496",
   "metadata": {
    "tags": []
   },
   "outputs": [
    {
     "data": {
      "text/html": [
       "<div>\n",
       "<style scoped>\n",
       "    .dataframe tbody tr th:only-of-type {\n",
       "        vertical-align: middle;\n",
       "    }\n",
       "\n",
       "    .dataframe tbody tr th {\n",
       "        vertical-align: top;\n",
       "    }\n",
       "\n",
       "    .dataframe thead th {\n",
       "        text-align: right;\n",
       "    }\n",
       "</style>\n",
       "<table border=\"1\" class=\"dataframe\">\n",
       "  <thead>\n",
       "    <tr style=\"text-align: right;\">\n",
       "      <th></th>\n",
       "      <th>Email Address</th>\n",
       "      <th>Display Name</th>\n",
       "      <th>Name Prefix</th>\n",
       "      <th>p_nprefix</th>\n",
       "      <th>remarks</th>\n",
       "      <th>jaccard_nprefix</th>\n",
       "    </tr>\n",
       "  </thead>\n",
       "  <tbody>\n",
       "  </tbody>\n",
       "</table>\n",
       "</div>"
      ],
      "text/plain": [
       "Empty DataFrame\n",
       "Columns: [Email Address, Display Name, Name Prefix, p_nprefix, remarks, jaccard_nprefix]\n",
       "Index: []"
      ]
     },
     "execution_count": 55,
     "metadata": {},
     "output_type": "execute_result"
    }
   ],
   "source": [
    "# conditions for error records\n",
    "cond1 = (temp_test_data['jaccard_nprefix']==0)\n",
    "cond2 = (temp_test_data['Name Prefix']==\"\")\n",
    "\n",
    "# filter and view error records\n",
    "nprefix_cols = ['Email Address', 'Display Name','Name Prefix','p_nprefix','remarks','jaccard_nprefix']\n",
    "temp_test_data.loc[cond1 & ~cond2, nprefix_cols]"
   ]
  },
  {
   "cell_type": "code",
   "execution_count": 56,
   "id": "7ac08d04-0d9d-4fcc-abfa-e9d64743719b",
   "metadata": {
    "tags": []
   },
   "outputs": [
    {
     "data": {
      "text/html": [
       "<div>\n",
       "<style scoped>\n",
       "    .dataframe tbody tr th:only-of-type {\n",
       "        vertical-align: middle;\n",
       "    }\n",
       "\n",
       "    .dataframe tbody tr th {\n",
       "        vertical-align: top;\n",
       "    }\n",
       "\n",
       "    .dataframe thead th {\n",
       "        text-align: right;\n",
       "    }\n",
       "</style>\n",
       "<table border=\"1\" class=\"dataframe\">\n",
       "  <thead>\n",
       "    <tr style=\"text-align: right;\">\n",
       "      <th></th>\n",
       "      <th>Email Address</th>\n",
       "      <th>Display Name</th>\n",
       "      <th>Name Prefix</th>\n",
       "      <th>p_nprefix</th>\n",
       "      <th>remarks</th>\n",
       "      <th>jaccard_nprefix</th>\n",
       "    </tr>\n",
       "  </thead>\n",
       "  <tbody>\n",
       "    <tr>\n",
       "      <th>30</th>\n",
       "      <td>a.joseph@maciasstrategies.com</td>\n",
       "      <td>JOSEPH, Dr. Anne</td>\n",
       "      <td>Dr.</td>\n",
       "      <td>Dr.</td>\n",
       "      <td>None</td>\n",
       "      <td>1</td>\n",
       "    </tr>\n",
       "    <tr>\n",
       "      <th>43</th>\n",
       "      <td>aaron.deluca@freshfields.com</td>\n",
       "      <td>DELUCA Dr. Aaron M. Phd [LAX-002]</td>\n",
       "      <td>Dr.</td>\n",
       "      <td>Dr.</td>\n",
       "      <td>None</td>\n",
       "      <td>1</td>\n",
       "    </tr>\n",
       "    <tr>\n",
       "      <th>44</th>\n",
       "      <td>aaron.lin@11howard.com</td>\n",
       "      <td>DR. AARON KIM LIN PHD</td>\n",
       "      <td>Dr.</td>\n",
       "      <td>Dr.</td>\n",
       "      <td>None</td>\n",
       "      <td>1</td>\n",
       "    </tr>\n",
       "    <tr>\n",
       "      <th>46</th>\n",
       "      <td>aaron.west@123smartpro.com</td>\n",
       "      <td>Dr. Aaron J. WEST Phd [GTK-0988]</td>\n",
       "      <td>Dr.</td>\n",
       "      <td>Dr.</td>\n",
       "      <td>None</td>\n",
       "      <td>1</td>\n",
       "    </tr>\n",
       "  </tbody>\n",
       "</table>\n",
       "</div>"
      ],
      "text/plain": [
       "                    Email Address                       Display Name  \\\n",
       "30  a.joseph@maciasstrategies.com                   JOSEPH, Dr. Anne   \n",
       "43   aaron.deluca@freshfields.com  DELUCA Dr. Aaron M. Phd [LAX-002]   \n",
       "44         aaron.lin@11howard.com              DR. AARON KIM LIN PHD   \n",
       "46     aaron.west@123smartpro.com   Dr. Aaron J. WEST Phd [GTK-0988]   \n",
       "\n",
       "   Name Prefix p_nprefix remarks  jaccard_nprefix  \n",
       "30         Dr.       Dr.    None                1  \n",
       "43         Dr.       Dr.    None                1  \n",
       "44         Dr.       Dr.    None                1  \n",
       "46         Dr.       Dr.    None                1  "
      ]
     },
     "execution_count": 56,
     "metadata": {},
     "output_type": "execute_result"
    }
   ],
   "source": [
    "# conditions for correct records\n",
    "cond1 = (temp_test_data['jaccard_nprefix']==1)\n",
    "cond2 = (temp_test_data['Name Prefix']==\"\")\n",
    "\n",
    "# filter and view correct records\n",
    "nprefix_cols = ['Email Address', 'Display Name','Name Prefix','p_nprefix','remarks','jaccard_nprefix']\n",
    "temp_test_data.loc[cond1 & ~cond2, nprefix_cols]"
   ]
  },
  {
   "cell_type": "markdown",
   "id": "e2078fbc-ce10-4abd-82ce-00791f71995e",
   "metadata": {
    "tags": []
   },
   "source": [
    "##### Findings: Name Prefix Analysis\n",
    "\n",
    "- None"
   ]
  },
  {
   "cell_type": "markdown",
   "id": "366d41a7-5c8c-47d2-b826-abc63b03ea61",
   "metadata": {},
   "source": [
    "#### Name Suffix Analysis"
   ]
  },
  {
   "cell_type": "code",
   "execution_count": 57,
   "id": "3a31147e-b956-4732-96a6-48dbf325390e",
   "metadata": {
    "tags": []
   },
   "outputs": [
    {
     "data": {
      "text/html": [
       "<div>\n",
       "<style scoped>\n",
       "    .dataframe tbody tr th:only-of-type {\n",
       "        vertical-align: middle;\n",
       "    }\n",
       "\n",
       "    .dataframe tbody tr th {\n",
       "        vertical-align: top;\n",
       "    }\n",
       "\n",
       "    .dataframe thead th {\n",
       "        text-align: right;\n",
       "    }\n",
       "</style>\n",
       "<table border=\"1\" class=\"dataframe\">\n",
       "  <thead>\n",
       "    <tr style=\"text-align: right;\">\n",
       "      <th></th>\n",
       "      <th>Email Address</th>\n",
       "      <th>Display Name</th>\n",
       "      <th>Name Suffix</th>\n",
       "      <th>p_nsuffix</th>\n",
       "      <th>remarks</th>\n",
       "      <th>jaccard_nsuffix</th>\n",
       "    </tr>\n",
       "  </thead>\n",
       "  <tbody>\n",
       "    <tr>\n",
       "      <th>65</th>\n",
       "      <td>adam.phillips@abm.report</td>\n",
       "      <td>'adam.phillips@abm.report'</td>\n",
       "      <td>Phd</td>\n",
       "      <td></td>\n",
       "      <td>None</td>\n",
       "      <td>0</td>\n",
       "    </tr>\n",
       "  </tbody>\n",
       "</table>\n",
       "</div>"
      ],
      "text/plain": [
       "               Email Address                Display Name Name Suffix  \\\n",
       "65  adam.phillips@abm.report  'adam.phillips@abm.report'         Phd   \n",
       "\n",
       "   p_nsuffix remarks  jaccard_nsuffix  \n",
       "65              None                0  "
      ]
     },
     "execution_count": 57,
     "metadata": {},
     "output_type": "execute_result"
    }
   ],
   "source": [
    "# conditions for error records\n",
    "cond1 = (temp_test_data['jaccard_nsuffix']==0)\n",
    "cond2 = (temp_test_data['Name Suffix']==\"\")\n",
    "\n",
    "# filter and view error records\n",
    "nsuffix_cols = ['Email Address', 'Display Name','Name Suffix','p_nsuffix','remarks','jaccard_nsuffix']\n",
    "temp_test_data.loc[cond1 & ~cond2, nsuffix_cols]"
   ]
  },
  {
   "cell_type": "code",
   "execution_count": 58,
   "id": "d7d93f7e-e5e6-4c75-956a-56f31f90eb14",
   "metadata": {
    "tags": []
   },
   "outputs": [
    {
     "data": {
      "text/html": [
       "<div>\n",
       "<style scoped>\n",
       "    .dataframe tbody tr th:only-of-type {\n",
       "        vertical-align: middle;\n",
       "    }\n",
       "\n",
       "    .dataframe tbody tr th {\n",
       "        vertical-align: top;\n",
       "    }\n",
       "\n",
       "    .dataframe thead th {\n",
       "        text-align: right;\n",
       "    }\n",
       "</style>\n",
       "<table border=\"1\" class=\"dataframe\">\n",
       "  <thead>\n",
       "    <tr style=\"text-align: right;\">\n",
       "      <th></th>\n",
       "      <th>Email Address</th>\n",
       "      <th>Display Name</th>\n",
       "      <th>Name Suffix</th>\n",
       "      <th>p_nsuffix</th>\n",
       "      <th>remarks</th>\n",
       "      <th>jaccard_nsuffix</th>\n",
       "    </tr>\n",
       "  </thead>\n",
       "  <tbody>\n",
       "    <tr>\n",
       "      <th>43</th>\n",
       "      <td>aaron.deluca@freshfields.com</td>\n",
       "      <td>DELUCA Dr. Aaron M. Phd [LAX-002]</td>\n",
       "      <td>Phd</td>\n",
       "      <td>Phd</td>\n",
       "      <td>None</td>\n",
       "      <td>1</td>\n",
       "    </tr>\n",
       "    <tr>\n",
       "      <th>44</th>\n",
       "      <td>aaron.lin@11howard.com</td>\n",
       "      <td>DR. AARON KIM LIN PHD</td>\n",
       "      <td>Phd</td>\n",
       "      <td>Phd</td>\n",
       "      <td>None</td>\n",
       "      <td>1</td>\n",
       "    </tr>\n",
       "    <tr>\n",
       "      <th>46</th>\n",
       "      <td>aaron.west@123smartpro.com</td>\n",
       "      <td>Dr. Aaron J. WEST Phd [GTK-0988]</td>\n",
       "      <td>Phd</td>\n",
       "      <td>Phd</td>\n",
       "      <td>None</td>\n",
       "      <td>1</td>\n",
       "    </tr>\n",
       "    <tr>\n",
       "      <th>47</th>\n",
       "      <td>aaron@rock-ola.com</td>\n",
       "      <td>AARON MORGAN JR.</td>\n",
       "      <td>Jr.</td>\n",
       "      <td>Jr.</td>\n",
       "      <td>None</td>\n",
       "      <td>1</td>\n",
       "    </tr>\n",
       "  </tbody>\n",
       "</table>\n",
       "</div>"
      ],
      "text/plain": [
       "                   Email Address                       Display Name  \\\n",
       "43  aaron.deluca@freshfields.com  DELUCA Dr. Aaron M. Phd [LAX-002]   \n",
       "44        aaron.lin@11howard.com              DR. AARON KIM LIN PHD   \n",
       "46    aaron.west@123smartpro.com   Dr. Aaron J. WEST Phd [GTK-0988]   \n",
       "47            aaron@rock-ola.com                   AARON MORGAN JR.   \n",
       "\n",
       "   Name Suffix p_nsuffix remarks  jaccard_nsuffix  \n",
       "43         Phd       Phd    None                1  \n",
       "44         Phd       Phd    None                1  \n",
       "46         Phd       Phd    None                1  \n",
       "47         Jr.       Jr.    None                1  "
      ]
     },
     "execution_count": 58,
     "metadata": {},
     "output_type": "execute_result"
    }
   ],
   "source": [
    "# conditions for correct records\n",
    "cond1 = (temp_test_data['jaccard_nsuffix']==1)\n",
    "cond2 = (temp_test_data['Name Suffix']==\"\")\n",
    "\n",
    "# filter and view correct records\n",
    "nsuffix_cols = ['Email Address', 'Display Name','Name Suffix','p_nsuffix','remarks','jaccard_nsuffix']\n",
    "temp_test_data.loc[cond1 & ~cond2, nsuffix_cols]"
   ]
  },
  {
   "cell_type": "markdown",
   "id": "e0e2547d-7755-4377-9db4-abe85acc9ce6",
   "metadata": {},
   "source": [
    "##### Findings: Name Suffix Analysis\n",
    "\n",
    "- Model Extraction Failure\n",
    "  - model is not able to infer/extract `Name Suffix` from the `Display Name`. Index [197, 1317, 1737, 1893]\n",
    "- Insufficient Information\n",
    "  - `Display Name` has insufficient information regarding `Name Suffix`. Index [988]"
   ]
  },
  {
   "cell_type": "markdown",
   "id": "bfe519fa-1261-4b7a-ac38-b178335efa4e",
   "metadata": {
    "tags": []
   },
   "source": [
    "### Results Comparison"
   ]
  },
  {
   "cell_type": "markdown",
   "id": "247c9aba-844d-4b9a-8e30-7f66cb794e2b",
   "metadata": {
    "tags": []
   },
   "source": [
    "#### Prompt Version 1.0 | Mistral-7B Pretrained"
   ]
  },
  {
   "cell_type": "code",
   "execution_count": null,
   "id": "8144cff8-c2f8-4cf8-bf2e-3c27735c6286",
   "metadata": {
    "tags": []
   },
   "outputs": [],
   "source": [
    "{\n",
    " 'jaccard_fname': {1.0: 0.947,\n",
    "                   0.0: 0.035,\n",
    "                   0.5: 0.017},\n",
    "\n",
    " 'jaccard_midname': {1: 0.891, \n",
    "                     0: 0.108},\n",
    "\n",
    " 'jaccard_lname': {1.0: 0.905,\n",
    "                   0.0: 0.0919,\n",
    "                   0.5: 0.0023},\n",
    "\n",
    " 'jaccard_nprefix': {1: 0.97, \n",
    "                     0: 0.03},\n",
    "\n",
    " 'jaccard_nsuffix': {1: 0.87, \n",
    "                     0: 0.127}\n",
    "}"
   ]
  },
  {
   "cell_type": "markdown",
   "id": "3db8264f-14c6-43d5-b43a-a6adc0a0261d",
   "metadata": {
    "tags": []
   },
   "source": [
    "#### Prompt Version 2.0 (Ryan) | Mistral-7B Pretrained"
   ]
  },
  {
   "cell_type": "code",
   "execution_count": null,
   "id": "588195f1-e045-4642-acfb-04e76dfb7600",
   "metadata": {
    "tags": []
   },
   "outputs": [],
   "source": [
    "{   'jaccard_fname': {0.0: 0.018,\n",
    "                      0.5: 0.017,\n",
    "                      1.0: 0.965},\n",
    " \n",
    "    'jaccard_lname': {0.0: 0.044,\n",
    "                      0.5: 0.002,\n",
    "                      1.0: 0.954},\n",
    " \n",
    "    'jaccard_midname': {0: 0.076,\n",
    "                        1: 0.924},\n",
    "}"
   ]
  },
  {
   "cell_type": "markdown",
   "id": "6e100b05-4caa-4393-8c88-64f20c3a8cad",
   "metadata": {},
   "source": [
    "#### Prompt Version 2.0 (Ryan) | Mistral-7B Finetuned\n",
    "\n",
    "Training Job Name: hf-llm-mistral-7b-2024-04-01-06-20-01-214"
   ]
  },
  {
   "cell_type": "code",
   "execution_count": null,
   "id": "5b5edcb5-75ca-4275-8eea-ffa1397ed003",
   "metadata": {},
   "outputs": [],
   "source": [
    "{   'jaccard_fname': {0.0: 0.01,\n",
    "                      0.33: 0.0, \n",
    "                      0.5: 0.0, \n",
    "                      1.0: 0.99},\n",
    " \n",
    "    'jaccard_lname': {0.0: 0.011,\n",
    "                      1.0: 0.989},\n",
    " \n",
    "    'jaccard_midname': {0: 0.001, \n",
    "                        1: 0.999},\n",
    "}"
   ]
  },
  {
   "cell_type": "markdown",
   "id": "2a7435f2-a047-450f-b885-851a345abd6e",
   "metadata": {},
   "source": [
    "#### Prompt Version 2.0 (Ryan) | Mistral-7B Finetuned | 10k Samples\n",
    "\n",
    "Training Job Name: hf-llm-mistral-7b-2024-04-01-06-20-01-214"
   ]
  },
  {
   "cell_type": "code",
   "execution_count": 60,
   "id": "74d217d7-8cd9-4111-8fc4-f43b6f3675ba",
   "metadata": {
    "tags": []
   },
   "outputs": [],
   "source": [
    "{   'jaccard_fname': {   0.0: 0.021,\n",
    "                         0.33: 0.0,\n",
    "                         0.5: 0.002,\n",
    "                         1.0: 0.977},\n",
    " \n",
    "    'jaccard_lname': {   0.0: 0.029,\n",
    "                         0.33: 0.001,\n",
    "                         0.5: 0.004,\n",
    "                         0.66: 0.0,\n",
    "                         1.0: 0.967},\n",
    " \n",
    "    'jaccard_midname': {0: 0.015, 1: 0.985},\n",
    " \n",
    "    'jaccard_nprefix': {0: 0.0, 1: 1.0},\n",
    " \n",
    "    'jaccard_nsuffix': {0: 0.0, 1: 1.0}\n",
    "}"
   ]
  },
  {
   "cell_type": "code",
   "execution_count": null,
   "id": "71e483a2-13b4-4ef1-a736-92e37ff08b84",
   "metadata": {},
   "outputs": [],
   "source": []
  }
 ],
 "metadata": {
  "availableInstances": [
   {
    "_defaultOrder": 0,
    "_isFastLaunch": true,
    "category": "General purpose",
    "gpuNum": 0,
    "hideHardwareSpecs": false,
    "memoryGiB": 4,
    "name": "ml.t3.medium",
    "vcpuNum": 2
   },
   {
    "_defaultOrder": 1,
    "_isFastLaunch": false,
    "category": "General purpose",
    "gpuNum": 0,
    "hideHardwareSpecs": false,
    "memoryGiB": 8,
    "name": "ml.t3.large",
    "vcpuNum": 2
   },
   {
    "_defaultOrder": 2,
    "_isFastLaunch": false,
    "category": "General purpose",
    "gpuNum": 0,
    "hideHardwareSpecs": false,
    "memoryGiB": 16,
    "name": "ml.t3.xlarge",
    "vcpuNum": 4
   },
   {
    "_defaultOrder": 3,
    "_isFastLaunch": false,
    "category": "General purpose",
    "gpuNum": 0,
    "hideHardwareSpecs": false,
    "memoryGiB": 32,
    "name": "ml.t3.2xlarge",
    "vcpuNum": 8
   },
   {
    "_defaultOrder": 4,
    "_isFastLaunch": true,
    "category": "General purpose",
    "gpuNum": 0,
    "hideHardwareSpecs": false,
    "memoryGiB": 8,
    "name": "ml.m5.large",
    "vcpuNum": 2
   },
   {
    "_defaultOrder": 5,
    "_isFastLaunch": false,
    "category": "General purpose",
    "gpuNum": 0,
    "hideHardwareSpecs": false,
    "memoryGiB": 16,
    "name": "ml.m5.xlarge",
    "vcpuNum": 4
   },
   {
    "_defaultOrder": 6,
    "_isFastLaunch": false,
    "category": "General purpose",
    "gpuNum": 0,
    "hideHardwareSpecs": false,
    "memoryGiB": 32,
    "name": "ml.m5.2xlarge",
    "vcpuNum": 8
   },
   {
    "_defaultOrder": 7,
    "_isFastLaunch": false,
    "category": "General purpose",
    "gpuNum": 0,
    "hideHardwareSpecs": false,
    "memoryGiB": 64,
    "name": "ml.m5.4xlarge",
    "vcpuNum": 16
   },
   {
    "_defaultOrder": 8,
    "_isFastLaunch": false,
    "category": "General purpose",
    "gpuNum": 0,
    "hideHardwareSpecs": false,
    "memoryGiB": 128,
    "name": "ml.m5.8xlarge",
    "vcpuNum": 32
   },
   {
    "_defaultOrder": 9,
    "_isFastLaunch": false,
    "category": "General purpose",
    "gpuNum": 0,
    "hideHardwareSpecs": false,
    "memoryGiB": 192,
    "name": "ml.m5.12xlarge",
    "vcpuNum": 48
   },
   {
    "_defaultOrder": 10,
    "_isFastLaunch": false,
    "category": "General purpose",
    "gpuNum": 0,
    "hideHardwareSpecs": false,
    "memoryGiB": 256,
    "name": "ml.m5.16xlarge",
    "vcpuNum": 64
   },
   {
    "_defaultOrder": 11,
    "_isFastLaunch": false,
    "category": "General purpose",
    "gpuNum": 0,
    "hideHardwareSpecs": false,
    "memoryGiB": 384,
    "name": "ml.m5.24xlarge",
    "vcpuNum": 96
   },
   {
    "_defaultOrder": 12,
    "_isFastLaunch": false,
    "category": "General purpose",
    "gpuNum": 0,
    "hideHardwareSpecs": false,
    "memoryGiB": 8,
    "name": "ml.m5d.large",
    "vcpuNum": 2
   },
   {
    "_defaultOrder": 13,
    "_isFastLaunch": false,
    "category": "General purpose",
    "gpuNum": 0,
    "hideHardwareSpecs": false,
    "memoryGiB": 16,
    "name": "ml.m5d.xlarge",
    "vcpuNum": 4
   },
   {
    "_defaultOrder": 14,
    "_isFastLaunch": false,
    "category": "General purpose",
    "gpuNum": 0,
    "hideHardwareSpecs": false,
    "memoryGiB": 32,
    "name": "ml.m5d.2xlarge",
    "vcpuNum": 8
   },
   {
    "_defaultOrder": 15,
    "_isFastLaunch": false,
    "category": "General purpose",
    "gpuNum": 0,
    "hideHardwareSpecs": false,
    "memoryGiB": 64,
    "name": "ml.m5d.4xlarge",
    "vcpuNum": 16
   },
   {
    "_defaultOrder": 16,
    "_isFastLaunch": false,
    "category": "General purpose",
    "gpuNum": 0,
    "hideHardwareSpecs": false,
    "memoryGiB": 128,
    "name": "ml.m5d.8xlarge",
    "vcpuNum": 32
   },
   {
    "_defaultOrder": 17,
    "_isFastLaunch": false,
    "category": "General purpose",
    "gpuNum": 0,
    "hideHardwareSpecs": false,
    "memoryGiB": 192,
    "name": "ml.m5d.12xlarge",
    "vcpuNum": 48
   },
   {
    "_defaultOrder": 18,
    "_isFastLaunch": false,
    "category": "General purpose",
    "gpuNum": 0,
    "hideHardwareSpecs": false,
    "memoryGiB": 256,
    "name": "ml.m5d.16xlarge",
    "vcpuNum": 64
   },
   {
    "_defaultOrder": 19,
    "_isFastLaunch": false,
    "category": "General purpose",
    "gpuNum": 0,
    "hideHardwareSpecs": false,
    "memoryGiB": 384,
    "name": "ml.m5d.24xlarge",
    "vcpuNum": 96
   },
   {
    "_defaultOrder": 20,
    "_isFastLaunch": false,
    "category": "General purpose",
    "gpuNum": 0,
    "hideHardwareSpecs": true,
    "memoryGiB": 0,
    "name": "ml.geospatial.interactive",
    "supportedImageNames": [
     "sagemaker-geospatial-v1-0"
    ],
    "vcpuNum": 0
   },
   {
    "_defaultOrder": 21,
    "_isFastLaunch": true,
    "category": "Compute optimized",
    "gpuNum": 0,
    "hideHardwareSpecs": false,
    "memoryGiB": 4,
    "name": "ml.c5.large",
    "vcpuNum": 2
   },
   {
    "_defaultOrder": 22,
    "_isFastLaunch": false,
    "category": "Compute optimized",
    "gpuNum": 0,
    "hideHardwareSpecs": false,
    "memoryGiB": 8,
    "name": "ml.c5.xlarge",
    "vcpuNum": 4
   },
   {
    "_defaultOrder": 23,
    "_isFastLaunch": false,
    "category": "Compute optimized",
    "gpuNum": 0,
    "hideHardwareSpecs": false,
    "memoryGiB": 16,
    "name": "ml.c5.2xlarge",
    "vcpuNum": 8
   },
   {
    "_defaultOrder": 24,
    "_isFastLaunch": false,
    "category": "Compute optimized",
    "gpuNum": 0,
    "hideHardwareSpecs": false,
    "memoryGiB": 32,
    "name": "ml.c5.4xlarge",
    "vcpuNum": 16
   },
   {
    "_defaultOrder": 25,
    "_isFastLaunch": false,
    "category": "Compute optimized",
    "gpuNum": 0,
    "hideHardwareSpecs": false,
    "memoryGiB": 72,
    "name": "ml.c5.9xlarge",
    "vcpuNum": 36
   },
   {
    "_defaultOrder": 26,
    "_isFastLaunch": false,
    "category": "Compute optimized",
    "gpuNum": 0,
    "hideHardwareSpecs": false,
    "memoryGiB": 96,
    "name": "ml.c5.12xlarge",
    "vcpuNum": 48
   },
   {
    "_defaultOrder": 27,
    "_isFastLaunch": false,
    "category": "Compute optimized",
    "gpuNum": 0,
    "hideHardwareSpecs": false,
    "memoryGiB": 144,
    "name": "ml.c5.18xlarge",
    "vcpuNum": 72
   },
   {
    "_defaultOrder": 28,
    "_isFastLaunch": false,
    "category": "Compute optimized",
    "gpuNum": 0,
    "hideHardwareSpecs": false,
    "memoryGiB": 192,
    "name": "ml.c5.24xlarge",
    "vcpuNum": 96
   },
   {
    "_defaultOrder": 29,
    "_isFastLaunch": true,
    "category": "Accelerated computing",
    "gpuNum": 1,
    "hideHardwareSpecs": false,
    "memoryGiB": 16,
    "name": "ml.g4dn.xlarge",
    "vcpuNum": 4
   },
   {
    "_defaultOrder": 30,
    "_isFastLaunch": false,
    "category": "Accelerated computing",
    "gpuNum": 1,
    "hideHardwareSpecs": false,
    "memoryGiB": 32,
    "name": "ml.g4dn.2xlarge",
    "vcpuNum": 8
   },
   {
    "_defaultOrder": 31,
    "_isFastLaunch": false,
    "category": "Accelerated computing",
    "gpuNum": 1,
    "hideHardwareSpecs": false,
    "memoryGiB": 64,
    "name": "ml.g4dn.4xlarge",
    "vcpuNum": 16
   },
   {
    "_defaultOrder": 32,
    "_isFastLaunch": false,
    "category": "Accelerated computing",
    "gpuNum": 1,
    "hideHardwareSpecs": false,
    "memoryGiB": 128,
    "name": "ml.g4dn.8xlarge",
    "vcpuNum": 32
   },
   {
    "_defaultOrder": 33,
    "_isFastLaunch": false,
    "category": "Accelerated computing",
    "gpuNum": 4,
    "hideHardwareSpecs": false,
    "memoryGiB": 192,
    "name": "ml.g4dn.12xlarge",
    "vcpuNum": 48
   },
   {
    "_defaultOrder": 34,
    "_isFastLaunch": false,
    "category": "Accelerated computing",
    "gpuNum": 1,
    "hideHardwareSpecs": false,
    "memoryGiB": 256,
    "name": "ml.g4dn.16xlarge",
    "vcpuNum": 64
   },
   {
    "_defaultOrder": 35,
    "_isFastLaunch": false,
    "category": "Accelerated computing",
    "gpuNum": 1,
    "hideHardwareSpecs": false,
    "memoryGiB": 61,
    "name": "ml.p3.2xlarge",
    "vcpuNum": 8
   },
   {
    "_defaultOrder": 36,
    "_isFastLaunch": false,
    "category": "Accelerated computing",
    "gpuNum": 4,
    "hideHardwareSpecs": false,
    "memoryGiB": 244,
    "name": "ml.p3.8xlarge",
    "vcpuNum": 32
   },
   {
    "_defaultOrder": 37,
    "_isFastLaunch": false,
    "category": "Accelerated computing",
    "gpuNum": 8,
    "hideHardwareSpecs": false,
    "memoryGiB": 488,
    "name": "ml.p3.16xlarge",
    "vcpuNum": 64
   },
   {
    "_defaultOrder": 38,
    "_isFastLaunch": false,
    "category": "Accelerated computing",
    "gpuNum": 8,
    "hideHardwareSpecs": false,
    "memoryGiB": 768,
    "name": "ml.p3dn.24xlarge",
    "vcpuNum": 96
   },
   {
    "_defaultOrder": 39,
    "_isFastLaunch": false,
    "category": "Memory Optimized",
    "gpuNum": 0,
    "hideHardwareSpecs": false,
    "memoryGiB": 16,
    "name": "ml.r5.large",
    "vcpuNum": 2
   },
   {
    "_defaultOrder": 40,
    "_isFastLaunch": false,
    "category": "Memory Optimized",
    "gpuNum": 0,
    "hideHardwareSpecs": false,
    "memoryGiB": 32,
    "name": "ml.r5.xlarge",
    "vcpuNum": 4
   },
   {
    "_defaultOrder": 41,
    "_isFastLaunch": false,
    "category": "Memory Optimized",
    "gpuNum": 0,
    "hideHardwareSpecs": false,
    "memoryGiB": 64,
    "name": "ml.r5.2xlarge",
    "vcpuNum": 8
   },
   {
    "_defaultOrder": 42,
    "_isFastLaunch": false,
    "category": "Memory Optimized",
    "gpuNum": 0,
    "hideHardwareSpecs": false,
    "memoryGiB": 128,
    "name": "ml.r5.4xlarge",
    "vcpuNum": 16
   },
   {
    "_defaultOrder": 43,
    "_isFastLaunch": false,
    "category": "Memory Optimized",
    "gpuNum": 0,
    "hideHardwareSpecs": false,
    "memoryGiB": 256,
    "name": "ml.r5.8xlarge",
    "vcpuNum": 32
   },
   {
    "_defaultOrder": 44,
    "_isFastLaunch": false,
    "category": "Memory Optimized",
    "gpuNum": 0,
    "hideHardwareSpecs": false,
    "memoryGiB": 384,
    "name": "ml.r5.12xlarge",
    "vcpuNum": 48
   },
   {
    "_defaultOrder": 45,
    "_isFastLaunch": false,
    "category": "Memory Optimized",
    "gpuNum": 0,
    "hideHardwareSpecs": false,
    "memoryGiB": 512,
    "name": "ml.r5.16xlarge",
    "vcpuNum": 64
   },
   {
    "_defaultOrder": 46,
    "_isFastLaunch": false,
    "category": "Memory Optimized",
    "gpuNum": 0,
    "hideHardwareSpecs": false,
    "memoryGiB": 768,
    "name": "ml.r5.24xlarge",
    "vcpuNum": 96
   },
   {
    "_defaultOrder": 47,
    "_isFastLaunch": false,
    "category": "Accelerated computing",
    "gpuNum": 1,
    "hideHardwareSpecs": false,
    "memoryGiB": 16,
    "name": "ml.g5.xlarge",
    "vcpuNum": 4
   },
   {
    "_defaultOrder": 48,
    "_isFastLaunch": false,
    "category": "Accelerated computing",
    "gpuNum": 1,
    "hideHardwareSpecs": false,
    "memoryGiB": 32,
    "name": "ml.g5.2xlarge",
    "vcpuNum": 8
   },
   {
    "_defaultOrder": 49,
    "_isFastLaunch": false,
    "category": "Accelerated computing",
    "gpuNum": 1,
    "hideHardwareSpecs": false,
    "memoryGiB": 64,
    "name": "ml.g5.4xlarge",
    "vcpuNum": 16
   },
   {
    "_defaultOrder": 50,
    "_isFastLaunch": false,
    "category": "Accelerated computing",
    "gpuNum": 1,
    "hideHardwareSpecs": false,
    "memoryGiB": 128,
    "name": "ml.g5.8xlarge",
    "vcpuNum": 32
   },
   {
    "_defaultOrder": 51,
    "_isFastLaunch": false,
    "category": "Accelerated computing",
    "gpuNum": 1,
    "hideHardwareSpecs": false,
    "memoryGiB": 256,
    "name": "ml.g5.16xlarge",
    "vcpuNum": 64
   },
   {
    "_defaultOrder": 52,
    "_isFastLaunch": false,
    "category": "Accelerated computing",
    "gpuNum": 4,
    "hideHardwareSpecs": false,
    "memoryGiB": 192,
    "name": "ml.g5.12xlarge",
    "vcpuNum": 48
   },
   {
    "_defaultOrder": 53,
    "_isFastLaunch": false,
    "category": "Accelerated computing",
    "gpuNum": 4,
    "hideHardwareSpecs": false,
    "memoryGiB": 384,
    "name": "ml.g5.24xlarge",
    "vcpuNum": 96
   },
   {
    "_defaultOrder": 54,
    "_isFastLaunch": false,
    "category": "Accelerated computing",
    "gpuNum": 8,
    "hideHardwareSpecs": false,
    "memoryGiB": 768,
    "name": "ml.g5.48xlarge",
    "vcpuNum": 192
   },
   {
    "_defaultOrder": 55,
    "_isFastLaunch": false,
    "category": "Accelerated computing",
    "gpuNum": 8,
    "hideHardwareSpecs": false,
    "memoryGiB": 1152,
    "name": "ml.p4d.24xlarge",
    "vcpuNum": 96
   },
   {
    "_defaultOrder": 56,
    "_isFastLaunch": false,
    "category": "Accelerated computing",
    "gpuNum": 8,
    "hideHardwareSpecs": false,
    "memoryGiB": 1152,
    "name": "ml.p4de.24xlarge",
    "vcpuNum": 96
   },
   {
    "_defaultOrder": 57,
    "_isFastLaunch": false,
    "category": "Accelerated computing",
    "gpuNum": 0,
    "hideHardwareSpecs": false,
    "memoryGiB": 32,
    "name": "ml.trn1.2xlarge",
    "vcpuNum": 8
   },
   {
    "_defaultOrder": 58,
    "_isFastLaunch": false,
    "category": "Accelerated computing",
    "gpuNum": 0,
    "hideHardwareSpecs": false,
    "memoryGiB": 512,
    "name": "ml.trn1.32xlarge",
    "vcpuNum": 128
   },
   {
    "_defaultOrder": 59,
    "_isFastLaunch": false,
    "category": "Accelerated computing",
    "gpuNum": 0,
    "hideHardwareSpecs": false,
    "memoryGiB": 512,
    "name": "ml.trn1n.32xlarge",
    "vcpuNum": 128
   }
  ],
  "instance_type": "ml.t3.medium",
  "kernelspec": {
   "display_name": "Python 3 (Data Science 3.0)",
   "language": "python",
   "name": "python3__SAGEMAKER_INTERNAL__arn:aws:sagemaker:us-east-1:081325390199:image/sagemaker-data-science-310-v1"
  },
  "language_info": {
   "codemirror_mode": {
    "name": "ipython",
    "version": 3
   },
   "file_extension": ".py",
   "mimetype": "text/x-python",
   "name": "python",
   "nbconvert_exporter": "python",
   "pygments_lexer": "ipython3",
   "version": "3.10.6"
  }
 },
 "nbformat": 4,
 "nbformat_minor": 5
}
