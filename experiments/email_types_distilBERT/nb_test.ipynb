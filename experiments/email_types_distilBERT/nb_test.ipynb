{
 "cells": [
  {
   "cell_type": "markdown",
   "id": "d60bd122-1923-45c8-b87b-611cb7c550c8",
   "metadata": {},
   "source": [
    "### This test notebook contains code to create an endpoint, evaluate on a test dataset, generate predictions and calculate metrics."
   ]
  },
  {
   "cell_type": "code",
   "execution_count": null,
   "id": "f581b513-e4b2-41cf-a1d6-2ac1e452c0fc",
   "metadata": {
    "tags": []
   },
   "outputs": [],
   "source": [
    "#Run the utility notebook\n",
    "%run utils.py"
   ]
  },
  {
   "cell_type": "markdown",
   "id": "03b1fdce",
   "metadata": {},
   "source": [
    "### Choose the model you want to use in this test\n",
    "- Make sure to choose a model based on the naming conventions of the outputted model files from the train notebook **nb_train.ipynb**"
   ]
  },
  {
   "cell_type": "code",
   "execution_count": null,
   "id": "0e823891",
   "metadata": {},
   "outputs": [],
   "source": [
    "MODEL = \"data-train-email-types-yyyy-mm-dd-a\""
   ]
  },
  {
   "cell_type": "markdown",
   "id": "2be7e010",
   "metadata": {},
   "source": [
    "### Setup where to store/access data files\n",
    "- Access all testing data files: https://us-east-1.console.aws.amazon.com/s3/buckets/sigparser-models?region=us-east-1&bucketType=general&prefix=email-types-distilBERT/&showversions=false\n",
    "- IMPORTANT: Make sure this naming convention is used (e.g. **data-test-email-types-yyyy-mm-dd-a.csv**)"
   ]
  },
  {
   "cell_type": "code",
   "execution_count": null,
   "id": "8c3c258f",
   "metadata": {},
   "outputs": [],
   "source": [
    "#The INPUT will change every time we run this notebook with a new dataset\n",
    "INPUT = \"data-test-email-types-yyyy-mm-dd-a.csv.csv\"\n",
    "OUTPUT = INPUT.removesuffix(\".csv\")\n",
    "\n",
    "print(f\"INPUT: {INPUT}\")\n",
    "print(f\"OUTPUT: {OUTPUT}\")\n",
    "\n",
    "#These values won't change unless we change the structure of our S3 bucket\n",
    "S3_BUCKET_NAME = 'sigparser-models'\n",
    "S3_FOLDER_NAME = 'email-types-distilBERT'"
   ]
  },
  {
   "cell_type": "markdown",
   "id": "3eda542c",
   "metadata": {},
   "source": [
    "### Clean the raw training data (IMPORTANT: Make sure you uploaded the training data on the S3 bucket in the previous step)"
   ]
  },
  {
   "cell_type": "code",
   "execution_count": null,
   "id": "f58049af",
   "metadata": {},
   "outputs": [],
   "source": [
    "test_df = retrieve_from_s3(bucket_name=S3_BUCKET_NAME, file_key=f\"{S3_FOLDER_NAME}/{INPUT}\")\n",
    "print(f\"Number of rows in the test dataset: {len(test_df)}\")"
   ]
  },
  {
   "cell_type": "code",
   "execution_count": null,
   "id": "bcbf5258",
   "metadata": {},
   "outputs": [],
   "source": [
    "EMAIL_TYPE_COL = \"Email Type\"\n",
    "EMAIL_ADDRESS_COL = \"Email Address\"\n",
    "EMAIL_NAME_COL = \"Email Name\"\n",
    "EMAIL_DISPLAY_NAME_COL = \"Email Display Name\"\n",
    "\n",
    "print(\"Shape of test dataframe: \", test_df.shape)\n",
    "\n",
    "nan_values(test_df)\n",
    "\n",
    "#Convert Email Type str values to 'LABEL_0' for Person and 'LABEL_1' for Non-Person to ensure compatibility with the way the model has mapped numeric labels while training to a more descriptive string format for outputs\n",
    "test_df[EMAIL_TYPE_COL] = test_df[EMAIL_TYPE_COL].apply(lambda x: 'LABEL_0' if x == 'Person' else 'LABEL_1')\n",
    "\n",
    "#Concatenating the email columns\n",
    "test_df['combined'] = test_df[EMAIL_ADDRESS_COL]+ ', ' +test_df[EMAIL_NAME_COL]+ ', ' +test_df[EMAIL_DISPLAY_NAME_COL]\n",
    "\n",
    "#Picking out only the  combined string column to be in the test df and the numeric values to be in ground truth list\n",
    "test_df_distilbert = test_df[['combined']]\n",
    "gt_df_distilbert = test_df[[EMAIL_TYPE_COL]].rename(columns={EMAIL_TYPE_COL: 'gt'})\n",
    "\n",
    "save_to_s3(test_df_distilbert, bucket_name=S3_BUCKET_NAME, file_key=f\"{S3_FOLDER_NAME}/{OUTPUT}/test_data.csv\", mode=\"test\")\n",
    "save_to_s3(gt_df_distilbert, bucket_name=S3_BUCKET_NAME, file_key=f\"{S3_FOLDER_NAME}/{OUTPUT}/distilbert_test_gt.csv\", mode=\"test\")"
   ]
  },
  {
   "cell_type": "markdown",
   "id": "477e80f8-afc8-4e25-a07e-d93125dcd8d3",
   "metadata": {},
   "source": [
    "### Starting a SageMaker session with boto3"
   ]
  },
  {
   "cell_type": "code",
   "execution_count": 15,
   "id": "860dc4ed-2234-4fbc-92df-0ae0b4d7b1d5",
   "metadata": {
    "tags": []
   },
   "outputs": [],
   "source": [
    "sagemaker_session = Session()\n",
    "aws_role = sagemaker_session.get_caller_identity_arn()\n",
    "aws_region = boto3.Session().region_name\n",
    "sess = sagemaker.Session()"
   ]
  },
  {
   "cell_type": "markdown",
   "id": "84912f3f-a6f7-475d-91f3-3ec4151e6b6a",
   "metadata": {},
   "source": [
    "### Creating endpoint configuration and real-time inference endpoint"
   ]
  },
  {
   "cell_type": "code",
   "execution_count": null,
   "id": "eb5418fa",
   "metadata": {},
   "outputs": [],
   "source": [
    "model_path=f\"s3://{S3_BUCKET_NAME}/{MODEL}/{MODEL}-model/output/model.tar.gz\"\n",
    "time_taken = 0 "
   ]
  },
  {
   "cell_type": "markdown",
   "id": "c1e22dc9",
   "metadata": {},
   "source": [
    "### Provide existing endpoint of endpoint to use (If one already exists)\n",
    "- access existing endpoints here: https://us-east-1.console.aws.amazon.com/sagemaker/home?region=us-east-1#/endpoints"
   ]
  },
  {
   "cell_type": "code",
   "execution_count": null,
   "id": "34133994",
   "metadata": {},
   "outputs": [],
   "source": [
    "ENDPOINT = \"\""
   ]
  },
  {
   "cell_type": "markdown",
   "id": "92a576f0",
   "metadata": {},
   "source": [
    "### (OPTIONAL): Create and activate new model Endpoint"
   ]
  },
  {
   "cell_type": "code",
   "execution_count": 105,
   "id": "94e73d1b-25ed-44a6-9712-022e1ee5ce11",
   "metadata": {
    "tags": []
   },
   "outputs": [
    {
     "name": "stderr",
     "output_type": "stream",
     "text": [
      "Using model 'huggingface-tc-distilbert-base-multilingual-cased' with wildcard version identifier '*'. You can pin to version '2.0.0' for more stable results. Note that models may have different input/output signatures after a major version upgrade.\n"
     ]
    },
    {
     "name": "stdout",
     "output_type": "stream",
     "text": [
      "Endpoint name not given, creating endpoint\n",
      "Model data location given:  s3://sagemaker-sigparser-caylent-mlops/data/email-type/output/DistilBERT/model_data/distilbert-tc-base-multilingual-cased-2024-04-23-19-06-45-054/output/model.tar.gz\n",
      "-----------!Time taken to create endpoint:  416.7927587032318\n"
     ]
    }
   ],
   "source": [
    "NEW_ENDPOINT_NAME = \"distilbert-base-multilingual-cased-24-04-2024-b\"\n",
    "\n",
    "print(\"Endpoint name not given, creating endpoint\")\n",
    "\n",
    "start_time = time.time() #Recording the time of starting endpoint creation\n",
    "create_endpoint(instance_type=\"ml.m5.xlarge\", endpoint_name=NEW_ENDPOINT_NAME, \n",
    "                model_data=model_path, aws_role=aws_role)\n",
    "end_time = time.time()  #Recording the time after creating the endpoint\n",
    "time_taken = end_time - start_time  \n",
    "\n",
    "print(\"Time taken to create endpoint: \", time_taken)\n",
    "print(\"Time taken to create endpoint: \", time_taken)\n",
    "\n",
    "ENDPOINT = NEW_ENDPOINT_NAME"
   ]
  },
  {
   "cell_type": "markdown",
   "id": "409dafe6-d8fa-4366-8de9-b7667fe7a6d1",
   "metadata": {},
   "source": [
    "### Load test dataset and ground truth labels from S3"
   ]
  },
  {
   "cell_type": "code",
   "execution_count": 107,
   "id": "5c9a3593-85e3-407b-91e5-2454074a1362",
   "metadata": {
    "tags": []
   },
   "outputs": [],
   "source": [
    "test_data_key = f\"{S3_FOLDER_NAME}/{OUTPUT}/test_data.csv\"\n",
    "ground_truth_key = f\"{S3_FOLDER_NAME}/{OUTPUT}/distilbert_test_gt.csv\"\n",
    "test_list, gt = test_dataset(S3_BUCKET_NAME, test_data_key, ground_truth_key)"
   ]
  },
  {
   "cell_type": "code",
   "execution_count": 108,
   "id": "166523b7-12aa-4f95-b728-96aa1838c514",
   "metadata": {
    "tags": []
   },
   "outputs": [
    {
     "name": "stdout",
     "output_type": "stream",
     "text": [
      "Number of items in test dataset:  53646\n"
     ]
    }
   ],
   "source": [
    "len_test = len(test_list)\n",
    "print(\"Number of items in test dataset: \", len_test)"
   ]
  },
  {
   "cell_type": "markdown",
   "id": "a356ad18-ada9-4d3a-b323-ff54ed4d5548",
   "metadata": {},
   "source": [
    "### Getting predictions from endpoint while calculating the total time taken"
   ]
  },
  {
   "cell_type": "code",
   "execution_count": 109,
   "id": "c91e42e7-9334-48af-aab1-efad6cc00016",
   "metadata": {
    "tags": []
   },
   "outputs": [],
   "source": [
    "#Creating a Predictor object with the endpoint's name\n",
    "finetuned_predictor = Predictor(endpoint_name=ENDPOINT)"
   ]
  },
  {
   "cell_type": "code",
   "execution_count": 110,
   "id": "cd436497-92e4-4a95-aa94-67a4a6f20645",
   "metadata": {
    "tags": []
   },
   "outputs": [
    {
     "name": "stderr",
     "output_type": "stream",
     "text": [
      "Generating predictions: 100%|██████████| 53646/53646 [14:44<00:00, 60.63it/s]"
     ]
    },
    {
     "name": "stdout",
     "output_type": "stream",
     "text": [
      "Total time taken for 53646 predictions: 866.2373127937317 seconds\n",
      "Average time taken per prediction: 0.016147286149829097 seconds\n"
     ]
    },
    {
     "name": "stderr",
     "output_type": "stream",
     "text": [
      "\n"
     ]
    }
   ],
   "source": [
    "#Calculate predictions for test dataset using endpoint\n",
    "predictions = []\n",
    "probabilities_person = []\n",
    "probabilities_non_person = []\n",
    "total_time_taken = 0 \n",
    "\n",
    "for idx, text in tqdm(enumerate(test_list), total = len_test, desc = \"Generating predictions\"): #The 'total' parameter specifies the total number of iterations that the progress bar should expect\n",
    "    start_time = time.time()  #Recording the time before sending the request to the endpoint\n",
    "    \n",
    "    query_response = query_endpoint(finetuned_predictor, text) #You can encode with utf-8 here\n",
    "    end_time = time.time()  #Recording the time after receiving the response from the endpoint\n",
    "    time_taken = end_time - start_time  \n",
    "    total_time_taken += time_taken\n",
    "    \n",
    "    probabilities, labels, predicted_label = parse_response(query_response)\n",
    "    if probabilities[1] >= 0.9:\n",
    "        predicted_label = 'LABEL_1' #Non-Person\n",
    "    else:\n",
    "        predicted_label = 'LABEL_0' #Person\n",
    "    predictions.append(predicted_label)\n",
    "    probabilities_person.append(probabilities[0]) \n",
    "    probabilities_non_person.append(probabilities[1]) \n",
    "\n",
    "print(f\"Total time taken for {len_test} predictions: {total_time_taken} seconds\")\n",
    "average_time_per_prediction = total_time_taken / len_test\n",
    "print(f\"Average time taken per prediction: {average_time_per_prediction} seconds\")\n",
    "\n",
    "\n",
    "#Save prediction results to S3\n",
    "all_predictions_df = save_predictions(test_list, gt, predictions, probabilities_person, probabilities_non_person, S3_BUCKET_NAME, \n",
    "                     f\"{S3_FOLDER_NAME}/{OUTPUT}/all_predictions.csv\")\n",
    "\n",
    "#Save misclassified results to S3\n",
    "misclassified_pred(all_predictions_df, S3_BUCKET_NAME, f\"{S3_FOLDER_NAME}/{OUTPUT}/misclassified_predictions.csv\")"
   ]
  },
  {
   "cell_type": "markdown",
   "id": "9ad1f424-e78f-4b00-a67e-bd0cedce0a59",
   "metadata": {},
   "source": [
    "### Metrics to measure the effectiveness of the model on the test dataset"
   ]
  },
  {
   "cell_type": "code",
   "execution_count": 113,
   "id": "90e51e51-82b9-4a76-b3e3-a3f607417445",
   "metadata": {},
   "outputs": [
    {
     "name": "stderr",
     "output_type": "stream",
     "text": [
      "/opt/conda/lib/python3.10/site-packages/sklearn/metrics/_classification.py:1509: UndefinedMetricWarning: Recall is ill-defined and being set to 0.0 in labels with no true samples. Use `zero_division` parameter to control this behavior.\n",
      "  _warn_prf(average, modifier, f\"{metric.capitalize()} is\", len(result))\n",
      "/opt/conda/lib/python3.10/site-packages/sklearn/metrics/_classification.py:1509: UndefinedMetricWarning: Recall is ill-defined and being set to 0.0 in labels with no true samples. Use `zero_division` parameter to control this behavior.\n",
      "  _warn_prf(average, modifier, f\"{metric.capitalize()} is\", len(result))\n",
      "/opt/conda/lib/python3.10/site-packages/sklearn/metrics/_classification.py:1509: UndefinedMetricWarning: Recall is ill-defined and being set to 0.0 in labels with no true samples. Use `zero_division` parameter to control this behavior.\n",
      "  _warn_prf(average, modifier, f\"{metric.capitalize()} is\", len(result))\n"
     ]
    },
    {
     "name": "stdout",
     "output_type": "stream",
     "text": [
      "Precision for Person: 0.0\n",
      "Recall for Person: 0.0\n",
      "\n",
      "Precision for Non-Person: 1.0\n",
      "Recall for Non-Person: 0.07728442008723857\n",
      "\n",
      "Overall Precision: 0.5\n",
      "Overall Recall: 0.038642210043619285\n",
      "F1 Score: 0.07174003322259136\n",
      "\n",
      "Overall Accuracy: 0.07728442008723857\n"
     ]
    },
    {
     "name": "stderr",
     "output_type": "stream",
     "text": [
      "/opt/conda/lib/python3.10/site-packages/sklearn/metrics/_classification.py:1509: UndefinedMetricWarning: Recall is ill-defined and being set to 0.0 in labels with no true samples. Use `zero_division` parameter to control this behavior.\n",
      "  _warn_prf(average, modifier, f\"{metric.capitalize()} is\", len(result))\n"
     ]
    }
   ],
   "source": [
    "#Calling function to calculate Class-wise precision and recall, and total precision, recall, f1 score and accuracy\n",
    "#We are storing the numeric format of pred and gt for calculating confusion matrix later\n",
    "numeric_predictions, numeric_ground_truth, overall_accuracy, precision, recall, f1 = classification_metrics(gt, predictions)"
   ]
  },
  {
   "cell_type": "code",
   "execution_count": 114,
   "id": "7c8a798c-740d-4533-87a7-19d33b40848f",
   "metadata": {},
   "outputs": [
    {
     "name": "stdout",
     "output_type": "stream",
     "text": [
      "[[    0     0]\n",
      " [49500  4146]]\n",
      "\n",
      "Accuracy for Person: nan%\n",
      "Accuracy for Non-Person: 7.73%\n"
     ]
    },
    {
     "name": "stderr",
     "output_type": "stream",
     "text": [
      "/root/LLMParsingModels/experiments/email-type-distilBERT/distilBERT_utility.py:187: RuntimeWarning: invalid value encountered in scalar divide\n",
      "  person_accuracy = (TN / (TN + FP)) * 100  # Accuracy for \"Person\"\n"
     ]
    }
   ],
   "source": [
    "#Calling function to calculate confusion matrix and class wise accuracy\n",
    "conf_matrix = confusion_matrix_accuracy(numeric_ground_truth, numeric_predictions)"
   ]
  },
  {
   "cell_type": "code",
   "execution_count": 115,
   "id": "87befb8b-620a-4b43-b760-2e6e90a47e80",
   "metadata": {
    "tags": []
   },
   "outputs": [
    {
     "data": {
      "image/png": "[encoded data removed]",
      "text/plain": [
       "<Figure size 1000x700 with 2 Axes>"
      ]
     },
     "metadata": {},
     "output_type": "display_data"
    }
   ],
   "source": [
    "#Calling function to plot heatmap\n",
    "plot_heatmap(conf_matrix)"
   ]
  },
  {
   "cell_type": "code",
   "execution_count": 116,
   "id": "71918be9-a274-4c02-8a97-c93b73f0bf30",
   "metadata": {
    "tags": []
   },
   "outputs": [
    {
     "name": "stdout",
     "output_type": "stream",
     "text": [
      "Percentage of the total records correctly classified: 7.73%\n",
      "Percentage of the total records wrongly classified as 'Person' when the True(actual) label is 'Non-Person': 92.27%\n",
      "Percentage of the overall data wrongly classified as 'Non-Person' when the True(actual) label is 'Person': 0.00%\n"
     ]
    }
   ],
   "source": [
    "#Calling function to print the percentage of total records correctly classified and incorrectly classified according to label\n",
    "percentage_records_classified(conf_matrix)"
   ]
  },
  {
   "cell_type": "markdown",
   "id": "56fb336b-17a9-4d9a-9d72-9690aaf0a59d",
   "metadata": {},
   "source": [
    "#### Saving key results and metrics in JSON file"
   ]
  },
  {
   "cell_type": "code",
   "execution_count": 117,
   "id": "2595c9a3-a3f2-4c33-98d6-f5c2613dab4b",
   "metadata": {
    "tags": []
   },
   "outputs": [
    {
     "name": "stdout",
     "output_type": "stream",
     "text": [
      "The JSON file has been uploaded successfully to the S3 bucket.\n"
     ]
    }
   ],
   "source": [
    "training_dataset_s3_path = f\"s3://sagemaker-sigparser-caylent-mlops/data/email-type/input/processed/distilbert/distilbert-fine_tuning-23-04-2024/data.csv\"\n",
    "test_dataset_s3_path = bucket_name+'/'+test_data_key\n",
    "s3_output_location = f\"s3://sagemaker-sigparser-caylent-mlops/data/email-type/output/DistilBERT/23-04-2024/all_predictions.csv\"\n",
    "model_id, model_version = 'huggingface-tc-distilbert-base-multilingual-cased', \"2.0.0\" \n",
    "gt_path = bucket_name+'/'+ground_truth_key\n",
    "\n",
    "results_summary = {\n",
    "    \"train_data_location\": training_dataset_s3_path,  \n",
    "    \"test_data_location\":test_dataset_s3_path,\n",
    "    \"ground_truth_location\": gt_path,\n",
    "    \"model_id\": model_id,\n",
    "    \"model_version\": model_version,\n",
    "    \"model_path\": model_path,\n",
    "    \"output_data_location\": s3_output_location,\n",
    "    \"evaluation_results\": {\n",
    "        \"accuracy\": overall_accuracy,\n",
    "        \"precision\": precision,\n",
    "        \"recall\": recall,\n",
    "        \"f1_score\": f1\n",
    "        }\n",
    "    }\n",
    "\n",
    "save_json_to_s3(results_summary, 'sagemaker-sigparser-caylent-mlops', 'data/email-type/output/DistilBERT/23-04-2024/results_summary.json')"
   ]
  },
  {
   "cell_type": "markdown",
   "id": "e9bebbe6-2a75-4922-9e96-e7af8dbb47b1",
   "metadata": {},
   "source": [
    "## 10k dataset"
   ]
  },
  {
   "cell_type": "code",
   "execution_count": 61,
   "id": "6807af43-50a2-4bbb-9ce3-102bf16a62f4",
   "metadata": {
    "tags": []
   },
   "outputs": [],
   "source": [
    "#Loading test set and ground truth labels\n",
    "test_data_key = 'data/email-type/input/processed/distilbert/distilbert-test/10k_test_data.csv'\n",
    "ground_truth_key = 'data/email-type/input/processed/distilbert/distilbert-test/10k_test_gt.csv'\n",
    "test_list, gt = test_dataset(bucket, test_data_key, ground_truth_key)"
   ]
  },
  {
   "cell_type": "code",
   "execution_count": null,
   "id": "151685c7-bea5-4844-9985-cca085310316",
   "metadata": {},
   "outputs": [],
   "source": [
    "len_test = len(test_list)\n",
    "print(\"Number of items in test dataset: \", len_test)"
   ]
  },
  {
   "cell_type": "code",
   "execution_count": 37,
   "id": "53e34699-5424-46ca-9c04-7701349854fc",
   "metadata": {
    "tags": []
   },
   "outputs": [
    {
     "name": "stdout",
     "output_type": "stream",
     "text": [
      "Total time taken for 10000 predictions: 679.8090829849243 seconds\n",
      "Average time taken per prediction: 0.06798090829849243 seconds\n"
     ]
    }
   ],
   "source": [
    "#Calculate predictions for test dataset using endpoint\n",
    "predictions = []\n",
    "probabilities_person = []\n",
    "probabilities_non_person = []\n",
    "total_time_taken = 0 \n",
    "\n",
    "for idx, text in tqdm(enumerate(test_list), total = len_test, desc = \"Generating predictions\"): \n",
    "    start_time = time.time()  #Recording the time before sending the request to the endpoint\n",
    "    \n",
    "    query_response = query_endpoint(finetuned_predictor, text) #You can encode with utf-8 here\n",
    "    end_time = time.time()  #Recording the time after receiving the response from the endpoint\n",
    "    time_taken = end_time - start_time  \n",
    "    total_time_taken += time_taken\n",
    "    \n",
    "    probabilities, labels, predicted_label = parse_response(query_response)\n",
    "    predictions.append(predicted_label)\n",
    "    probabilities_person.append(probabilities[0]) \n",
    "    probabilities_non_person.append(probabilities[1]) \n",
    "\n",
    "print(f\"Total time taken for {len_test} predictions: {total_time_taken} seconds\")\n",
    "average_time_per_prediction = total_time_taken / len_test\n",
    "print(f\"Average time taken per prediction: {average_time_per_prediction} seconds\")"
   ]
  },
  {
   "cell_type": "code",
   "execution_count": 38,
   "id": "302d0c0d-2e48-4d6e-a1bc-e8bed43577e4",
   "metadata": {
    "tags": []
   },
   "outputs": [
    {
     "name": "stdout",
     "output_type": "stream",
     "text": [
      "Precision for Person: 0.9929859719438878\n",
      "Recall for Person: 0.9937825912555155\n",
      "\n",
      "Precision for Non Person: 0.993812375249501\n",
      "Recall for Non Person: 0.993019545273235\n",
      "\n",
      "Overall Precision: 0.9933991735966944\n",
      "Overall Recall: 0.9934010682643752\n",
      "F1 Score: 0.9933999619837811\n",
      "\n",
      "Overall Accuracy: 0.9934\n"
     ]
    }
   ],
   "source": [
    "#Calling function to calculate Class-wise precision and recall, and total precision, recall, f1 score and accuracy\n",
    "#We are storing the numeric format of pred and gt for calculating confusion matrix later\n",
    "numeric_predictions, numeric_ground_truth, overall_accuracy, precision, recall, f1 = classification_metrics(gt, predictions)"
   ]
  },
  {
   "cell_type": "code",
   "execution_count": 39,
   "id": "a9deb18f-25e1-41fd-b7b0-b373a84e816d",
   "metadata": {},
   "outputs": [
    {
     "name": "stdout",
     "output_type": "stream",
     "text": [
      "[[4955   31]\n",
      " [  35 4979]]\n",
      "\n",
      "Accuracy for Person: 99.30%\n",
      "Accuracy for Non-Person: 99.38%\n"
     ]
    }
   ],
   "source": [
    "#Calling function to calculate confusion matrix and class wise accuracy\n",
    "conf_matrix = confusion_matrix_accuracy(numeric_ground_truth, numeric_predictions)"
   ]
  },
  {
   "cell_type": "code",
   "execution_count": 40,
   "id": "1854915a-94f5-4382-a45e-e73172f04acc",
   "metadata": {
    "tags": []
   },
   "outputs": [
    {
     "data": {
      "image/png": "[encoded data removed]",
      "text/plain": [
       "<Figure size 1000x700 with 2 Axes>"
      ]
     },
     "metadata": {},
     "output_type": "display_data"
    }
   ],
   "source": [
    "#Calling function to plot heatmap\n",
    "plot_heatmap(conf_matrix)"
   ]
  },
  {
   "cell_type": "code",
   "execution_count": 41,
   "id": "750d44e3-8f8a-4e67-aae4-b6de424a6847",
   "metadata": {
    "tags": []
   },
   "outputs": [
    {
     "name": "stdout",
     "output_type": "stream",
     "text": [
      "Percentage of the total records correctly classified: 99.34%\n",
      "Percentage of the total records wrongly classified as 'LABEL_0' when the True(actual) label is 'LABEL_1': 0.35%\n",
      "Percentage of the overall data wrongly classified as 'LABEL_1' when the True(actual) label is 'LABEL_0': 0.31%\n"
     ]
    }
   ],
   "source": [
    "#Calling function to print the percentage of total records correctly classified and incorrectly classified according to label\n",
    "percentage_records_classified(conf_matrix)"
   ]
  },
  {
   "cell_type": "code",
   "execution_count": 42,
   "id": "2e9af4c6-bbca-495c-be95-a779b034dcaa",
   "metadata": {
    "tags": []
   },
   "outputs": [],
   "source": [
    "#Saving results in json file\n",
    "training_dataset_s3_path = f\"s3://sagemaker-sigparser-caylent-mlops/data/email-type/input/processed/distilbert/distilbert-fine_tuning-08-04-2024/data.csv\"\n",
    "test_dataset_s3_path = bucket_name+'/'+test_data_key\n",
    "s3_output_location = f\"s3://sagemaker-sigparser-caylent-mlops/data/email-type/output/DistilBERT/10k-test-dataset_02-04-2024/misclassified_results_distilbert.csv\"\n",
    "model_id, model_version = 'huggingface-tc-distilbert-base-multilingual-cased', \"*\" \n",
    "gt_path = bucket_name+'/'+ground_truth_key\n",
    "\n",
    "results_summary = {\n",
    "    \"train_data_location\": training_dataset_s3_path,  \n",
    "    \"test_data_location\":test_dataset_s3_path,\n",
    "    \"ground_truth_location\": gt_path,\n",
    "    \"model_id\": model_id,\n",
    "    \"model_version\": model_version,\n",
    "    \"model_path\": model_path,\n",
    "    \"output_data_location\": s3_output_location,\n",
    "    \"evaluation_results\": {\n",
    "        \"accuracy\": overall_accuracy,\n",
    "        \"precision\": precision,\n",
    "        \"recall\": recall,\n",
    "        \"f1_score\": f1\n",
    "    }\n",
    "}\n",
    "\n",
    "save_json_to_s3(outfile, 'sagemaker-sigparser-caylent-mlops', 'data/email-type/output/DistilBERT/10k-test-dataset_02-04-2024/results_summary.json')"
   ]
  }
 ],
 "metadata": {
  "availableInstances": [
   {
    "_defaultOrder": 0,
    "_isFastLaunch": true,
    "category": "General purpose",
    "gpuNum": 0,
    "hideHardwareSpecs": false,
    "memoryGiB": 4,
    "name": "ml.t3.medium",
    "vcpuNum": 2
   },
   {
    "_defaultOrder": 1,
    "_isFastLaunch": false,
    "category": "General purpose",
    "gpuNum": 0,
    "hideHardwareSpecs": false,
    "memoryGiB": 8,
    "name": "ml.t3.large",
    "vcpuNum": 2
   },
   {
    "_defaultOrder": 2,
    "_isFastLaunch": false,
    "category": "General purpose",
    "gpuNum": 0,
    "hideHardwareSpecs": false,
    "memoryGiB": 16,
    "name": "ml.t3.xlarge",
    "vcpuNum": 4
   },
   {
    "_defaultOrder": 3,
    "_isFastLaunch": false,
    "category": "General purpose",
    "gpuNum": 0,
    "hideHardwareSpecs": false,
    "memoryGiB": 32,
    "name": "ml.t3.2xlarge",
    "vcpuNum": 8
   },
   {
    "_defaultOrder": 4,
    "_isFastLaunch": true,
    "category": "General purpose",
    "gpuNum": 0,
    "hideHardwareSpecs": false,
    "memoryGiB": 8,
    "name": "ml.m5.large",
    "vcpuNum": 2
   },
   {
    "_defaultOrder": 5,
    "_isFastLaunch": false,
    "category": "General purpose",
    "gpuNum": 0,
    "hideHardwareSpecs": false,
    "memoryGiB": 16,
    "name": "ml.m5.xlarge",
    "vcpuNum": 4
   },
   {
    "_defaultOrder": 6,
    "_isFastLaunch": false,
    "category": "General purpose",
    "gpuNum": 0,
    "hideHardwareSpecs": false,
    "memoryGiB": 32,
    "name": "ml.m5.2xlarge",
    "vcpuNum": 8
   },
   {
    "_defaultOrder": 7,
    "_isFastLaunch": false,
    "category": "General purpose",
    "gpuNum": 0,
    "hideHardwareSpecs": false,
    "memoryGiB": 64,
    "name": "ml.m5.4xlarge",
    "vcpuNum": 16
   },
   {
    "_defaultOrder": 8,
    "_isFastLaunch": false,
    "category": "General purpose",
    "gpuNum": 0,
    "hideHardwareSpecs": false,
    "memoryGiB": 128,
    "name": "ml.m5.8xlarge",
    "vcpuNum": 32
   },
   {
    "_defaultOrder": 9,
    "_isFastLaunch": false,
    "category": "General purpose",
    "gpuNum": 0,
    "hideHardwareSpecs": false,
    "memoryGiB": 192,
    "name": "ml.m5.12xlarge",
    "vcpuNum": 48
   },
   {
    "_defaultOrder": 10,
    "_isFastLaunch": false,
    "category": "General purpose",
    "gpuNum": 0,
    "hideHardwareSpecs": false,
    "memoryGiB": 256,
    "name": "ml.m5.16xlarge",
    "vcpuNum": 64
   },
   {
    "_defaultOrder": 11,
    "_isFastLaunch": false,
    "category": "General purpose",
    "gpuNum": 0,
    "hideHardwareSpecs": false,
    "memoryGiB": 384,
    "name": "ml.m5.24xlarge",
    "vcpuNum": 96
   },
   {
    "_defaultOrder": 12,
    "_isFastLaunch": false,
    "category": "General purpose",
    "gpuNum": 0,
    "hideHardwareSpecs": false,
    "memoryGiB": 8,
    "name": "ml.m5d.large",
    "vcpuNum": 2
   },
   {
    "_defaultOrder": 13,
    "_isFastLaunch": false,
    "category": "General purpose",
    "gpuNum": 0,
    "hideHardwareSpecs": false,
    "memoryGiB": 16,
    "name": "ml.m5d.xlarge",
    "vcpuNum": 4
   },
   {
    "_defaultOrder": 14,
    "_isFastLaunch": false,
    "category": "General purpose",
    "gpuNum": 0,
    "hideHardwareSpecs": false,
    "memoryGiB": 32,
    "name": "ml.m5d.2xlarge",
    "vcpuNum": 8
   },
   {
    "_defaultOrder": 15,
    "_isFastLaunch": false,
    "category": "General purpose",
    "gpuNum": 0,
    "hideHardwareSpecs": false,
    "memoryGiB": 64,
    "name": "ml.m5d.4xlarge",
    "vcpuNum": 16
   },
   {
    "_defaultOrder": 16,
    "_isFastLaunch": false,
    "category": "General purpose",
    "gpuNum": 0,
    "hideHardwareSpecs": false,
    "memoryGiB": 128,
    "name": "ml.m5d.8xlarge",
    "vcpuNum": 32
   },
   {
    "_defaultOrder": 17,
    "_isFastLaunch": false,
    "category": "General purpose",
    "gpuNum": 0,
    "hideHardwareSpecs": false,
    "memoryGiB": 192,
    "name": "ml.m5d.12xlarge",
    "vcpuNum": 48
   },
   {
    "_defaultOrder": 18,
    "_isFastLaunch": false,
    "category": "General purpose",
    "gpuNum": 0,
    "hideHardwareSpecs": false,
    "memoryGiB": 256,
    "name": "ml.m5d.16xlarge",
    "vcpuNum": 64
   },
   {
    "_defaultOrder": 19,
    "_isFastLaunch": false,
    "category": "General purpose",
    "gpuNum": 0,
    "hideHardwareSpecs": false,
    "memoryGiB": 384,
    "name": "ml.m5d.24xlarge",
    "vcpuNum": 96
   },
   {
    "_defaultOrder": 20,
    "_isFastLaunch": false,
    "category": "General purpose",
    "gpuNum": 0,
    "hideHardwareSpecs": true,
    "memoryGiB": 0,
    "name": "ml.geospatial.interactive",
    "supportedImageNames": [
     "sagemaker-geospatial-v1-0"
    ],
    "vcpuNum": 0
   },
   {
    "_defaultOrder": 21,
    "_isFastLaunch": true,
    "category": "Compute optimized",
    "gpuNum": 0,
    "hideHardwareSpecs": false,
    "memoryGiB": 4,
    "name": "ml.c5.large",
    "vcpuNum": 2
   },
   {
    "_defaultOrder": 22,
    "_isFastLaunch": false,
    "category": "Compute optimized",
    "gpuNum": 0,
    "hideHardwareSpecs": false,
    "memoryGiB": 8,
    "name": "ml.c5.xlarge",
    "vcpuNum": 4
   },
   {
    "_defaultOrder": 23,
    "_isFastLaunch": false,
    "category": "Compute optimized",
    "gpuNum": 0,
    "hideHardwareSpecs": false,
    "memoryGiB": 16,
    "name": "ml.c5.2xlarge",
    "vcpuNum": 8
   },
   {
    "_defaultOrder": 24,
    "_isFastLaunch": false,
    "category": "Compute optimized",
    "gpuNum": 0,
    "hideHardwareSpecs": false,
    "memoryGiB": 32,
    "name": "ml.c5.4xlarge",
    "vcpuNum": 16
   },
   {
    "_defaultOrder": 25,
    "_isFastLaunch": false,
    "category": "Compute optimized",
    "gpuNum": 0,
    "hideHardwareSpecs": false,
    "memoryGiB": 72,
    "name": "ml.c5.9xlarge",
    "vcpuNum": 36
   },
   {
    "_defaultOrder": 26,
    "_isFastLaunch": false,
    "category": "Compute optimized",
    "gpuNum": 0,
    "hideHardwareSpecs": false,
    "memoryGiB": 96,
    "name": "ml.c5.12xlarge",
    "vcpuNum": 48
   },
   {
    "_defaultOrder": 27,
    "_isFastLaunch": false,
    "category": "Compute optimized",
    "gpuNum": 0,
    "hideHardwareSpecs": false,
    "memoryGiB": 144,
    "name": "ml.c5.18xlarge",
    "vcpuNum": 72
   },
   {
    "_defaultOrder": 28,
    "_isFastLaunch": false,
    "category": "Compute optimized",
    "gpuNum": 0,
    "hideHardwareSpecs": false,
    "memoryGiB": 192,
    "name": "ml.c5.24xlarge",
    "vcpuNum": 96
   },
   {
    "_defaultOrder": 29,
    "_isFastLaunch": true,
    "category": "Accelerated computing",
    "gpuNum": 1,
    "hideHardwareSpecs": false,
    "memoryGiB": 16,
    "name": "ml.g4dn.xlarge",
    "vcpuNum": 4
   },
   {
    "_defaultOrder": 30,
    "_isFastLaunch": false,
    "category": "Accelerated computing",
    "gpuNum": 1,
    "hideHardwareSpecs": false,
    "memoryGiB": 32,
    "name": "ml.g4dn.2xlarge",
    "vcpuNum": 8
   },
   {
    "_defaultOrder": 31,
    "_isFastLaunch": false,
    "category": "Accelerated computing",
    "gpuNum": 1,
    "hideHardwareSpecs": false,
    "memoryGiB": 64,
    "name": "ml.g4dn.4xlarge",
    "vcpuNum": 16
   },
   {
    "_defaultOrder": 32,
    "_isFastLaunch": false,
    "category": "Accelerated computing",
    "gpuNum": 1,
    "hideHardwareSpecs": false,
    "memoryGiB": 128,
    "name": "ml.g4dn.8xlarge",
    "vcpuNum": 32
   },
   {
    "_defaultOrder": 33,
    "_isFastLaunch": false,
    "category": "Accelerated computing",
    "gpuNum": 4,
    "hideHardwareSpecs": false,
    "memoryGiB": 192,
    "name": "ml.g4dn.12xlarge",
    "vcpuNum": 48
   },
   {
    "_defaultOrder": 34,
    "_isFastLaunch": false,
    "category": "Accelerated computing",
    "gpuNum": 1,
    "hideHardwareSpecs": false,
    "memoryGiB": 256,
    "name": "ml.g4dn.16xlarge",
    "vcpuNum": 64
   },
   {
    "_defaultOrder": 35,
    "_isFastLaunch": false,
    "category": "Accelerated computing",
    "gpuNum": 1,
    "hideHardwareSpecs": false,
    "memoryGiB": 61,
    "name": "ml.p3.2xlarge",
    "vcpuNum": 8
   },
   {
    "_defaultOrder": 36,
    "_isFastLaunch": false,
    "category": "Accelerated computing",
    "gpuNum": 4,
    "hideHardwareSpecs": false,
    "memoryGiB": 244,
    "name": "ml.p3.8xlarge",
    "vcpuNum": 32
   },
   {
    "_defaultOrder": 37,
    "_isFastLaunch": false,
    "category": "Accelerated computing",
    "gpuNum": 8,
    "hideHardwareSpecs": false,
    "memoryGiB": 488,
    "name": "ml.p3.16xlarge",
    "vcpuNum": 64
   },
   {
    "_defaultOrder": 38,
    "_isFastLaunch": false,
    "category": "Accelerated computing",
    "gpuNum": 8,
    "hideHardwareSpecs": false,
    "memoryGiB": 768,
    "name": "ml.p3dn.24xlarge",
    "vcpuNum": 96
   },
   {
    "_defaultOrder": 39,
    "_isFastLaunch": false,
    "category": "Memory Optimized",
    "gpuNum": 0,
    "hideHardwareSpecs": false,
    "memoryGiB": 16,
    "name": "ml.r5.large",
    "vcpuNum": 2
   },
   {
    "_defaultOrder": 40,
    "_isFastLaunch": false,
    "category": "Memory Optimized",
    "gpuNum": 0,
    "hideHardwareSpecs": false,
    "memoryGiB": 32,
    "name": "ml.r5.xlarge",
    "vcpuNum": 4
   },
   {
    "_defaultOrder": 41,
    "_isFastLaunch": false,
    "category": "Memory Optimized",
    "gpuNum": 0,
    "hideHardwareSpecs": false,
    "memoryGiB": 64,
    "name": "ml.r5.2xlarge",
    "vcpuNum": 8
   },
   {
    "_defaultOrder": 42,
    "_isFastLaunch": false,
    "category": "Memory Optimized",
    "gpuNum": 0,
    "hideHardwareSpecs": false,
    "memoryGiB": 128,
    "name": "ml.r5.4xlarge",
    "vcpuNum": 16
   },
   {
    "_defaultOrder": 43,
    "_isFastLaunch": false,
    "category": "Memory Optimized",
    "gpuNum": 0,
    "hideHardwareSpecs": false,
    "memoryGiB": 256,
    "name": "ml.r5.8xlarge",
    "vcpuNum": 32
   },
   {
    "_defaultOrder": 44,
    "_isFastLaunch": false,
    "category": "Memory Optimized",
    "gpuNum": 0,
    "hideHardwareSpecs": false,
    "memoryGiB": 384,
    "name": "ml.r5.12xlarge",
    "vcpuNum": 48
   },
   {
    "_defaultOrder": 45,
    "_isFastLaunch": false,
    "category": "Memory Optimized",
    "gpuNum": 0,
    "hideHardwareSpecs": false,
    "memoryGiB": 512,
    "name": "ml.r5.16xlarge",
    "vcpuNum": 64
   },
   {
    "_defaultOrder": 46,
    "_isFastLaunch": false,
    "category": "Memory Optimized",
    "gpuNum": 0,
    "hideHardwareSpecs": false,
    "memoryGiB": 768,
    "name": "ml.r5.24xlarge",
    "vcpuNum": 96
   },
   {
    "_defaultOrder": 47,
    "_isFastLaunch": false,
    "category": "Accelerated computing",
    "gpuNum": 1,
    "hideHardwareSpecs": false,
    "memoryGiB": 16,
    "name": "ml.g5.xlarge",
    "vcpuNum": 4
   },
   {
    "_defaultOrder": 48,
    "_isFastLaunch": false,
    "category": "Accelerated computing",
    "gpuNum": 1,
    "hideHardwareSpecs": false,
    "memoryGiB": 32,
    "name": "ml.g5.2xlarge",
    "vcpuNum": 8
   },
   {
    "_defaultOrder": 49,
    "_isFastLaunch": false,
    "category": "Accelerated computing",
    "gpuNum": 1,
    "hideHardwareSpecs": false,
    "memoryGiB": 64,
    "name": "ml.g5.4xlarge",
    "vcpuNum": 16
   },
   {
    "_defaultOrder": 50,
    "_isFastLaunch": false,
    "category": "Accelerated computing",
    "gpuNum": 1,
    "hideHardwareSpecs": false,
    "memoryGiB": 128,
    "name": "ml.g5.8xlarge",
    "vcpuNum": 32
   },
   {
    "_defaultOrder": 51,
    "_isFastLaunch": false,
    "category": "Accelerated computing",
    "gpuNum": 1,
    "hideHardwareSpecs": false,
    "memoryGiB": 256,
    "name": "ml.g5.16xlarge",
    "vcpuNum": 64
   },
   {
    "_defaultOrder": 52,
    "_isFastLaunch": false,
    "category": "Accelerated computing",
    "gpuNum": 4,
    "hideHardwareSpecs": false,
    "memoryGiB": 192,
    "name": "ml.g5.12xlarge",
    "vcpuNum": 48
   },
   {
    "_defaultOrder": 53,
    "_isFastLaunch": false,
    "category": "Accelerated computing",
    "gpuNum": 4,
    "hideHardwareSpecs": false,
    "memoryGiB": 384,
    "name": "ml.g5.24xlarge",
    "vcpuNum": 96
   },
   {
    "_defaultOrder": 54,
    "_isFastLaunch": false,
    "category": "Accelerated computing",
    "gpuNum": 8,
    "hideHardwareSpecs": false,
    "memoryGiB": 768,
    "name": "ml.g5.48xlarge",
    "vcpuNum": 192
   },
   {
    "_defaultOrder": 55,
    "_isFastLaunch": false,
    "category": "Accelerated computing",
    "gpuNum": 8,
    "hideHardwareSpecs": false,
    "memoryGiB": 1152,
    "name": "ml.p4d.24xlarge",
    "vcpuNum": 96
   },
   {
    "_defaultOrder": 56,
    "_isFastLaunch": false,
    "category": "Accelerated computing",
    "gpuNum": 8,
    "hideHardwareSpecs": false,
    "memoryGiB": 1152,
    "name": "ml.p4de.24xlarge",
    "vcpuNum": 96
   },
   {
    "_defaultOrder": 57,
    "_isFastLaunch": false,
    "category": "Accelerated computing",
    "gpuNum": 0,
    "hideHardwareSpecs": false,
    "memoryGiB": 32,
    "name": "ml.trn1.2xlarge",
    "vcpuNum": 8
   },
   {
    "_defaultOrder": 58,
    "_isFastLaunch": false,
    "category": "Accelerated computing",
    "gpuNum": 0,
    "hideHardwareSpecs": false,
    "memoryGiB": 512,
    "name": "ml.trn1.32xlarge",
    "vcpuNum": 128
   },
   {
    "_defaultOrder": 59,
    "_isFastLaunch": false,
    "category": "Accelerated computing",
    "gpuNum": 0,
    "hideHardwareSpecs": false,
    "memoryGiB": 512,
    "name": "ml.trn1n.32xlarge",
    "vcpuNum": 128
   }
  ],
  "instance_type": "ml.t3.medium",
  "kernelspec": {
   "display_name": "Python 3 (Data Science 3.0)",
   "language": "python",
   "name": "python3__SAGEMAKER_INTERNAL__arn:aws:sagemaker:us-east-1:081325390199:image/sagemaker-data-science-310-v1"
  },
  "language_info": {
   "codemirror_mode": {
    "name": "ipython",
    "version": 3
   },
   "file_extension": ".py",
   "mimetype": "text/x-python",
   "name": "python",
   "nbconvert_exporter": "python",
   "pygments_lexer": "ipython3",
   "version": "3.10.6"
  }
 },
 "nbformat": 4,
 "nbformat_minor": 5
}
